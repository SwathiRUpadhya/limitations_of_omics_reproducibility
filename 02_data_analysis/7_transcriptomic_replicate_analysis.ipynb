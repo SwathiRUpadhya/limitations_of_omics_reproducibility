{
 "cells": [
  {
   "cell_type": "markdown",
   "id": "e35e0d6e",
   "metadata": {},
   "source": [
    "## Comparing the variation in mRNA-protein correlation explained by transcriptomic and proteomic reproducibility "
   ]
  },
  {
   "cell_type": "markdown",
   "id": "bc6d19fb",
   "metadata": {},
   "source": [
    "**Input:** \n",
    "<ul>\n",
    "    <li> Transcriptomic reprouducibility correlation</li>\n",
    "    <li> Aggregated protein reproducibility rank</li>\n",
    "    <li> Processed mRNA-protein correlation of all studies (Table S1)</li>\n",
    "</ul>          "
   ]
  },
  {
   "cell_type": "markdown",
   "id": "eb876d4d",
   "metadata": {},
   "source": [
    "#### Import Packages"
   ]
  },
  {
   "cell_type": "code",
   "execution_count": 1,
   "id": "ready-wrong",
   "metadata": {},
   "outputs": [],
   "source": [
    "import os, re\n",
    "import numpy as np \n",
    "import pandas as pd\n",
    "import matplotlib as mpl\n",
    "%matplotlib inline\n",
    "import customized_plots\n",
    "import common_utils as cu\n",
    "import graphing_utils as gu"
   ]
  },
  {
   "cell_type": "code",
   "execution_count": 2,
   "id": "deluxe-treasurer",
   "metadata": {},
   "outputs": [],
   "source": [
    "get_data_path = lambda folders, fname: os.path.normpath(os.environ['DATA_PATH']+'/'+'/'.join(folders) +'/'+ fname)\n",
    "get_local_data_path = lambda folders, fname: os.path.normpath('../local_data/'+'/'+'/'.join(folders) +'/'+ fname)"
   ]
  },
  {
   "cell_type": "code",
   "execution_count": 3,
   "id": "occasional-leone",
   "metadata": {},
   "outputs": [],
   "source": [
    "file_mRNA_protein_correlation = get_local_data_path(['results'], 'TableS1.xlsx')\n",
    "file_protein_reproducibility_ranks = get_local_data_path(['results'], 'TableS2.xlsx')\n",
    "file_transcriptomic_reproducibility_cor = get_local_data_path(['processed', 'correlation_replicates'], \n",
    "                                                              'transcriptomic_reproducibility.xlsx')\n",
    "file_ccle_residuals = get_local_data_path(['processed', 'gsea'], 'ccle_transcriptomic_resid.csv')"
   ]
  },
  {
   "cell_type": "markdown",
   "id": "concrete-snake",
   "metadata": {},
   "source": [
    "#### Load data"
   ]
  },
  {
   "cell_type": "code",
   "execution_count": 4,
   "id": "spoken-river",
   "metadata": {},
   "outputs": [
    {
     "data": {
      "text/html": [
       "<div>\n",
       "<style scoped>\n",
       "    .dataframe tbody tr th:only-of-type {\n",
       "        vertical-align: middle;\n",
       "    }\n",
       "\n",
       "    .dataframe tbody tr th {\n",
       "        vertical-align: top;\n",
       "    }\n",
       "\n",
       "    .dataframe thead th {\n",
       "        text-align: right;\n",
       "    }\n",
       "</style>\n",
       "<table border=\"1\" class=\"dataframe\">\n",
       "  <thead>\n",
       "    <tr style=\"text-align: right;\">\n",
       "      <th></th>\n",
       "      <th>CRC (2014)</th>\n",
       "      <th>BrCa (2016)</th>\n",
       "      <th>Ovarian</th>\n",
       "      <th>Colon</th>\n",
       "      <th>ccRCC</th>\n",
       "      <th>EC</th>\n",
       "      <th>LUAD</th>\n",
       "      <th>BrCa (2020)</th>\n",
       "      <th>HNSCC</th>\n",
       "      <th>GBM</th>\n",
       "      <th>NCI60</th>\n",
       "      <th>CCLE</th>\n",
       "      <th>GTEx</th>\n",
       "    </tr>\n",
       "    <tr>\n",
       "      <th>Gene symbol</th>\n",
       "      <th></th>\n",
       "      <th></th>\n",
       "      <th></th>\n",
       "      <th></th>\n",
       "      <th></th>\n",
       "      <th></th>\n",
       "      <th></th>\n",
       "      <th></th>\n",
       "      <th></th>\n",
       "      <th></th>\n",
       "      <th></th>\n",
       "      <th></th>\n",
       "      <th></th>\n",
       "    </tr>\n",
       "  </thead>\n",
       "  <tbody>\n",
       "    <tr>\n",
       "      <th>A1BG</th>\n",
       "      <td>0.123133</td>\n",
       "      <td>-0.093805</td>\n",
       "      <td>-0.078889</td>\n",
       "      <td>NaN</td>\n",
       "      <td>0.035573</td>\n",
       "      <td>0.324974</td>\n",
       "      <td>-0.119663</td>\n",
       "      <td>0.077242</td>\n",
       "      <td>0.065872</td>\n",
       "      <td>-0.192863</td>\n",
       "      <td>NaN</td>\n",
       "      <td>NaN</td>\n",
       "      <td>0.154523</td>\n",
       "    </tr>\n",
       "    <tr>\n",
       "      <th>A1CF</th>\n",
       "      <td>NaN</td>\n",
       "      <td>NaN</td>\n",
       "      <td>NaN</td>\n",
       "      <td>0.673548</td>\n",
       "      <td>0.908613</td>\n",
       "      <td>NaN</td>\n",
       "      <td>NaN</td>\n",
       "      <td>NaN</td>\n",
       "      <td>NaN</td>\n",
       "      <td>NaN</td>\n",
       "      <td>NaN</td>\n",
       "      <td>NaN</td>\n",
       "      <td>0.188605</td>\n",
       "    </tr>\n",
       "  </tbody>\n",
       "</table>\n",
       "</div>"
      ],
      "text/plain": [
       "             CRC (2014)  BrCa (2016)   Ovarian     Colon     ccRCC        EC  \\\n",
       "Gene symbol                                                                    \n",
       "A1BG           0.123133    -0.093805 -0.078889       NaN  0.035573  0.324974   \n",
       "A1CF                NaN          NaN       NaN  0.673548  0.908613       NaN   \n",
       "\n",
       "                 LUAD  BrCa (2020)     HNSCC       GBM  NCI60  CCLE      GTEx  \n",
       "Gene symbol                                                                    \n",
       "A1BG        -0.119663     0.077242  0.065872 -0.192863    NaN   NaN  0.154523  \n",
       "A1CF              NaN          NaN       NaN       NaN    NaN   NaN  0.188605  "
      ]
     },
     "execution_count": 4,
     "metadata": {},
     "output_type": "execute_result"
    }
   ],
   "source": [
    "mRNA_protein_correlation = pd.read_excel(file_mRNA_protein_correlation, sheet_name='A. mRNA-protein correlation', \n",
    "                                         index_col=0)\n",
    "mRNA_protein_correlation[:2]"
   ]
  },
  {
   "cell_type": "code",
   "execution_count": 5,
   "id": "minus-spectacular",
   "metadata": {},
   "outputs": [],
   "source": [
    "crc14 = mRNA_protein_correlation['CRC (2014)'].copy(deep=True).dropna()\n",
    "brca16 = mRNA_protein_correlation['BrCa (2016)'].copy(deep=True).dropna()\n",
    "ovca = mRNA_protein_correlation['Ovarian'].copy(deep=True).dropna()\n",
    "crc19 = mRNA_protein_correlation['Colon'].copy(deep=True).dropna()\n",
    "ccrcc = mRNA_protein_correlation['ccRCC'].copy(deep=True).dropna()\n",
    "ec = mRNA_protein_correlation['EC'].copy(deep=True).dropna()\n",
    "luad = mRNA_protein_correlation['LUAD'].copy(deep=True).dropna()\n",
    "brca20 = mRNA_protein_correlation['BrCa (2020)'].copy(deep=True).dropna()\n",
    "hnscc = mRNA_protein_correlation['HNSCC'].copy(deep=True).dropna()\n",
    "gbm = mRNA_protein_correlation['GBM'].copy(deep=True).dropna()\n",
    "ccle = mRNA_protein_correlation['CCLE'].copy(deep=True).dropna()\n",
    "gtex = mRNA_protein_correlation['GTEx'].copy(deep=True).dropna()"
   ]
  },
  {
   "cell_type": "code",
   "execution_count": 6,
   "id": "interior-applicant",
   "metadata": {},
   "outputs": [
    {
     "data": {
      "text/plain": [
       "A1BG    0.575671\n",
       "A2M     0.501120\n",
       "Name: Aggregated Reproducibility Rank, dtype: float64"
      ]
     },
     "execution_count": 6,
     "metadata": {},
     "output_type": "execute_result"
    }
   ],
   "source": [
    "aggregated_rank = pd.read_excel(file_protein_reproducibility_ranks, sheet_name='B. Protein reproducibility rank', \n",
    "                                index_col=0, usecols=['Unnamed: 0', 'Aggregated Reproducibility Rank'], \n",
    "                                squeeze=True).dropna()\n",
    "aggregated_rank[:2]"
   ]
  },
  {
   "cell_type": "code",
   "execution_count": 7,
   "id": "eccd17ce",
   "metadata": {},
   "outputs": [
    {
     "data": {
      "text/plain": [
       "A1BG      0.758553\n",
       "A4GALT    0.866460\n",
       "Name: CCLE-Klijn, dtype: float64"
      ]
     },
     "execution_count": 7,
     "metadata": {},
     "output_type": "execute_result"
    }
   ],
   "source": [
    "correlation_transcriptomics = pd.read_excel(file_transcriptomic_reproducibility_cor, sheet_name='Reproducibility', \n",
    "                                            usecols=['Unnamed: 0', 'CCLE-Klijn'], index_col=0, squeeze=True).dropna()\n",
    "correlation_transcriptomics[:2]"
   ]
  },
  {
   "cell_type": "code",
   "execution_count": 8,
   "id": "nearby-carbon",
   "metadata": {},
   "outputs": [],
   "source": [
    "from matplotlib import pyplot as plt\n",
    "plt.style.use(['seaborn-white'])\n",
    "import seaborn as sns"
   ]
  },
  {
   "cell_type": "code",
   "execution_count": 9,
   "id": "running-ribbon",
   "metadata": {},
   "outputs": [],
   "source": [
    "import statsmodels\n",
    "import statsmodels.api as sm\n",
    "import statsmodels.formula.api as smf\n",
    "from matplotlib_venn import venn2"
   ]
  },
  {
   "cell_type": "code",
   "execution_count": 10,
   "id": "athletic-oracle",
   "metadata": {},
   "outputs": [],
   "source": [
    "def ols_fit(x, y, match_subsets=True):\n",
    "    x_subset, y_subset = cu.get_matched_index(x, y) \n",
    "    est = sm.OLS(y_subset, sm.add_constant(x_subset.astype(float))).fit()\n",
    "    return est"
   ]
  },
  {
   "cell_type": "code",
   "execution_count": 11,
   "id": "baking-swimming",
   "metadata": {},
   "outputs": [],
   "source": [
    "all_studies = [brca16, ccrcc, ccle, ovca, crc19, crc14, brca20, gtex, ec, luad, hnscc, gbm]"
   ]
  },
  {
   "cell_type": "code",
   "execution_count": 12,
   "id": "6d8bc654",
   "metadata": {},
   "outputs": [],
   "source": [
    "def plot_venn(set1, set2, ax, title, labels):\n",
    "    plot = venn2([set1, set2], ax=ax, set_colors=['#ddaa33', '#004488'], set_labels=labels)\n",
    "    for text in plot.set_labels:\n",
    "        text.set_fontsize(14)\n",
    "    for text in plot.subset_labels:\n",
    "        text.set_fontsize(14)\n",
    "    ax.set_title(title)\n",
    "    \n",
    "sample_title = '# of Samples'\n",
    "proteins_title = '# of Proteins'"
   ]
  },
  {
   "cell_type": "code",
   "execution_count": 13,
   "id": "1ad777d5",
   "metadata": {},
   "outputs": [
    {
     "data": {
      "image/png": "[encoded data removed]",
      "text/plain": [
       "<Figure size 600x400 with 1 Axes>"
      ]
     },
     "metadata": {},
     "output_type": "display_data"
    }
   ],
   "source": [
    "labels=['Transcriptomic data', 'Proteomic data']\n",
    "figure, axes = plt.subplots(1,1)\n",
    "plot_venn(set(correlation_transcriptomics.index), set(aggregated_rank.index), axes, proteins_title, labels)"
   ]
  },
  {
   "cell_type": "markdown",
   "id": "03bcf5e4",
   "metadata": {},
   "source": [
    "#### A. Analysing the variation in mRNA-protein correlation explained by transcriptomic and proteomic reproducibility"
   ]
  },
  {
   "cell_type": "code",
   "execution_count": 14,
   "id": "liked-stream",
   "metadata": {},
   "outputs": [
    {
     "name": "stdout",
     "output_type": "stream",
     "text": [
      "Number of common proteins between CCLE transcriptomic and aggregated data:  4795\n"
     ]
    }
   ],
   "source": [
    "# Ensuring regressing both factors for the same number of proteins\n",
    "combined_df = pd.concat([aggregated_rank, correlation_transcriptomics], axis=1, join='inner')\n",
    "combined_df.columns=['Aggregated Ranks', 'Transcriptomic replicate correlation']\n",
    "print(\"Number of common proteins between CCLE transcriptomic and aggregated data: \", len(combined_df))"
   ]
  },
  {
   "cell_type": "code",
   "execution_count": 15,
   "id": "62ed6597",
   "metadata": {},
   "outputs": [],
   "source": [
    "assert combined_df.isnull().sum().sum() == 0"
   ]
  },
  {
   "cell_type": "code",
   "execution_count": 16,
   "id": "clean-supervision",
   "metadata": {},
   "outputs": [
    {
     "name": "stdout",
     "output_type": "stream",
     "text": [
      "Regressing mRNA-protein correlation using protein or transcriptomic reproducibility factors\n",
      "Regressing mRNA-protein correlation using CCLE Transcriptomic and Aggregated subset\n"
     ]
    }
   ],
   "source": [
    "rsquared_transcriptomic = {}\n",
    "rsquared_aggregated_rank = {}\n",
    "rsquared_transcriptomic_aggregated_rank = {}\n",
    "print(\"Regressing mRNA-protein correlation using protein or transcriptomic reproducibility factors\")\n",
    "for study in all_studies: \n",
    "    rsquared_transcriptomic[study.name] = round(ols_fit(x=combined_df['Transcriptomic replicate correlation'], \n",
    "                                                        y=study).rsquared_adj*100, 2)\n",
    "    rsquared_aggregated_rank[study.name] = round(ols_fit(x=combined_df['Aggregated Ranks'], y=study).rsquared_adj*100, 2)\n",
    "    \n",
    "    rsquared_transcriptomic_aggregated_rank = {}\n",
    "\n",
    "print(\"Regressing mRNA-protein correlation using CCLE Transcriptomic and Aggregated subset\")\n",
    "for study in all_studies: \n",
    "    rsquared_transcriptomic_aggregated_rank[study.name] = round(ols_fit(x=combined_df, y = study).rsquared_adj * 100, 2)"
   ]
  },
  {
   "cell_type": "code",
   "execution_count": 17,
   "id": "seventh-language",
   "metadata": {},
   "outputs": [],
   "source": [
    "args = gu.additional_plot_parameters(xlab=\"CCLE - Klijn Transcriptomic Correlation\", ylab=\"Density\")"
   ]
  },
  {
   "cell_type": "code",
   "execution_count": 18,
   "id": "waiting-cancer",
   "metadata": {},
   "outputs": [
    {
     "data": {
      "text/html": [
       "<div>\n",
       "<style scoped>\n",
       "    .dataframe tbody tr th:only-of-type {\n",
       "        vertical-align: middle;\n",
       "    }\n",
       "\n",
       "    .dataframe tbody tr th {\n",
       "        vertical-align: top;\n",
       "    }\n",
       "\n",
       "    .dataframe thead th {\n",
       "        text-align: right;\n",
       "    }\n",
       "</style>\n",
       "<table border=\"1\" class=\"dataframe\">\n",
       "  <thead>\n",
       "    <tr style=\"text-align: right;\">\n",
       "      <th>Factor</th>\n",
       "      <th>Data</th>\n",
       "      <th>Aggregated Protein\\nReproducibility Rank</th>\n",
       "      <th>CCLE Transcriptomic\\nReproducibility</th>\n",
       "      <th>CCLE Transcriptomic +\\nAggregated Protein\\nReproducibility Rank</th>\n",
       "      <th>Proteins Count</th>\n",
       "    </tr>\n",
       "  </thead>\n",
       "  <tbody>\n",
       "    <tr>\n",
       "      <th>0</th>\n",
       "      <td>BrCa (2016)</td>\n",
       "      <td>11.59</td>\n",
       "      <td>8.01</td>\n",
       "      <td>14.40</td>\n",
       "      <td>4067</td>\n",
       "    </tr>\n",
       "    <tr>\n",
       "      <th>1</th>\n",
       "      <td>BrCa (2020)</td>\n",
       "      <td>15.60</td>\n",
       "      <td>17.64</td>\n",
       "      <td>24.36</td>\n",
       "      <td>4489</td>\n",
       "    </tr>\n",
       "    <tr>\n",
       "      <th>2</th>\n",
       "      <td>CCLE</td>\n",
       "      <td>25.01</td>\n",
       "      <td>40.33</td>\n",
       "      <td>48.72</td>\n",
       "      <td>4676</td>\n",
       "    </tr>\n",
       "    <tr>\n",
       "      <th>3</th>\n",
       "      <td>CRC (2014)</td>\n",
       "      <td>22.04</td>\n",
       "      <td>8.96</td>\n",
       "      <td>23.99</td>\n",
       "      <td>2761</td>\n",
       "    </tr>\n",
       "    <tr>\n",
       "      <th>4</th>\n",
       "      <td>Colon</td>\n",
       "      <td>17.46</td>\n",
       "      <td>10.37</td>\n",
       "      <td>20.62</td>\n",
       "      <td>4014</td>\n",
       "    </tr>\n",
       "    <tr>\n",
       "      <th>5</th>\n",
       "      <td>EC</td>\n",
       "      <td>19.15</td>\n",
       "      <td>16.31</td>\n",
       "      <td>26.14</td>\n",
       "      <td>4746</td>\n",
       "    </tr>\n",
       "    <tr>\n",
       "      <th>6</th>\n",
       "      <td>GBM</td>\n",
       "      <td>15.24</td>\n",
       "      <td>16.84</td>\n",
       "      <td>23.66</td>\n",
       "      <td>4721</td>\n",
       "    </tr>\n",
       "    <tr>\n",
       "      <th>7</th>\n",
       "      <td>GTEx</td>\n",
       "      <td>16.27</td>\n",
       "      <td>16.88</td>\n",
       "      <td>24.41</td>\n",
       "      <td>4479</td>\n",
       "    </tr>\n",
       "    <tr>\n",
       "      <th>8</th>\n",
       "      <td>HNSCC</td>\n",
       "      <td>15.36</td>\n",
       "      <td>13.29</td>\n",
       "      <td>21.09</td>\n",
       "      <td>4723</td>\n",
       "    </tr>\n",
       "    <tr>\n",
       "      <th>9</th>\n",
       "      <td>LUAD</td>\n",
       "      <td>14.92</td>\n",
       "      <td>11.41</td>\n",
       "      <td>19.47</td>\n",
       "      <td>4418</td>\n",
       "    </tr>\n",
       "    <tr>\n",
       "      <th>10</th>\n",
       "      <td>Ovarian</td>\n",
       "      <td>24.06</td>\n",
       "      <td>9.88</td>\n",
       "      <td>26.29</td>\n",
       "      <td>4231</td>\n",
       "    </tr>\n",
       "    <tr>\n",
       "      <th>11</th>\n",
       "      <td>ccRCC</td>\n",
       "      <td>12.80</td>\n",
       "      <td>17.17</td>\n",
       "      <td>22.04</td>\n",
       "      <td>4462</td>\n",
       "    </tr>\n",
       "  </tbody>\n",
       "</table>\n",
       "</div>"
      ],
      "text/plain": [
       "Factor         Data  Aggregated Protein\\nReproducibility Rank  \\\n",
       "0       BrCa (2016)                                     11.59   \n",
       "1       BrCa (2020)                                     15.60   \n",
       "2              CCLE                                     25.01   \n",
       "3        CRC (2014)                                     22.04   \n",
       "4             Colon                                     17.46   \n",
       "5                EC                                     19.15   \n",
       "6               GBM                                     15.24   \n",
       "7              GTEx                                     16.27   \n",
       "8             HNSCC                                     15.36   \n",
       "9              LUAD                                     14.92   \n",
       "10          Ovarian                                     24.06   \n",
       "11            ccRCC                                     12.80   \n",
       "\n",
       "Factor  CCLE Transcriptomic\\nReproducibility  \\\n",
       "0                                       8.01   \n",
       "1                                      17.64   \n",
       "2                                      40.33   \n",
       "3                                       8.96   \n",
       "4                                      10.37   \n",
       "5                                      16.31   \n",
       "6                                      16.84   \n",
       "7                                      16.88   \n",
       "8                                      13.29   \n",
       "9                                      11.41   \n",
       "10                                      9.88   \n",
       "11                                     17.17   \n",
       "\n",
       "Factor  CCLE Transcriptomic +\\nAggregated Protein\\nReproducibility Rank  \\\n",
       "0                                                   14.40                 \n",
       "1                                                   24.36                 \n",
       "2                                                   48.72                 \n",
       "3                                                   23.99                 \n",
       "4                                                   20.62                 \n",
       "5                                                   26.14                 \n",
       "6                                                   23.66                 \n",
       "7                                                   24.41                 \n",
       "8                                                   21.09                 \n",
       "9                                                   19.47                 \n",
       "10                                                  26.29                 \n",
       "11                                                  22.04                 \n",
       "\n",
       "Factor  Proteins Count  \n",
       "0                 4067  \n",
       "1                 4489  \n",
       "2                 4676  \n",
       "3                 2761  \n",
       "4                 4014  \n",
       "5                 4746  \n",
       "6                 4721  \n",
       "7                 4479  \n",
       "8                 4723  \n",
       "9                 4418  \n",
       "10                4231  \n",
       "11                4462  "
      ]
     },
     "metadata": {},
     "output_type": "display_data"
    }
   ],
   "source": [
    "proteins_count = {study.name: len(combined_df[combined_df.index.isin(study.index)]) for study in all_studies}\n",
    "r2_reproducibility_ranks = cu.dataframe_from_dict(['CCLE Transcriptomic\\nReproducibility', \n",
    "                                  'Aggregated Protein\\nReproducibility Rank', \n",
    "                                  'CCLE Transcriptomic +\\nAggregated Protein\\nReproducibility Rank', 'Proteins Count'], \n",
    "                                 rsquared_transcriptomic, rsquared_aggregated_rank,\n",
    "                                 rsquared_transcriptomic_aggregated_rank, proteins_count, \n",
    "                                                  repeat_factor=len(rsquared_transcriptomic))"
   ]
  },
  {
   "cell_type": "code",
   "execution_count": 19,
   "id": "endless-style",
   "metadata": {},
   "outputs": [],
   "source": [
    "get_order = lambda df: df.groupby(by=['Data']).sum().sort_values('R-squared').index.values"
   ]
  },
  {
   "cell_type": "code",
   "execution_count": 20,
   "id": "practical-savannah",
   "metadata": {},
   "outputs": [
    {
     "data": {
      "image/png": "[encoded data removed]",
      "text/plain": [
       "<Figure size 450x1000 with 2 Axes>"
      ]
     },
     "metadata": {},
     "output_type": "display_data"
    }
   ],
   "source": [
    "with plt.rc_context({'axes.spines.right': False, 'axes.spines.top': False,'axes.spines.left': True, \n",
    "                     'axes.linewidth': 0.8, 'xtick.bottom': True}):\n",
    "    figure, axes = plt.subplots(2, 1, figsize=(4.5,10), gridspec_kw={'height_ratios': [1.25, 2.5]})\n",
    "    customized_plots.draw_histogram(axes[0], correlation_transcriptomics, args)\n",
    "    customized_plots.draw_dotplot(ax=axes[1], x='R-squared', y='Data', data=r2_reproducibility_ranks, hue='Factor',  \n",
    "                                  order=get_order(r2_reproducibility_ranks),\n",
    "                                  args=gu.additional_plot_parameters(xlab=\"R-squared (%)\", ylab=None, \n",
    "                                                                     yaxis_grid=False, xaxis_grid=True,  \n",
    "                                                                     palette=['#E69F00', '#56B4E9', \n",
    "                                                                              '#009E73', '#0072B2'],\n",
    "                                                                     anchor_legend_at=(1.6, 1)))\n",
    "    plt.subplots_adjust(hspace=0.35)\n",
    "#     figure.savefig('../figures/Figure6.svg', bbox_inches='tight', dpi=300)"
   ]
  },
  {
   "cell_type": "markdown",
   "id": "7ade1837",
   "metadata": {},
   "source": [
    "#### B. Performing Likelihood ratio test to ensure the models with just transcriptomic / proteomic data are different from the combined model"
   ]
  },
  {
   "cell_type": "code",
   "execution_count": 21,
   "id": "christian-michigan",
   "metadata": {},
   "outputs": [],
   "source": [
    "from scipy import stats\n",
    "stats.chisqprob = lambda chisq, df: stats.chi2.sf(chisq, df)"
   ]
  },
  {
   "cell_type": "code",
   "execution_count": 22,
   "id": "protecting-decline",
   "metadata": {},
   "outputs": [],
   "source": [
    "def lrtest(llmin, llmax):\n",
    "    lr = 2 * (llmax - llmin)\n",
    "    p = stats.chisqprob(lr, 1) # llmax has 1 dof more than llmin\n",
    "    return lr, p"
   ]
  },
  {
   "cell_type": "code",
   "execution_count": 23,
   "id": "static-uzbekistan",
   "metadata": {},
   "outputs": [
    {
     "name": "stdout",
     "output_type": "stream",
     "text": [
      "BrCa (2016)\n",
      "Transcriptomic v/s combined model : LR test statistic = 293.86,  p value = 7.162e-66\n",
      "Proteomic v/s combined model : LR test statistic = 132.15,  p value = 1.3905e-30\n",
      "\n",
      "ccRCC\n",
      "Transcriptomic v/s combined model : LR test statistic = 271.36,  p value = 5.7355e-61\n",
      "Proteomic v/s combined model : LR test statistic = 500.64,  p value = 6.8969e-111\n",
      "\n",
      "CCLE\n",
      "Transcriptomic v/s combined model : LR test statistic = 710.17,  p value = 1.8329e-156\n",
      "Proteomic v/s combined model : LR test statistic = 1778.64,  p value = 0\n",
      "\n",
      "Ovarian\n",
      "Transcriptomic v/s combined model : LR test statistic = 851.24,  p value = 3.9109e-187\n",
      "Proteomic v/s combined model : LR test statistic = 126.80,  p value = 2.0495e-29\n",
      "\n",
      "Colon\n",
      "Transcriptomic v/s combined model : LR test statistic = 488.37,  p value = 3.23e-108\n",
      "Proteomic v/s combined model : LR test statistic = 157.80,  p value = 3.4256e-36\n",
      "\n",
      "CRC (2014)\n",
      "Transcriptomic v/s combined model : LR test statistic = 499.04,  p value = 1.5385e-110\n",
      "Proteomic v/s combined model : LR test statistic = 70.97,  p value = 3.6295e-17\n",
      "\n",
      "BrCa (2020)\n",
      "Transcriptomic v/s combined model : LR test statistic = 383.32,  p value = 2.3512e-85\n",
      "Proteomic v/s combined model : LR test statistic = 493.24,  p value = 2.8174e-109\n",
      "\n",
      "GTEx\n",
      "Transcriptomic v/s combined model : LR test statistic = 426.68,  p value = 8.5647e-95\n",
      "Proteomic v/s combined model : LR test statistic = 459.46,  p value = 6.3147e-102\n",
      "\n",
      "EC\n",
      "Transcriptomic v/s combined model : LR test statistic = 593.76,  p value = 3.8196e-131\n",
      "Proteomic v/s combined model : LR test statistic = 429.66,  p value = 1.9226e-95\n",
      "\n",
      "LUAD\n",
      "Transcriptomic v/s combined model : LR test statistic = 422.89,  p value = 5.7277e-94\n",
      "Proteomic v/s combined model : LR test statistic = 244.12,  p value = 4.9668e-55\n",
      "\n",
      "HNSCC\n",
      "Transcriptomic v/s combined model : LR test statistic = 446.22,  p value = 4.7904e-99\n",
      "Proteomic v/s combined model : LR test statistic = 331.92,  p value = 3.662e-74\n",
      "\n",
      "GBM\n",
      "Transcriptomic v/s combined model : LR test statistic = 405.15,  p value = 4.1583e-90\n",
      "Proteomic v/s combined model : LR test statistic = 495.00,  p value = 1.1618e-109\n",
      "\n"
     ]
    }
   ],
   "source": [
    "for study in all_studies: \n",
    "    print(study.name)\n",
    "    llf_transcriptomic = ols_fit(x=combined_df['Transcriptomic replicate correlation'], y = study).llf\n",
    "    llf_proteomic = ols_fit(x=combined_df['Aggregated Ranks'], y = study).llf\n",
    "    llf_combined = ols_fit(x=combined_df, y=study).llf    \n",
    "    \n",
    "    lr, p = lrtest(llf_transcriptomic, llf_combined)\n",
    "    print('Transcriptomic v/s combined model : LR test statistic = {:.2f},  p value = {:.5g}'.format(lr, p))\n",
    "    lr, p = lrtest(llf_proteomic, llf_combined)\n",
    "    print('Proteomic v/s combined model : LR test statistic = {:.2f},  p value = {:.5g}\\n'.format(lr, p))"
   ]
  },
  {
   "cell_type": "markdown",
   "id": "cfff60d0",
   "metadata": {},
   "source": [
    "<div class=\"alert alert-block alert-success\">\n",
    "    Based on the above results where p < 0.001, we understand that the combined model is better than the individual model for all the studies considered</div"
   ]
  },
  {
   "cell_type": "markdown",
   "id": "4aaf0385",
   "metadata": {},
   "source": [
    "### C. 18 random cancer cell lines "
   ]
  },
  {
   "cell_type": "code",
   "execution_count": 24,
   "id": "c7d0851c",
   "metadata": {},
   "outputs": [
    {
     "data": {
      "text/html": [
       "<div>\n",
       "<style scoped>\n",
       "    .dataframe tbody tr th:only-of-type {\n",
       "        vertical-align: middle;\n",
       "    }\n",
       "\n",
       "    .dataframe tbody tr th {\n",
       "        vertical-align: top;\n",
       "    }\n",
       "\n",
       "    .dataframe thead th {\n",
       "        text-align: right;\n",
       "    }\n",
       "</style>\n",
       "<table border=\"1\" class=\"dataframe\">\n",
       "  <thead>\n",
       "    <tr style=\"text-align: right;\">\n",
       "      <th></th>\n",
       "      <th>Iteration0</th>\n",
       "      <th>Iteration1</th>\n",
       "      <th>Iteration2</th>\n",
       "      <th>Iteration3</th>\n",
       "      <th>Iteration4</th>\n",
       "      <th>Iteration5</th>\n",
       "      <th>Iteration6</th>\n",
       "      <th>Iteration7</th>\n",
       "      <th>Iteration8</th>\n",
       "      <th>Iteration9</th>\n",
       "      <th>...</th>\n",
       "      <th>Iteration90</th>\n",
       "      <th>Iteration91</th>\n",
       "      <th>Iteration92</th>\n",
       "      <th>Iteration93</th>\n",
       "      <th>Iteration94</th>\n",
       "      <th>Iteration95</th>\n",
       "      <th>Iteration96</th>\n",
       "      <th>Iteration97</th>\n",
       "      <th>Iteration98</th>\n",
       "      <th>Iteration99</th>\n",
       "    </tr>\n",
       "  </thead>\n",
       "  <tbody>\n",
       "    <tr>\n",
       "      <th>A1BG</th>\n",
       "      <td>0.690725</td>\n",
       "      <td>0.844931</td>\n",
       "      <td>0.423109</td>\n",
       "      <td>0.582118</td>\n",
       "      <td>0.623627</td>\n",
       "      <td>0.846745</td>\n",
       "      <td>0.595515</td>\n",
       "      <td>0.804457</td>\n",
       "      <td>0.852000</td>\n",
       "      <td>0.726556</td>\n",
       "      <td>...</td>\n",
       "      <td>0.528302</td>\n",
       "      <td>0.615976</td>\n",
       "      <td>0.525622</td>\n",
       "      <td>0.636077</td>\n",
       "      <td>0.727915</td>\n",
       "      <td>0.727572</td>\n",
       "      <td>0.873887</td>\n",
       "      <td>0.716322</td>\n",
       "      <td>0.884726</td>\n",
       "      <td>0.743724</td>\n",
       "    </tr>\n",
       "    <tr>\n",
       "      <th>A4GALT</th>\n",
       "      <td>0.879610</td>\n",
       "      <td>0.939398</td>\n",
       "      <td>0.853052</td>\n",
       "      <td>0.824688</td>\n",
       "      <td>0.941035</td>\n",
       "      <td>0.917621</td>\n",
       "      <td>0.556714</td>\n",
       "      <td>0.844312</td>\n",
       "      <td>0.860088</td>\n",
       "      <td>0.898034</td>\n",
       "      <td>...</td>\n",
       "      <td>0.813951</td>\n",
       "      <td>0.923078</td>\n",
       "      <td>0.891868</td>\n",
       "      <td>0.685732</td>\n",
       "      <td>0.933743</td>\n",
       "      <td>0.937932</td>\n",
       "      <td>0.944139</td>\n",
       "      <td>0.738310</td>\n",
       "      <td>0.725518</td>\n",
       "      <td>0.914706</td>\n",
       "    </tr>\n",
       "  </tbody>\n",
       "</table>\n",
       "<p>2 rows × 100 columns</p>\n",
       "</div>"
      ],
      "text/plain": [
       "        Iteration0  Iteration1  Iteration2  Iteration3  Iteration4  \\\n",
       "A1BG      0.690725    0.844931    0.423109    0.582118    0.623627   \n",
       "A4GALT    0.879610    0.939398    0.853052    0.824688    0.941035   \n",
       "\n",
       "        Iteration5  Iteration6  Iteration7  Iteration8  Iteration9  ...  \\\n",
       "A1BG      0.846745    0.595515    0.804457    0.852000    0.726556  ...   \n",
       "A4GALT    0.917621    0.556714    0.844312    0.860088    0.898034  ...   \n",
       "\n",
       "        Iteration90  Iteration91  Iteration92  Iteration93  Iteration94  \\\n",
       "A1BG       0.528302     0.615976     0.525622     0.636077     0.727915   \n",
       "A4GALT     0.813951     0.923078     0.891868     0.685732     0.933743   \n",
       "\n",
       "        Iteration95  Iteration96  Iteration97  Iteration98  Iteration99  \n",
       "A1BG       0.727572     0.873887     0.716322     0.884726     0.743724  \n",
       "A4GALT     0.937932     0.944139     0.738310     0.725518     0.914706  \n",
       "\n",
       "[2 rows x 100 columns]"
      ]
     },
     "execution_count": 24,
     "metadata": {},
     "output_type": "execute_result"
    }
   ],
   "source": [
    "correlation_random_transcriptomics = pd.read_excel(file_transcriptomic_reproducibility_cor, index_col=0,\n",
    "                                            sheet_name='Random Reproducibility')\n",
    "correlation_random_transcriptomics[:2]"
   ]
  },
  {
   "cell_type": "code",
   "execution_count": 25,
   "id": "c34d807e",
   "metadata": {},
   "outputs": [],
   "source": [
    "rsquared_random_transcriptomic = dict.fromkeys([study.name for study in all_studies], 0)\n",
    "\n",
    "for i in range(99):\n",
    "    combined_df = pd.concat([aggregated_rank, correlation_random_transcriptomics['Iteration'+str(i+1)]], \n",
    "                            axis=1, join='inner')\n",
    "    combined_df.columns=['Aggregated Ranks', 'Transcriptomic reproducibility']\n",
    "    assert combined_df.isnull().sum().sum() == 0\n",
    "    for study in all_studies:\n",
    "        rsquared_random_transcriptomic[study.name] = rsquared_random_transcriptomic[study.name] + \\\n",
    "                                            round(ols_fit(x=combined_df['Transcriptomic reproducibility'], \n",
    "                                                        y=study).rsquared_adj*100, 2)"
   ]
  },
  {
   "cell_type": "code",
   "execution_count": 26,
   "id": "adf356d4",
   "metadata": {},
   "outputs": [],
   "source": [
    "for study in all_studies:\n",
    "    rsquared_random_transcriptomic[study.name] = rsquared_random_transcriptomic[study.name] / 100"
   ]
  },
  {
   "cell_type": "code",
   "execution_count": 27,
   "id": "7c8cccbf",
   "metadata": {},
   "outputs": [
    {
     "data": {
      "text/html": [
       "<div>\n",
       "<style scoped>\n",
       "    .dataframe tbody tr th:only-of-type {\n",
       "        vertical-align: middle;\n",
       "    }\n",
       "\n",
       "    .dataframe tbody tr th {\n",
       "        vertical-align: top;\n",
       "    }\n",
       "\n",
       "    .dataframe thead th {\n",
       "        text-align: right;\n",
       "    }\n",
       "</style>\n",
       "<table border=\"1\" class=\"dataframe\">\n",
       "  <thead>\n",
       "    <tr style=\"text-align: right;\">\n",
       "      <th>Factor</th>\n",
       "      <th>Data</th>\n",
       "      <th>Aggregated Protein\\nReproducibility Rank</th>\n",
       "      <th>CCLE Random\\nTranscriptomic Reproducibility</th>\n",
       "      <th>Proteins Count</th>\n",
       "    </tr>\n",
       "  </thead>\n",
       "  <tbody>\n",
       "    <tr>\n",
       "      <th>0</th>\n",
       "      <td>BrCa (2016)</td>\n",
       "      <td>11.59</td>\n",
       "      <td>3.6921</td>\n",
       "      <td>4067</td>\n",
       "    </tr>\n",
       "    <tr>\n",
       "      <th>1</th>\n",
       "      <td>BrCa (2020)</td>\n",
       "      <td>15.60</td>\n",
       "      <td>8.0546</td>\n",
       "      <td>4489</td>\n",
       "    </tr>\n",
       "    <tr>\n",
       "      <th>2</th>\n",
       "      <td>CCLE</td>\n",
       "      <td>25.01</td>\n",
       "      <td>18.0312</td>\n",
       "      <td>4676</td>\n",
       "    </tr>\n",
       "    <tr>\n",
       "      <th>3</th>\n",
       "      <td>CRC (2014)</td>\n",
       "      <td>22.04</td>\n",
       "      <td>4.0090</td>\n",
       "      <td>2761</td>\n",
       "    </tr>\n",
       "    <tr>\n",
       "      <th>4</th>\n",
       "      <td>Colon</td>\n",
       "      <td>17.46</td>\n",
       "      <td>4.6819</td>\n",
       "      <td>4014</td>\n",
       "    </tr>\n",
       "    <tr>\n",
       "      <th>5</th>\n",
       "      <td>EC</td>\n",
       "      <td>19.15</td>\n",
       "      <td>7.5033</td>\n",
       "      <td>4746</td>\n",
       "    </tr>\n",
       "    <tr>\n",
       "      <th>6</th>\n",
       "      <td>GBM</td>\n",
       "      <td>15.24</td>\n",
       "      <td>7.5888</td>\n",
       "      <td>4721</td>\n",
       "    </tr>\n",
       "    <tr>\n",
       "      <th>7</th>\n",
       "      <td>GTEx</td>\n",
       "      <td>16.27</td>\n",
       "      <td>7.5959</td>\n",
       "      <td>4479</td>\n",
       "    </tr>\n",
       "    <tr>\n",
       "      <th>8</th>\n",
       "      <td>HNSCC</td>\n",
       "      <td>15.36</td>\n",
       "      <td>6.1327</td>\n",
       "      <td>4723</td>\n",
       "    </tr>\n",
       "    <tr>\n",
       "      <th>9</th>\n",
       "      <td>LUAD</td>\n",
       "      <td>14.92</td>\n",
       "      <td>5.2468</td>\n",
       "      <td>4418</td>\n",
       "    </tr>\n",
       "    <tr>\n",
       "      <th>10</th>\n",
       "      <td>Ovarian</td>\n",
       "      <td>24.06</td>\n",
       "      <td>4.4280</td>\n",
       "      <td>4231</td>\n",
       "    </tr>\n",
       "    <tr>\n",
       "      <th>11</th>\n",
       "      <td>ccRCC</td>\n",
       "      <td>12.80</td>\n",
       "      <td>7.6765</td>\n",
       "      <td>4462</td>\n",
       "    </tr>\n",
       "  </tbody>\n",
       "</table>\n",
       "</div>"
      ],
      "text/plain": [
       "Factor         Data  Aggregated Protein\\nReproducibility Rank  \\\n",
       "0       BrCa (2016)                                     11.59   \n",
       "1       BrCa (2020)                                     15.60   \n",
       "2              CCLE                                     25.01   \n",
       "3        CRC (2014)                                     22.04   \n",
       "4             Colon                                     17.46   \n",
       "5                EC                                     19.15   \n",
       "6               GBM                                     15.24   \n",
       "7              GTEx                                     16.27   \n",
       "8             HNSCC                                     15.36   \n",
       "9              LUAD                                     14.92   \n",
       "10          Ovarian                                     24.06   \n",
       "11            ccRCC                                     12.80   \n",
       "\n",
       "Factor  CCLE Random\\nTranscriptomic Reproducibility  Proteins Count  \n",
       "0                                            3.6921            4067  \n",
       "1                                            8.0546            4489  \n",
       "2                                           18.0312            4676  \n",
       "3                                            4.0090            2761  \n",
       "4                                            4.6819            4014  \n",
       "5                                            7.5033            4746  \n",
       "6                                            7.5888            4721  \n",
       "7                                            7.5959            4479  \n",
       "8                                            6.1327            4723  \n",
       "9                                            5.2468            4418  \n",
       "10                                           4.4280            4231  \n",
       "11                                           7.6765            4462  "
      ]
     },
     "metadata": {},
     "output_type": "display_data"
    }
   ],
   "source": [
    "proteins_count = {study.name: len(combined_df[combined_df.index.isin(study.index)]) for study in all_studies}\n",
    "r2_random_aggregated = cu.dataframe_from_dict(['CCLE Random\\nTranscriptomic Reproducibility', \n",
    "                                               'Aggregated Protein\\nReproducibility Rank', 'Proteins Count'], \n",
    "                       rsquared_random_transcriptomic, rsquared_aggregated_rank,proteins_count,\n",
    "                       repeat_factor=len(rsquared_random_transcriptomic))\n",
    "r2_random_aggregated = r2_random_aggregated.pivot(index='Data',values='R-squared', \n",
    "                                                  columns='Factor').rename(columns=lambda x: re.sub('\\n', ' ', x))\n",
    "r2_random_aggregated['Times'] = r2_random_aggregated['Aggregated Protein Reproducibility Rank'] / \\\n",
    "                                r2_random_aggregated['CCLE Random Transcriptomic Reproducibility']"
   ]
  },
  {
   "cell_type": "code",
   "execution_count": 28,
   "id": "01c10de2",
   "metadata": {},
   "outputs": [
    {
     "data": {
      "text/plain": [
       "2.9034579621693073"
      ]
     },
     "execution_count": 28,
     "metadata": {},
     "output_type": "execute_result"
    }
   ],
   "source": [
    "r2_random_aggregated['Times'].mean()"
   ]
  }
 ],
 "metadata": {
  "kernelspec": {
   "display_name": "Python 3 (ipykernel)",
   "language": "python",
   "name": "python3"
  },
  "language_info": {
   "codemirror_mode": {
    "name": "ipython",
    "version": 3
   },
   "file_extension": ".py",
   "mimetype": "text/x-python",
   "name": "python",
   "nbconvert_exporter": "python",
   "pygments_lexer": "ipython3",
   "version": "3.8.10"
  }
 },
 "nbformat": 4,
 "nbformat_minor": 5
}

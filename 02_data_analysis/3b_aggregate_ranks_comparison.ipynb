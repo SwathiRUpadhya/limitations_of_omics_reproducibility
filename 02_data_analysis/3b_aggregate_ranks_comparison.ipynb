{
 "cells": [
  {
   "cell_type": "markdown",
   "id": "a676a670",
   "metadata": {},
   "source": [
    "## Rank Aggregation for proteomic replicates"
   ]
  },
  {
   "cell_type": "markdown",
   "id": "5e189196",
   "metadata": {},
   "source": [
    "**Input:** Replicate proteomic profiles' correlation\n",
    "                \n",
    "**Topics:** \n",
    "<ul>\n",
    "<li>Our method - Average normalized rank for rank aggregation.</li>\n",
    "<li>Comparison of the existing rank aggregation algorithms such as <a href='https://academic.oup.com/bioinformatics/article/28/4/573/213339?login=true'>Robust Rank Aggregation</a>, <a href=https://science.sciencemag.org/content/302/5643/249.long>Stuart</a>, <a href=https://dl.acm.org/doi/10.1145/371920.372165>Markov Chain Aggregator 4</a>, <a href=https://dl.acm.org/doi/10.1145/383952.384007>BordaFuse</a> with our implementation of rank aggregation</li>\n",
    "</ul>               \n",
    "\n",
    "**Output:**   \n",
    "<ul> <li>Table S2: Replicate proteomic profiles' correlation and Aggregated protein reproducibility track</li></ul>"
   ]
  },
  {
   "cell_type": "markdown",
   "id": "76a5d998",
   "metadata": {},
   "source": [
    "<div class=\"alert alert-block alert-info\">\n",
    "<b>Note:</b> Run this after executing 3a_robust_rank_aggregation.R</div>"
   ]
  },
  {
   "cell_type": "markdown",
   "id": "11793a61",
   "metadata": {},
   "source": [
    "#### Import packages"
   ]
  },
  {
   "cell_type": "code",
   "execution_count": 1,
   "id": "hungarian-arena",
   "metadata": {},
   "outputs": [],
   "source": [
    "import os, re\n",
    "import pandas as pd\n",
    "import numpy as np\n",
    "import common_utils as cu\n",
    "import customized_plots\n",
    "import graphing_utils as gu\n",
    "from matplotlib import pyplot as plt\n",
    "%matplotlib inline"
   ]
  },
  {
   "cell_type": "code",
   "execution_count": 2,
   "id": "still-african",
   "metadata": {},
   "outputs": [],
   "source": [
    "get_data_path = lambda folders, fname: os.path.normpath(os.environ['DATA_PATH']+'/'+'/'.join(folders) +'/'+ fname)\n",
    "get_local_data_path = lambda folders, fname: os.path.normpath('../local_data/' + '/'.join(folders) +'/'+ fname)\n",
    "\n",
    "\n",
    "file_proteomic_replicate_correlations = get_local_data_path(['processed', 'correlation_replicates'], \n",
    "                                                            'proteomic_reproducibility.csv')\n",
    "file_protein_reproducibility = get_local_data_path(['results'], 'TableS2.xlsx')"
   ]
  },
  {
   "cell_type": "markdown",
   "id": "3c3a9be2",
   "metadata": {},
   "source": [
    "#### Load data"
   ]
  },
  {
   "cell_type": "code",
   "execution_count": 3,
   "id": "union-allocation",
   "metadata": {},
   "outputs": [
    {
     "name": "stdout",
     "output_type": "stream",
     "text": [
      "Dimensions:  (9437, 3)\n"
     ]
    },
    {
     "data": {
      "text/html": [
       "<div>\n",
       "<style scoped>\n",
       "    .dataframe tbody tr th:only-of-type {\n",
       "        vertical-align: middle;\n",
       "    }\n",
       "\n",
       "    .dataframe tbody tr th {\n",
       "        vertical-align: top;\n",
       "    }\n",
       "\n",
       "    .dataframe thead th {\n",
       "        text-align: right;\n",
       "    }\n",
       "</style>\n",
       "<table border=\"1\" class=\"dataframe\">\n",
       "  <thead>\n",
       "    <tr style=\"text-align: right;\">\n",
       "      <th></th>\n",
       "      <th>Ovarian (JHU-PNNL)</th>\n",
       "      <th>Colon (TMT-LF)</th>\n",
       "      <th>CCLE (R1-R3)</th>\n",
       "    </tr>\n",
       "  </thead>\n",
       "  <tbody>\n",
       "    <tr>\n",
       "      <th>A1BG</th>\n",
       "      <td>0.739736</td>\n",
       "      <td>0.256359</td>\n",
       "      <td>NaN</td>\n",
       "    </tr>\n",
       "    <tr>\n",
       "      <th>A2M</th>\n",
       "      <td>0.811584</td>\n",
       "      <td>0.227659</td>\n",
       "      <td>0.541796</td>\n",
       "    </tr>\n",
       "  </tbody>\n",
       "</table>\n",
       "</div>"
      ],
      "text/plain": [
       "      Ovarian (JHU-PNNL)  Colon (TMT-LF)  CCLE (R1-R3)\n",
       "A1BG            0.739736        0.256359           NaN\n",
       "A2M             0.811584        0.227659      0.541796"
      ]
     },
     "execution_count": 3,
     "metadata": {},
     "output_type": "execute_result"
    }
   ],
   "source": [
    "replicate_cor = pd.read_csv(file_proteomic_replicate_correlations, index_col=0)\n",
    "print('Dimensions: ', replicate_cor.shape)\n",
    "replicate_cor[:2]"
   ]
  },
  {
   "cell_type": "code",
   "execution_count": 4,
   "id": "athletic-atmosphere",
   "metadata": {},
   "outputs": [],
   "source": [
    "replicates_correlation_ov = replicate_cor['Ovarian (JHU-PNNL)'].copy(deep=True).dropna()\n",
    "replicates_correlation_colon = replicate_cor['Colon (TMT-LF)'].copy(deep=True).dropna()\n",
    "replicates_correlation_ccle = replicate_cor['CCLE (R1-R3)'].copy(deep=True).dropna()"
   ]
  },
  {
   "cell_type": "code",
   "execution_count": 5,
   "id": "d72d1b8b",
   "metadata": {},
   "outputs": [],
   "source": [
    "# Rank the values in ascending order and normalize using the length of the list/series\n",
    "def get_normalized_ranks(series, ascending=True):\n",
    "    ranks = series.rank(method='first', ascending = True) / len(series)  \n",
    "    return ranks"
   ]
  },
  {
   "cell_type": "code",
   "execution_count": 6,
   "id": "alone-happiness",
   "metadata": {},
   "outputs": [],
   "source": [
    "def aggregate_ranks(combined_normalized_ranks, name, method='mean'):\n",
    "    # retain only those proteins that are meassured in at least 2 studies.\n",
    "    combined_normalized_ranks.dropna(thresh=0.66*len(combined_normalized_ranks.columns), inplace=True)\n",
    "    # try different statistics to aggregate the ranks to assess which works best\n",
    "    def get_ranks(method):\n",
    "        return {\n",
    "        'median':\n",
    "            combined_normalized_ranks.fillna(0.5, inplace=False).median(axis=1, skipna=True).sort_values(),\n",
    "        'mean':\n",
    "            combined_normalized_ranks.fillna(0.5, inplace=False).mean(axis=1, skipna=True).sort_values(),\n",
    "        'min':\n",
    "            combined_normalized_ranks.fillna(0.5, inplace=False).min(axis=1, skipna=True).sort_values(),\n",
    "        'max':\n",
    "            combined_normalized_ranks.fillna(0.5, inplace=False).max(axis=1, skipna=True).sort_values()\n",
    "    }[method]\n",
    "    aggregated_normalized_ranks = get_ranks(method)\n",
    "    aggregated_normalized_ranks.name = name\n",
    "    return aggregated_normalized_ranks"
   ]
  },
  {
   "cell_type": "code",
   "execution_count": 7,
   "id": "veterinary-thanksgiving",
   "metadata": {},
   "outputs": [],
   "source": [
    "aggregated_normalized_ranks_median = aggregate_ranks(pd.concat([get_normalized_ranks(replicates_correlation_ov), \n",
    "                                                                get_normalized_ranks(replicates_correlation_colon), \n",
    "                                                                get_normalized_ranks(replicates_correlation_ccle)], \n",
    "                                                               axis=1), \n",
    "                                                     \"Aggregated Reproducibility Rank (Median)\", method=\"median\")\n",
    "\n",
    "aggregated_normalized_ranks_mean = aggregate_ranks(pd.concat([get_normalized_ranks(replicates_correlation_ov), \n",
    "                                                              get_normalized_ranks(replicates_correlation_colon), \n",
    "                                                              get_normalized_ranks(replicates_correlation_ccle)], \n",
    "                                                             axis=1), \n",
    "                                                   \"Aggregated Reproducibility Rank (Mean)\", method='mean')\n",
    "\n",
    "aggregated_normalized_ranks_min = aggregate_ranks(pd.concat([get_normalized_ranks(replicates_correlation_ov), \n",
    "                                                             get_normalized_ranks(replicates_correlation_colon), \n",
    "                                                             get_normalized_ranks(replicates_correlation_ccle)],\n",
    "                                                            axis=1),\n",
    "                                                   \"Aggregated Reproducibility Rank (Min)\", method='min')\n",
    "\n",
    "aggregated_normalized_ranks_max = aggregate_ranks(pd.concat([get_normalized_ranks(replicates_correlation_ov), \n",
    "                                                             get_normalized_ranks(replicates_correlation_colon), \n",
    "                                                             get_normalized_ranks(replicates_correlation_ccle)], \n",
    "                                                            axis=1),\n",
    "                                                  \"Aggregated Reproducibility Rank (Max)\", method='max')"
   ]
  },
  {
   "cell_type": "markdown",
   "id": "tutorial-brighton",
   "metadata": {},
   "source": [
    "### Comparing multiple rank aggregation algorithms"
   ]
  },
  {
   "cell_type": "code",
   "execution_count": 8,
   "id": "hearing-uniform",
   "metadata": {},
   "outputs": [],
   "source": [
    "import statsmodels\n",
    "import statsmodels.api as sm\n",
    "import statsmodels.formula.api as smf"
   ]
  },
  {
   "cell_type": "markdown",
   "id": "dfc327f2",
   "metadata": {},
   "source": [
    "Load mRNA-protein correlation of the different studies to check the variation in them that can be explained by our internal aggregated rank strategy"
   ]
  },
  {
   "cell_type": "code",
   "execution_count": 9,
   "id": "dramatic-imperial",
   "metadata": {},
   "outputs": [],
   "source": [
    "file_mRNA_protein_correlations = get_local_data_path(['results'], 'TableS1.xlsx')"
   ]
  },
  {
   "cell_type": "code",
   "execution_count": 10,
   "id": "monetary-mention",
   "metadata": {},
   "outputs": [
    {
     "data": {
      "text/html": [
       "<div>\n",
       "<style scoped>\n",
       "    .dataframe tbody tr th:only-of-type {\n",
       "        vertical-align: middle;\n",
       "    }\n",
       "\n",
       "    .dataframe tbody tr th {\n",
       "        vertical-align: top;\n",
       "    }\n",
       "\n",
       "    .dataframe thead th {\n",
       "        text-align: right;\n",
       "    }\n",
       "</style>\n",
       "<table border=\"1\" class=\"dataframe\">\n",
       "  <thead>\n",
       "    <tr style=\"text-align: right;\">\n",
       "      <th></th>\n",
       "      <th>CRC (2014)</th>\n",
       "      <th>BrCa (2016)</th>\n",
       "      <th>Ovarian</th>\n",
       "      <th>Colon</th>\n",
       "      <th>ccRCC</th>\n",
       "      <th>EC</th>\n",
       "      <th>LUAD</th>\n",
       "      <th>BrCa (2020)</th>\n",
       "      <th>HNSCC</th>\n",
       "      <th>GBM</th>\n",
       "      <th>NCI60</th>\n",
       "      <th>CCLE</th>\n",
       "      <th>GTEx</th>\n",
       "    </tr>\n",
       "    <tr>\n",
       "      <th>Gene symbol</th>\n",
       "      <th></th>\n",
       "      <th></th>\n",
       "      <th></th>\n",
       "      <th></th>\n",
       "      <th></th>\n",
       "      <th></th>\n",
       "      <th></th>\n",
       "      <th></th>\n",
       "      <th></th>\n",
       "      <th></th>\n",
       "      <th></th>\n",
       "      <th></th>\n",
       "      <th></th>\n",
       "    </tr>\n",
       "  </thead>\n",
       "  <tbody>\n",
       "    <tr>\n",
       "      <th>A1BG</th>\n",
       "      <td>0.123133</td>\n",
       "      <td>-0.093805</td>\n",
       "      <td>-0.078889</td>\n",
       "      <td>NaN</td>\n",
       "      <td>0.035573</td>\n",
       "      <td>0.324974</td>\n",
       "      <td>-0.119663</td>\n",
       "      <td>0.077242</td>\n",
       "      <td>0.065872</td>\n",
       "      <td>-0.192863</td>\n",
       "      <td>NaN</td>\n",
       "      <td>NaN</td>\n",
       "      <td>0.154523</td>\n",
       "    </tr>\n",
       "    <tr>\n",
       "      <th>A1CF</th>\n",
       "      <td>NaN</td>\n",
       "      <td>NaN</td>\n",
       "      <td>NaN</td>\n",
       "      <td>0.673548</td>\n",
       "      <td>0.908613</td>\n",
       "      <td>NaN</td>\n",
       "      <td>NaN</td>\n",
       "      <td>NaN</td>\n",
       "      <td>NaN</td>\n",
       "      <td>NaN</td>\n",
       "      <td>NaN</td>\n",
       "      <td>NaN</td>\n",
       "      <td>0.188605</td>\n",
       "    </tr>\n",
       "  </tbody>\n",
       "</table>\n",
       "</div>"
      ],
      "text/plain": [
       "             CRC (2014)  BrCa (2016)   Ovarian     Colon     ccRCC        EC  \\\n",
       "Gene symbol                                                                    \n",
       "A1BG           0.123133    -0.093805 -0.078889       NaN  0.035573  0.324974   \n",
       "A1CF                NaN          NaN       NaN  0.673548  0.908613       NaN   \n",
       "\n",
       "                 LUAD  BrCa (2020)     HNSCC       GBM  NCI60  CCLE      GTEx  \n",
       "Gene symbol                                                                    \n",
       "A1BG        -0.119663     0.077242  0.065872 -0.192863    NaN   NaN  0.154523  \n",
       "A1CF              NaN          NaN       NaN       NaN    NaN   NaN  0.188605  "
      ]
     },
     "execution_count": 10,
     "metadata": {},
     "output_type": "execute_result"
    }
   ],
   "source": [
    "mRNA_protein_correlations =  pd.read_excel(file_mRNA_protein_correlations, sheet_name='A. mRNA-protein correlation', \n",
    "                                           index_col=0)\n",
    "mRNA_protein_correlations[:2]"
   ]
  },
  {
   "cell_type": "code",
   "execution_count": 11,
   "id": "heard-draft",
   "metadata": {},
   "outputs": [],
   "source": [
    "mRNA_protein_corr_crc14 = mRNA_protein_correlations['CRC (2014)'].copy(deep=True).dropna()\n",
    "mRNA_protein_corr_brca16 = mRNA_protein_correlations['BrCa (2016)'].copy(deep=True).dropna()\n",
    "mRNA_protein_corr_ccrcc = mRNA_protein_correlations['ccRCC'].copy(deep=True).dropna()\n",
    "mRNA_protein_corr_brca20 = mRNA_protein_correlations['BrCa (2020)'].copy(deep=True).dropna()\n",
    "mRNA_protein_corr_gtex = mRNA_protein_correlations['GTEx'].copy(deep=True).dropna()\n",
    "mRNA_protein_corr_endo = mRNA_protein_correlations['EC'].copy(deep=True).dropna()\n",
    "mRNA_protein_corr_lung = mRNA_protein_correlations['LUAD'].copy(deep=True).dropna()\n",
    "mRNA_protein_corr_hnscc = mRNA_protein_correlations['HNSCC'].copy(deep=True).dropna()\n",
    "mRNA_protein_corr_gbm = mRNA_protein_correlations['GBM'].copy(deep=True).dropna()\n",
    "mRNA_protein_corr_ccle = mRNA_protein_correlations['CCLE'].copy(deep=True).dropna()\n",
    "mRNA_protein_corr_crc19 = mRNA_protein_correlations['Colon'].copy(deep=True).dropna()\n",
    "mRNA_protein_corr_ovca = mRNA_protein_correlations['Ovarian'].copy(deep=True).dropna()\n",
    "mRNA_protein_corr_nci60 = mRNA_protein_correlations['NCI60'].copy(deep=True).dropna()"
   ]
  },
  {
   "cell_type": "code",
   "execution_count": 12,
   "id": "intended-portal",
   "metadata": {},
   "outputs": [],
   "source": [
    "def ols_fit(x, y, match_subsets=True):\n",
    "    x_subset, y_subset = cu.get_matched_index(x, y) \n",
    "    est = sm.OLS(y_subset, sm.add_constant(x_subset.astype(float))).fit()\n",
    "    return est"
   ]
  },
  {
   "cell_type": "code",
   "execution_count": 13,
   "id": "norman-argument",
   "metadata": {},
   "outputs": [],
   "source": [
    "all_studies = [mRNA_protein_corr_crc14, mRNA_protein_corr_brca16, mRNA_protein_corr_ccrcc,\n",
    "               mRNA_protein_corr_brca20, mRNA_protein_corr_gtex, mRNA_protein_corr_endo, \n",
    "               mRNA_protein_corr_lung, mRNA_protein_corr_hnscc, mRNA_protein_corr_gbm, mRNA_protein_corr_nci60]"
   ]
  },
  {
   "cell_type": "code",
   "execution_count": 14,
   "id": "caring-tuition",
   "metadata": {},
   "outputs": [],
   "source": [
    "replicate_studies = [mRNA_protein_corr_ccle, mRNA_protein_corr_crc19, mRNA_protein_corr_ovca]"
   ]
  },
  {
   "cell_type": "code",
   "execution_count": 15,
   "id": "fabulous-patent",
   "metadata": {},
   "outputs": [
    {
     "name": "stderr",
     "output_type": "stream",
     "text": [
      "C:\\Users\\swath\\Anaconda3\\envs\\omics_reproducibility\\lib\\site-packages\\statsmodels\\tsa\\tsatools.py:142: FutureWarning: In a future version of pandas all arguments of concat except for the argument 'objs' will be keyword-only\n",
      "  x = pd.concat(x[::order], 1)\n"
     ]
    }
   ],
   "source": [
    "r2_median_all = {} ; r2_mean_all = {} ; r2_min_all = {}; r2_max_all = {}\n",
    "\n",
    "for study in all_studies: \n",
    "    r2_median_all[study.name] = round(ols_fit(x=aggregated_normalized_ranks_median, y = study).rsquared_adj, 2)\n",
    "    r2_mean_all[study.name] = round(ols_fit(x=aggregated_normalized_ranks_mean, y = study).rsquared_adj, 2)\n",
    "    r2_min_all[study.name] = round(ols_fit(x=aggregated_normalized_ranks_min, y = study).rsquared_adj, 2)\n",
    "    r2_max_all[study.name] = round(ols_fit(x=aggregated_normalized_ranks_max, y = study).rsquared_adj, 2)"
   ]
  },
  {
   "cell_type": "code",
   "execution_count": 16,
   "id": "e9bf2792",
   "metadata": {},
   "outputs": [
    {
     "data": {
      "text/html": [
       "<div>\n",
       "<style scoped>\n",
       "    .dataframe tbody tr th:only-of-type {\n",
       "        vertical-align: middle;\n",
       "    }\n",
       "\n",
       "    .dataframe tbody tr th {\n",
       "        vertical-align: top;\n",
       "    }\n",
       "\n",
       "    .dataframe thead th {\n",
       "        text-align: right;\n",
       "    }\n",
       "</style>\n",
       "<table border=\"1\" class=\"dataframe\">\n",
       "  <thead>\n",
       "    <tr style=\"text-align: right;\">\n",
       "      <th>Factor</th>\n",
       "      <th>Data</th>\n",
       "      <th>Aggregated Ranks (Max)</th>\n",
       "      <th>Aggregated Ranks (Mean)</th>\n",
       "      <th>Aggregated Ranks (Median)</th>\n",
       "      <th>Aggregated Ranks (Min)</th>\n",
       "    </tr>\n",
       "  </thead>\n",
       "  <tbody>\n",
       "    <tr>\n",
       "      <th>0</th>\n",
       "      <td>$\\mathbf{BrCa (2016)}$\\n(N=4347)</td>\n",
       "      <td>0.09</td>\n",
       "      <td>0.11</td>\n",
       "      <td>0.09</td>\n",
       "      <td>0.07</td>\n",
       "    </tr>\n",
       "    <tr>\n",
       "      <th>1</th>\n",
       "      <td>$\\mathbf{BrCa (2020)}$\\n(N=4769)</td>\n",
       "      <td>0.13</td>\n",
       "      <td>0.15</td>\n",
       "      <td>0.13</td>\n",
       "      <td>0.10</td>\n",
       "    </tr>\n",
       "    <tr>\n",
       "      <th>2</th>\n",
       "      <td>$\\mathbf{CRC (2014)}$\\n(N=2969)</td>\n",
       "      <td>0.17</td>\n",
       "      <td>0.22</td>\n",
       "      <td>0.19</td>\n",
       "      <td>0.15</td>\n",
       "    </tr>\n",
       "    <tr>\n",
       "      <th>3</th>\n",
       "      <td>$\\mathbf{EC}$\\n(N=4974)</td>\n",
       "      <td>0.16</td>\n",
       "      <td>0.18</td>\n",
       "      <td>0.16</td>\n",
       "      <td>0.12</td>\n",
       "    </tr>\n",
       "    <tr>\n",
       "      <th>4</th>\n",
       "      <td>$\\mathbf{GBM}$\\n(N=4939)</td>\n",
       "      <td>0.12</td>\n",
       "      <td>0.15</td>\n",
       "      <td>0.13</td>\n",
       "      <td>0.10</td>\n",
       "    </tr>\n",
       "    <tr>\n",
       "      <th>5</th>\n",
       "      <td>$\\mathbf{GTEx}$\\n(N=4841)</td>\n",
       "      <td>0.12</td>\n",
       "      <td>0.14</td>\n",
       "      <td>0.12</td>\n",
       "      <td>0.09</td>\n",
       "    </tr>\n",
       "    <tr>\n",
       "      <th>6</th>\n",
       "      <td>$\\mathbf{HNSCC}$\\n(N=4943)</td>\n",
       "      <td>0.13</td>\n",
       "      <td>0.14</td>\n",
       "      <td>0.12</td>\n",
       "      <td>0.09</td>\n",
       "    </tr>\n",
       "    <tr>\n",
       "      <th>7</th>\n",
       "      <td>$\\mathbf{LUAD}$\\n(N=4642)</td>\n",
       "      <td>0.11</td>\n",
       "      <td>0.13</td>\n",
       "      <td>0.11</td>\n",
       "      <td>0.08</td>\n",
       "    </tr>\n",
       "    <tr>\n",
       "      <th>8</th>\n",
       "      <td>$\\mathbf{NCI60}$\\n(N=2732)</td>\n",
       "      <td>0.10</td>\n",
       "      <td>0.12</td>\n",
       "      <td>0.10</td>\n",
       "      <td>0.08</td>\n",
       "    </tr>\n",
       "    <tr>\n",
       "      <th>9</th>\n",
       "      <td>$\\mathbf{ccRCC}$\\n(N=4677)</td>\n",
       "      <td>0.11</td>\n",
       "      <td>0.12</td>\n",
       "      <td>0.10</td>\n",
       "      <td>0.07</td>\n",
       "    </tr>\n",
       "  </tbody>\n",
       "</table>\n",
       "</div>"
      ],
      "text/plain": [
       "Factor                              Data  Aggregated Ranks (Max)  \\\n",
       "0       $\\mathbf{BrCa (2016)}$\\n(N=4347)                    0.09   \n",
       "1       $\\mathbf{BrCa (2020)}$\\n(N=4769)                    0.13   \n",
       "2        $\\mathbf{CRC (2014)}$\\n(N=2969)                    0.17   \n",
       "3                $\\mathbf{EC}$\\n(N=4974)                    0.16   \n",
       "4               $\\mathbf{GBM}$\\n(N=4939)                    0.12   \n",
       "5              $\\mathbf{GTEx}$\\n(N=4841)                    0.12   \n",
       "6             $\\mathbf{HNSCC}$\\n(N=4943)                    0.13   \n",
       "7              $\\mathbf{LUAD}$\\n(N=4642)                    0.11   \n",
       "8             $\\mathbf{NCI60}$\\n(N=2732)                    0.10   \n",
       "9             $\\mathbf{ccRCC}$\\n(N=4677)                    0.11   \n",
       "\n",
       "Factor  Aggregated Ranks (Mean)  Aggregated Ranks (Median)  \\\n",
       "0                          0.11                       0.09   \n",
       "1                          0.15                       0.13   \n",
       "2                          0.22                       0.19   \n",
       "3                          0.18                       0.16   \n",
       "4                          0.15                       0.13   \n",
       "5                          0.14                       0.12   \n",
       "6                          0.14                       0.12   \n",
       "7                          0.13                       0.11   \n",
       "8                          0.12                       0.10   \n",
       "9                          0.12                       0.10   \n",
       "\n",
       "Factor  Aggregated Ranks (Min)  \n",
       "0                         0.07  \n",
       "1                         0.10  \n",
       "2                         0.15  \n",
       "3                         0.12  \n",
       "4                         0.10  \n",
       "5                         0.09  \n",
       "6                         0.09  \n",
       "7                         0.08  \n",
       "8                         0.08  \n",
       "9                         0.07  "
      ]
     },
     "metadata": {},
     "output_type": "display_data"
    }
   ],
   "source": [
    "proteins_count = {study.name: len(aggregated_normalized_ranks_median[aggregated_normalized_ranks_median.index.isin(study.index)]) for study in all_studies}\n",
    "r2_internalRanks_all = cu.dataframe_from_dict(['Aggregated Ranks (Min)', 'Aggregated Ranks (Max)', \n",
    "                                               'Aggregated Ranks (Median)', 'Aggregated Ranks (Mean)', 'Protein count'],\n",
    "                                              r2_min_all, r2_max_all, r2_median_all, r2_mean_all, proteins_count,\n",
    "                                              repeat_factor=len(r2_min_all))"
   ]
  },
  {
   "cell_type": "code",
   "execution_count": 17,
   "id": "3d9fed1f",
   "metadata": {},
   "outputs": [
    {
     "data": {
      "image/png": "[encoded data removed]",
      "text/plain": [
       "<Figure size 288x324 with 1 Axes>"
      ]
     },
     "metadata": {
      "needs_background": "light"
     },
     "output_type": "display_data"
    }
   ],
   "source": [
    "get_order = lambda df: df.groupby(by=['Data']).sum().sort_values('R-squared').index.values\n",
    "palette = [gu.get_color(x) for x in ['orange', 'sky-blue', 'blue', 'yellow', 'green']]\n",
    "with plt.rc_context({'axes.linewidth': 0.8, 'axes.spines.left': True}):\n",
    "    figure, ax = plt.subplots(1, 1, figsize=(4, 4.5))\n",
    "    customized_plots.draw_dotplot(ax=ax, x='R-squared', y='Data', data=r2_internalRanks_all, hue='Factor',  \n",
    "                                  order=get_order(r2_internalRanks_all),\n",
    "                                  args=gu.additional_plot_parameters(xlab=\"R-squared (%)\", ylab=None, \n",
    "                                                                     yaxis_grid=False, xaxis_grid=True,  \n",
    "                                                                     palette=palette,\n",
    "                                                                     anchor_legend_at=(1, 1)))"
   ]
  },
  {
   "cell_type": "markdown",
   "id": "ea6afa81",
   "metadata": {},
   "source": [
    "<div class=\"alert alert-block alert-warning\">\n",
    "<b>Note:</b> The Aggregated Reproducibility Rank (Mean) explains the variation in mRNA-protein correlation better than the other internal ranking methods. Henceforth, we will be considering Aggregated Reproducibility Rank (Mean) for all our analyses.\n",
    "</div>"
   ]
  },
  {
   "cell_type": "markdown",
   "id": "confirmed-pitch",
   "metadata": {},
   "source": [
    "### Other Rank Aggregation Algorithms"
   ]
  },
  {
   "cell_type": "code",
   "execution_count": 18,
   "id": "d29cd0e1",
   "metadata": {},
   "outputs": [],
   "source": [
    "file_rra = get_local_data_path(['processed', 'rank_aggregation'], 'RRA.csv')\n",
    "file_markov_aggregator = get_local_data_path(['processed', 'rank_aggregation'], 'markov_aggregator.csv')"
   ]
  },
  {
   "cell_type": "markdown",
   "id": "amazing-forth",
   "metadata": {},
   "source": [
    "#### Robust Rank Aggregation and Stuart (implemented in R)"
   ]
  },
  {
   "cell_type": "code",
   "execution_count": 19,
   "id": "graphic-southwest",
   "metadata": {},
   "outputs": [
    {
     "name": "stdout",
     "output_type": "stream",
     "text": [
      "Dimensions:  (7776, 6)\n"
     ]
    },
    {
     "data": {
      "text/html": [
       "<div>\n",
       "<style scoped>\n",
       "    .dataframe tbody tr th:only-of-type {\n",
       "        vertical-align: middle;\n",
       "    }\n",
       "\n",
       "    .dataframe tbody tr th {\n",
       "        vertical-align: top;\n",
       "    }\n",
       "\n",
       "    .dataframe thead th {\n",
       "        text-align: right;\n",
       "    }\n",
       "</style>\n",
       "<table border=\"1\" class=\"dataframe\">\n",
       "  <thead>\n",
       "    <tr style=\"text-align: right;\">\n",
       "      <th></th>\n",
       "      <th>RRA</th>\n",
       "      <th>Stuart</th>\n",
       "      <th>Mean</th>\n",
       "      <th>Median</th>\n",
       "      <th>Min</th>\n",
       "      <th>Geom_Mean</th>\n",
       "    </tr>\n",
       "  </thead>\n",
       "  <tbody>\n",
       "    <tr>\n",
       "      <th>ALDH2</th>\n",
       "      <td>0.000028</td>\n",
       "      <td>0.000002</td>\n",
       "      <td>0.001771</td>\n",
       "      <td>0.019155</td>\n",
       "      <td>0.001732</td>\n",
       "      <td>0.008856</td>\n",
       "    </tr>\n",
       "    <tr>\n",
       "      <th>MVP</th>\n",
       "      <td>0.000037</td>\n",
       "      <td>0.000001</td>\n",
       "      <td>0.004242</td>\n",
       "      <td>0.002032</td>\n",
       "      <td>0.000866</td>\n",
       "      <td>0.006829</td>\n",
       "    </tr>\n",
       "  </tbody>\n",
       "</table>\n",
       "</div>"
      ],
      "text/plain": [
       "            RRA    Stuart      Mean    Median       Min  Geom_Mean\n",
       "ALDH2  0.000028  0.000002  0.001771  0.019155  0.001732   0.008856\n",
       "MVP    0.000037  0.000001  0.004242  0.002032  0.000866   0.006829"
      ]
     },
     "execution_count": 19,
     "metadata": {},
     "output_type": "execute_result"
    }
   ],
   "source": [
    "rra = pd.read_csv(file_rra, index_col=0)\n",
    "print('Dimensions: ', rra.shape)\n",
    "rra[:2]"
   ]
  },
  {
   "cell_type": "markdown",
   "id": "pretty-plymouth",
   "metadata": {},
   "source": [
    "**Markov Chain Aggregator**"
   ]
  },
  {
   "cell_type": "code",
   "execution_count": 20,
   "id": "dirty-trademark",
   "metadata": {},
   "outputs": [],
   "source": [
    "# # Implementation of Markov Chain Aggregator 4 Algo to compute ranks - NOTE: takes a long time run\n",
    "\n",
    "# from mc4.algorithm import mc4_aggregator\n",
    "\n",
    "# ranks = pd.concat([replicates_correlation_ov.rank(ascending=False),\n",
    "#            replicates_correlation_ccle.rank(ascending=False),\n",
    "#            replicates_correlation_colon.rank(ascending=False)], axis=1)\n",
    "# ranks.columns = ['OV Rank', 'CCLE Rank', 'Colon Rank']\n",
    "# ranks.dropna(thresh=0.66*len(ranks.columns), inplace=True)\n",
    "# ranks = ranks[['OV Rank','CCLE Rank', 'Colon Rank']].fillna(value=0)\n",
    "# ranks[:2]\n",
    "\n",
    "# mc_ranks = ranks.copy(deep=True)\n",
    "# mc_ranks.dropna(inplace=True)\n",
    "\n",
    "# aggregated_mc_ranks = mc4_aggregator(mc_ranks, header_row = 0, index_col = 0) \n",
    "\n",
    "# markov_chain_aggregator = pd.DataFrame.from_dict(aggregated_mc_ranks, orient='index')\n",
    "# markov_chain_aggregator.columns = ['MC4']\n",
    "# markov_chain_aggregator[:2]\n",
    "# markov_chain_aggregator.to_csv(file_markov_aggregator)"
   ]
  },
  {
   "cell_type": "code",
   "execution_count": 21,
   "id": "color-packaging",
   "metadata": {},
   "outputs": [
    {
     "data": {
      "text/html": [
       "<div>\n",
       "<style scoped>\n",
       "    .dataframe tbody tr th:only-of-type {\n",
       "        vertical-align: middle;\n",
       "    }\n",
       "\n",
       "    .dataframe tbody tr th {\n",
       "        vertical-align: top;\n",
       "    }\n",
       "\n",
       "    .dataframe thead th {\n",
       "        text-align: right;\n",
       "    }\n",
       "</style>\n",
       "<table border=\"1\" class=\"dataframe\">\n",
       "  <thead>\n",
       "    <tr style=\"text-align: right;\">\n",
       "      <th></th>\n",
       "      <th>MC4</th>\n",
       "    </tr>\n",
       "  </thead>\n",
       "  <tbody>\n",
       "    <tr>\n",
       "      <th>A1BG</th>\n",
       "      <td>666</td>\n",
       "    </tr>\n",
       "    <tr>\n",
       "      <th>A2M</th>\n",
       "      <td>3787</td>\n",
       "    </tr>\n",
       "  </tbody>\n",
       "</table>\n",
       "</div>"
      ],
      "text/plain": [
       "       MC4\n",
       "A1BG   666\n",
       "A2M   3787"
      ]
     },
     "execution_count": 21,
     "metadata": {},
     "output_type": "execute_result"
    }
   ],
   "source": [
    "markov_chain_aggregator = pd.read_csv(file_markov_aggregator, index_col=0)\n",
    "markov_chain_aggregator[:2]"
   ]
  },
  {
   "cell_type": "markdown",
   "id": "banner-cheat",
   "metadata": {},
   "source": [
    "**BordaFuse**"
   ]
  },
  {
   "cell_type": "code",
   "execution_count": 22,
   "id": "piano-russell",
   "metadata": {},
   "outputs": [
    {
     "data": {
      "text/html": [
       "<div>\n",
       "<style scoped>\n",
       "    .dataframe tbody tr th:only-of-type {\n",
       "        vertical-align: middle;\n",
       "    }\n",
       "\n",
       "    .dataframe tbody tr th {\n",
       "        vertical-align: top;\n",
       "    }\n",
       "\n",
       "    .dataframe thead th {\n",
       "        text-align: right;\n",
       "    }\n",
       "</style>\n",
       "<table border=\"1\" class=\"dataframe\">\n",
       "  <thead>\n",
       "    <tr style=\"text-align: right;\">\n",
       "      <th></th>\n",
       "      <th>OV Rank</th>\n",
       "      <th>CCLE Rank</th>\n",
       "      <th>Colon Rank</th>\n",
       "    </tr>\n",
       "  </thead>\n",
       "  <tbody>\n",
       "    <tr>\n",
       "      <th>A1BG</th>\n",
       "      <td>4462.5</td>\n",
       "      <td>NaN</td>\n",
       "      <td>1349.0</td>\n",
       "    </tr>\n",
       "    <tr>\n",
       "      <th>A2M</th>\n",
       "      <td>5099.0</td>\n",
       "      <td>1550.5</td>\n",
       "      <td>1176.0</td>\n",
       "    </tr>\n",
       "  </tbody>\n",
       "</table>\n",
       "</div>"
      ],
      "text/plain": [
       "      OV Rank  CCLE Rank  Colon Rank\n",
       "A1BG   4462.5        NaN      1349.0\n",
       "A2M    5099.0     1550.5      1176.0"
      ]
     },
     "execution_count": 22,
     "metadata": {},
     "output_type": "execute_result"
    }
   ],
   "source": [
    "inverse_ranks = pd.concat([len(replicates_correlation_ov) - replicates_correlation_ov.rank(ascending=False),\n",
    "                           len(replicates_correlation_ccle) - replicates_correlation_ccle.rank(ascending=False),\n",
    "                           len(replicates_correlation_colon) - replicates_correlation_colon.rank(ascending=False)], axis=1)\n",
    "inverse_ranks.columns = ['OV Rank', 'CCLE Rank', 'Colon Rank']\n",
    "inverse_ranks[:2]"
   ]
  },
  {
   "cell_type": "code",
   "execution_count": 23,
   "id": "turkish-carbon",
   "metadata": {},
   "outputs": [
    {
     "data": {
      "text/html": [
       "<div>\n",
       "<style scoped>\n",
       "    .dataframe tbody tr th:only-of-type {\n",
       "        vertical-align: middle;\n",
       "    }\n",
       "\n",
       "    .dataframe tbody tr th {\n",
       "        vertical-align: top;\n",
       "    }\n",
       "\n",
       "    .dataframe thead th {\n",
       "        text-align: right;\n",
       "    }\n",
       "</style>\n",
       "<table border=\"1\" class=\"dataframe\">\n",
       "  <thead>\n",
       "    <tr style=\"text-align: right;\">\n",
       "      <th></th>\n",
       "      <th>OV Rank</th>\n",
       "      <th>CCLE Rank</th>\n",
       "      <th>Colon Rank</th>\n",
       "      <th>BordaFuse</th>\n",
       "    </tr>\n",
       "  </thead>\n",
       "  <tbody>\n",
       "    <tr>\n",
       "      <th>A1BG</th>\n",
       "      <td>4462.5</td>\n",
       "      <td>NaN</td>\n",
       "      <td>1349.0</td>\n",
       "      <td>5811.5</td>\n",
       "    </tr>\n",
       "    <tr>\n",
       "      <th>A2M</th>\n",
       "      <td>5099.0</td>\n",
       "      <td>1550.5</td>\n",
       "      <td>1176.0</td>\n",
       "      <td>7825.5</td>\n",
       "    </tr>\n",
       "  </tbody>\n",
       "</table>\n",
       "</div>"
      ],
      "text/plain": [
       "      OV Rank  CCLE Rank  Colon Rank  BordaFuse\n",
       "A1BG   4462.5        NaN      1349.0     5811.5\n",
       "A2M    5099.0     1550.5      1176.0     7825.5"
      ]
     },
     "execution_count": 23,
     "metadata": {},
     "output_type": "execute_result"
    }
   ],
   "source": [
    "inverse_ranks.dropna(thresh=0.66*len(inverse_ranks.columns), inplace=True)\n",
    "inverse_ranks['BordaFuse'] = inverse_ranks.sum(axis=1)\n",
    "inverse_ranks[:2]"
   ]
  },
  {
   "cell_type": "markdown",
   "id": "extended-fifty",
   "metadata": {},
   "source": [
    "Combining all the ranks from different external rank aggregation algorithms into one dataframe with common proteins"
   ]
  },
  {
   "cell_type": "code",
   "execution_count": 24,
   "id": "grand-donor",
   "metadata": {},
   "outputs": [
    {
     "data": {
      "text/html": [
       "<div>\n",
       "<style scoped>\n",
       "    .dataframe tbody tr th:only-of-type {\n",
       "        vertical-align: middle;\n",
       "    }\n",
       "\n",
       "    .dataframe tbody tr th {\n",
       "        vertical-align: top;\n",
       "    }\n",
       "\n",
       "    .dataframe thead th {\n",
       "        text-align: right;\n",
       "    }\n",
       "</style>\n",
       "<table border=\"1\" class=\"dataframe\">\n",
       "  <thead>\n",
       "    <tr style=\"text-align: right;\">\n",
       "      <th></th>\n",
       "      <th>RRA</th>\n",
       "      <th>Stuart</th>\n",
       "      <th>BordaFuse</th>\n",
       "      <th>MC4</th>\n",
       "      <th>Aggregated Reproducibility Rank (Mean)</th>\n",
       "    </tr>\n",
       "  </thead>\n",
       "  <tbody>\n",
       "    <tr>\n",
       "      <th>ALDH2</th>\n",
       "      <td>0.000028</td>\n",
       "      <td>0.000002</td>\n",
       "      <td>15425.0</td>\n",
       "      <td>13</td>\n",
       "      <td>0.985528</td>\n",
       "    </tr>\n",
       "    <tr>\n",
       "      <th>MVP</th>\n",
       "      <td>0.000037</td>\n",
       "      <td>0.000001</td>\n",
       "      <td>15082.5</td>\n",
       "      <td>26</td>\n",
       "      <td>0.939184</td>\n",
       "    </tr>\n",
       "  </tbody>\n",
       "</table>\n",
       "</div>"
      ],
      "text/plain": [
       "            RRA    Stuart  BordaFuse  MC4  \\\n",
       "ALDH2  0.000028  0.000002    15425.0   13   \n",
       "MVP    0.000037  0.000001    15082.5   26   \n",
       "\n",
       "       Aggregated Reproducibility Rank (Mean)  \n",
       "ALDH2                                0.985528  \n",
       "MVP                                  0.939184  "
      ]
     },
     "execution_count": 24,
     "metadata": {},
     "output_type": "execute_result"
    }
   ],
   "source": [
    "# Finding common indices between all the required ranking algorithms\n",
    "all_ranks  = pd.concat([rra[['RRA', 'Stuart']], inverse_ranks['BordaFuse'], \n",
    "                        markov_chain_aggregator['MC4'], aggregated_normalized_ranks_mean], axis=1, join='inner')\n",
    "all_ranks[:2]"
   ]
  },
  {
   "cell_type": "code",
   "execution_count": 25,
   "id": "governmental-collar",
   "metadata": {},
   "outputs": [],
   "source": [
    "assert(all_ranks.isnull().sum().sum() == 0)"
   ]
  },
  {
   "cell_type": "code",
   "execution_count": 26,
   "id": "structural-gravity",
   "metadata": {},
   "outputs": [
    {
     "name": "stderr",
     "output_type": "stream",
     "text": [
      "C:\\Users\\swath\\Anaconda3\\envs\\omics_reproducibility\\lib\\site-packages\\statsmodels\\tsa\\tsatools.py:142: FutureWarning: In a future version of pandas all arguments of concat except for the argument 'objs' will be keyword-only\n",
      "  x = pd.concat(x[::order], 1)\n"
     ]
    }
   ],
   "source": [
    "r2_rra_all = {} ; r2_stuart_all = {} ; r2_bordafuse_all = {}; r2_mc4_all = {} ; r2_ag_mean_all = {}\n",
    "\n",
    "for study in all_studies: \n",
    "    r2_rra_all[study.name] = round(ols_fit(x=all_ranks['RRA'], y = study).rsquared_adj* 100, 2)\n",
    "    r2_stuart_all[study.name] = round(ols_fit(x=all_ranks['Stuart'], y = study).rsquared_adj* 100, 2)\n",
    "    r2_bordafuse_all[study.name] = round(ols_fit(x=all_ranks['BordaFuse'], y = study).rsquared_adj* 100, 2)\n",
    "    r2_mc4_all[study.name] = round(ols_fit(x=all_ranks['MC4'], y = study).rsquared_adj* 100, 2)\n",
    "    r2_ag_mean_all[study.name] = round(ols_fit(x=all_ranks['Aggregated Reproducibility Rank (Mean)'], \n",
    "                                           y = study).rsquared_adj* 100, 2)"
   ]
  },
  {
   "cell_type": "code",
   "execution_count": 27,
   "id": "quantitative-health",
   "metadata": {},
   "outputs": [],
   "source": [
    "r2_rra_replicates = {} ; r2_stuart_replicates = {} ; r2_bordafuse_replicates = {}; \n",
    "r2_mc4_replicates = {} ; r2_ag_mean_replicates = {}\n",
    "\n",
    "for study in replicate_studies: \n",
    "    r2_rra_replicates[study.name] = round(ols_fit(x=all_ranks['RRA'], y = study).rsquared_adj * 100, 2)\n",
    "    r2_stuart_replicates[study.name] = round(ols_fit(x=all_ranks['Stuart'], y = study).rsquared_adj* 100, 2)\n",
    "    r2_bordafuse_replicates[study.name] = round(ols_fit(x=all_ranks['BordaFuse'], y = study).rsquared_adj* 100, 2)\n",
    "    r2_mc4_replicates[study.name] = round(ols_fit(x=all_ranks['MC4'], y = study).rsquared_adj* 100, 2)\n",
    "    r2_ag_mean_replicates[study.name] = round(ols_fit(x=all_ranks['Aggregated Reproducibility Rank (Mean)'], \n",
    "                                           y = study).rsquared_adj* 100, 2)"
   ]
  },
  {
   "cell_type": "code",
   "execution_count": 28,
   "id": "forty-plymouth",
   "metadata": {},
   "outputs": [
    {
     "data": {
      "text/html": [
       "<div>\n",
       "<style scoped>\n",
       "    .dataframe tbody tr th:only-of-type {\n",
       "        vertical-align: middle;\n",
       "    }\n",
       "\n",
       "    .dataframe tbody tr th {\n",
       "        vertical-align: top;\n",
       "    }\n",
       "\n",
       "    .dataframe thead th {\n",
       "        text-align: right;\n",
       "    }\n",
       "</style>\n",
       "<table border=\"1\" class=\"dataframe\">\n",
       "  <thead>\n",
       "    <tr style=\"text-align: right;\">\n",
       "      <th>Factor</th>\n",
       "      <th>Data</th>\n",
       "      <th>Average\\nnormalized rank</th>\n",
       "      <th>BordaFuse</th>\n",
       "      <th>MC4</th>\n",
       "      <th>RRA</th>\n",
       "      <th>Stuart</th>\n",
       "    </tr>\n",
       "  </thead>\n",
       "  <tbody>\n",
       "    <tr>\n",
       "      <th>0</th>\n",
       "      <td>$\\mathbf{BrCa (2016)}$\\n(N=4344)</td>\n",
       "      <td>10.63</td>\n",
       "      <td>10.35</td>\n",
       "      <td>7.94</td>\n",
       "      <td>8.18</td>\n",
       "      <td>9.77</td>\n",
       "    </tr>\n",
       "    <tr>\n",
       "      <th>1</th>\n",
       "      <td>$\\mathbf{BrCa (2020)}$\\n(N=4763)</td>\n",
       "      <td>15.35</td>\n",
       "      <td>11.80</td>\n",
       "      <td>13.96</td>\n",
       "      <td>12.99</td>\n",
       "      <td>12.85</td>\n",
       "    </tr>\n",
       "    <tr>\n",
       "      <th>2</th>\n",
       "      <td>$\\mathbf{CRC (2014)}$\\n(N=2967)</td>\n",
       "      <td>21.65</td>\n",
       "      <td>18.37</td>\n",
       "      <td>13.48</td>\n",
       "      <td>17.73</td>\n",
       "      <td>18.09</td>\n",
       "    </tr>\n",
       "    <tr>\n",
       "      <th>3</th>\n",
       "      <td>$\\mathbf{EC}$\\n(N=4969)</td>\n",
       "      <td>18.02</td>\n",
       "      <td>13.80</td>\n",
       "      <td>16.31</td>\n",
       "      <td>15.57</td>\n",
       "      <td>14.86</td>\n",
       "    </tr>\n",
       "    <tr>\n",
       "      <th>4</th>\n",
       "      <td>$\\mathbf{GBM}$\\n(N=4933)</td>\n",
       "      <td>14.76</td>\n",
       "      <td>12.78</td>\n",
       "      <td>12.54</td>\n",
       "      <td>12.31</td>\n",
       "      <td>13.40</td>\n",
       "    </tr>\n",
       "    <tr>\n",
       "      <th>5</th>\n",
       "      <td>$\\mathbf{GTEx}$\\n(N=4834)</td>\n",
       "      <td>14.30</td>\n",
       "      <td>14.19</td>\n",
       "      <td>10.13</td>\n",
       "      <td>11.27</td>\n",
       "      <td>12.20</td>\n",
       "    </tr>\n",
       "    <tr>\n",
       "      <th>6</th>\n",
       "      <td>$\\mathbf{HNSCC}$\\n(N=4938)</td>\n",
       "      <td>14.09</td>\n",
       "      <td>12.35</td>\n",
       "      <td>11.61</td>\n",
       "      <td>10.65</td>\n",
       "      <td>12.99</td>\n",
       "    </tr>\n",
       "    <tr>\n",
       "      <th>7</th>\n",
       "      <td>$\\mathbf{LUAD}$\\n(N=4636)</td>\n",
       "      <td>12.84</td>\n",
       "      <td>12.27</td>\n",
       "      <td>9.80</td>\n",
       "      <td>9.59</td>\n",
       "      <td>11.91</td>\n",
       "    </tr>\n",
       "    <tr>\n",
       "      <th>8</th>\n",
       "      <td>$\\mathbf{NCI60}$\\n(N=2731)</td>\n",
       "      <td>12.18</td>\n",
       "      <td>14.87</td>\n",
       "      <td>7.88</td>\n",
       "      <td>9.49</td>\n",
       "      <td>10.85</td>\n",
       "    </tr>\n",
       "    <tr>\n",
       "      <th>9</th>\n",
       "      <td>$\\mathbf{ccRCC}$\\n(N=4671)</td>\n",
       "      <td>11.69</td>\n",
       "      <td>9.94</td>\n",
       "      <td>10.92</td>\n",
       "      <td>10.24</td>\n",
       "      <td>10.36</td>\n",
       "    </tr>\n",
       "  </tbody>\n",
       "</table>\n",
       "</div>"
      ],
      "text/plain": [
       "Factor                              Data  Average\\nnormalized rank  BordaFuse  \\\n",
       "0       $\\mathbf{BrCa (2016)}$\\n(N=4344)                     10.63      10.35   \n",
       "1       $\\mathbf{BrCa (2020)}$\\n(N=4763)                     15.35      11.80   \n",
       "2        $\\mathbf{CRC (2014)}$\\n(N=2967)                     21.65      18.37   \n",
       "3                $\\mathbf{EC}$\\n(N=4969)                     18.02      13.80   \n",
       "4               $\\mathbf{GBM}$\\n(N=4933)                     14.76      12.78   \n",
       "5              $\\mathbf{GTEx}$\\n(N=4834)                     14.30      14.19   \n",
       "6             $\\mathbf{HNSCC}$\\n(N=4938)                     14.09      12.35   \n",
       "7              $\\mathbf{LUAD}$\\n(N=4636)                     12.84      12.27   \n",
       "8             $\\mathbf{NCI60}$\\n(N=2731)                     12.18      14.87   \n",
       "9             $\\mathbf{ccRCC}$\\n(N=4671)                     11.69       9.94   \n",
       "\n",
       "Factor    MC4    RRA  Stuart  \n",
       "0        7.94   8.18    9.77  \n",
       "1       13.96  12.99   12.85  \n",
       "2       13.48  17.73   18.09  \n",
       "3       16.31  15.57   14.86  \n",
       "4       12.54  12.31   13.40  \n",
       "5       10.13  11.27   12.20  \n",
       "6       11.61  10.65   12.99  \n",
       "7        9.80   9.59   11.91  \n",
       "8        7.88   9.49   10.85  \n",
       "9       10.92  10.24   10.36  "
      ]
     },
     "metadata": {},
     "output_type": "display_data"
    }
   ],
   "source": [
    "proteins_count = {study.name: len(all_ranks[all_ranks.index.isin(study.index)]) for study in all_studies}\n",
    "r2_externalRanks_all = cu.dataframe_from_dict(['RRA', 'Stuart','BordaFuse', 'MC4', \n",
    "                                               'Average\\nnormalized rank', 'Proteins count'], \n",
    "                                              r2_rra_all,  r2_stuart_all, r2_bordafuse_all,\n",
    "                                              r2_mc4_all, r2_ag_mean_all, proteins_count, repeat_factor=len(r2_rra_all))"
   ]
  },
  {
   "cell_type": "code",
   "execution_count": 29,
   "id": "identical-expense",
   "metadata": {},
   "outputs": [
    {
     "data": {
      "image/png": "[encoded data removed]",
      "text/plain": [
       "<Figure size 288x324 with 1 Axes>"
      ]
     },
     "metadata": {
      "needs_background": "light"
     },
     "output_type": "display_data"
    }
   ],
   "source": [
    "get_order = lambda df: df.groupby(by=['Data']).sum().sort_values('R-squared').index.values\n",
    "with plt.rc_context({'axes.linewidth': 0.8, 'axes.spines.left': True}):\n",
    "    figure, ax = plt.subplots(1, 1, figsize=(4, 4.5))\n",
    "    customized_plots.draw_dotplot(ax=ax, x='R-squared', y='Data', data=r2_externalRanks_all, hue='Factor',  \n",
    "                                  order=get_order(r2_externalRanks_all),\n",
    "                                  args=gu.additional_plot_parameters(xlab=\"R-squared (%)\", ylab=None, \n",
    "                                                                     yaxis_grid=False, xaxis_grid=True,  \n",
    "                                                                     palette=palette,\n",
    "                                                                     anchor_legend_at=(1.5, 1)))"
   ]
  },
  {
   "cell_type": "code",
   "execution_count": 30,
   "id": "pleased-conservation",
   "metadata": {},
   "outputs": [
    {
     "data": {
      "text/html": [
       "<div>\n",
       "<style scoped>\n",
       "    .dataframe tbody tr th:only-of-type {\n",
       "        vertical-align: middle;\n",
       "    }\n",
       "\n",
       "    .dataframe tbody tr th {\n",
       "        vertical-align: top;\n",
       "    }\n",
       "\n",
       "    .dataframe thead th {\n",
       "        text-align: right;\n",
       "    }\n",
       "</style>\n",
       "<table border=\"1\" class=\"dataframe\">\n",
       "  <thead>\n",
       "    <tr style=\"text-align: right;\">\n",
       "      <th>Factor</th>\n",
       "      <th>Data</th>\n",
       "      <th>Average\\nNormalized Ranks</th>\n",
       "      <th>BordaFuse</th>\n",
       "      <th>MC4</th>\n",
       "      <th>RRA</th>\n",
       "      <th>Stuart</th>\n",
       "    </tr>\n",
       "  </thead>\n",
       "  <tbody>\n",
       "    <tr>\n",
       "      <th>0</th>\n",
       "      <td>$\\mathbf{CCLE}$\\n(N=4767)</td>\n",
       "      <td>24.05</td>\n",
       "      <td>21.43</td>\n",
       "      <td>23.99</td>\n",
       "      <td>21.18</td>\n",
       "      <td>19.74</td>\n",
       "    </tr>\n",
       "    <tr>\n",
       "      <th>1</th>\n",
       "      <td>$\\mathbf{Colon}$\\n(N=4220)</td>\n",
       "      <td>16.99</td>\n",
       "      <td>13.41</td>\n",
       "      <td>10.14</td>\n",
       "      <td>14.06</td>\n",
       "      <td>14.33</td>\n",
       "    </tr>\n",
       "    <tr>\n",
       "      <th>2</th>\n",
       "      <td>$\\mathbf{Ovarian}$\\n(N=4581)</td>\n",
       "      <td>19.76</td>\n",
       "      <td>21.60</td>\n",
       "      <td>11.89</td>\n",
       "      <td>14.43</td>\n",
       "      <td>18.39</td>\n",
       "    </tr>\n",
       "  </tbody>\n",
       "</table>\n",
       "</div>"
      ],
      "text/plain": [
       "Factor                          Data  Average\\nNormalized Ranks  BordaFuse  \\\n",
       "0          $\\mathbf{CCLE}$\\n(N=4767)                      24.05      21.43   \n",
       "1         $\\mathbf{Colon}$\\n(N=4220)                      16.99      13.41   \n",
       "2       $\\mathbf{Ovarian}$\\n(N=4581)                      19.76      21.60   \n",
       "\n",
       "Factor    MC4    RRA  Stuart  \n",
       "0       23.99  21.18   19.74  \n",
       "1       10.14  14.06   14.33  \n",
       "2       11.89  14.43   18.39  "
      ]
     },
     "metadata": {},
     "output_type": "display_data"
    }
   ],
   "source": [
    "proteins_count = {study.name: len(all_ranks[all_ranks.index.isin(study.index)]) for study in replicate_studies}\n",
    "r2_externalRanks_replicates = cu.dataframe_from_dict(['RRA', 'Stuart','BordaFuse', 'MC4', \n",
    "                                                   'Average\\nNormalized Ranks', 'Proteins count'],\n",
    "                                                  r2_rra_replicates,  r2_stuart_replicates, \n",
    "                                                  r2_bordafuse_replicates, r2_mc4_replicates, r2_ag_mean_replicates,\n",
    "                                                  proteins_count, repeat_factor=len(r2_rra_replicates))"
   ]
  },
  {
   "cell_type": "code",
   "execution_count": 31,
   "id": "aboriginal-bubble",
   "metadata": {},
   "outputs": [
    {
     "data": {
      "image/png": "[encoded data removed]",
      "text/plain": [
       "<Figure size 216x144 with 1 Axes>"
      ]
     },
     "metadata": {
      "needs_background": "light"
     },
     "output_type": "display_data"
    }
   ],
   "source": [
    "get_order = lambda df: df.groupby(by=['Data']).sum().sort_values('R-squared').index.values\n",
    "with plt.rc_context({'axes.linewidth': 0.8, 'axes.spines.left': True}):\n",
    "    figure, ax = plt.subplots(1, 1, figsize=(3, 2))\n",
    "    customized_plots.draw_dotplot(ax=ax, x='R-squared', y='Data', data=r2_externalRanks_replicates, hue='Factor',  \n",
    "                                  order=get_order(r2_externalRanks_replicates),\n",
    "                                  args=gu.additional_plot_parameters(xlab=\"R-squared (%)\", ylab=None, \n",
    "                                                                     yaxis_grid=False, xaxis_grid=True,  \n",
    "                                                                     palette=palette,\n",
    "                                                                     anchor_legend_at=(6, 1.05)))\n",
    "    ax.legend(title='Ranks aggregated using:', title_fontsize='medium', \n",
    "              bbox_to_anchor = (1.75, 1.05))._legend_box.align = \"left\"\n",
    "    plt.subplots_adjust(hspace=0.7)\n",
    "#     figure.savefig('../figures/S2B.svg', bbox_inches='tight', dpi=300)"
   ]
  },
  {
   "cell_type": "markdown",
   "id": "edb912e3",
   "metadata": {},
   "source": [
    "<div class=\"alert alert-block alert-success\">\n",
    "Our internal method of Aggregated Reproducibility Rank ('Average normalized rank') has outperformed the other algorithms in explaining the variation in mRNA-protein correlation of the studies containing proteomic replicates or otherwise (see previous diagram for reference) \n",
    "</div>"
   ]
  },
  {
   "cell_type": "code",
   "execution_count": 32,
   "id": "a40ff7cd",
   "metadata": {},
   "outputs": [],
   "source": [
    "ranks = pd.concat([get_normalized_ranks(replicates_correlation_ov), get_normalized_ranks(replicates_correlation_colon), \n",
    "           get_normalized_ranks(replicates_correlation_ccle), aggregated_normalized_ranks_mean], axis=1)\n",
    "ranks.columns = ['Ovarian Reproducibility Rank', 'Colon Reproducibility Rank', 'CCLE Reproducibility Rank', \n",
    "                'Aggregated Reproducibility Rank']"
   ]
  },
  {
   "cell_type": "code",
   "execution_count": 33,
   "id": "fd485115",
   "metadata": {},
   "outputs": [],
   "source": [
    "sheets = ['A. Protein-protein correlation', 'B. Protein reproducibility rank']\n",
    "writer = pd.ExcelWriter(file_protein_reproducibility)\n",
    "replicate_cor.to_excel(writer, sheets[0])\n",
    "ranks.to_excel(writer, sheets[1])\n",
    "\n",
    "writer.sheets[sheets[0]].set_column('B:D', 15)\n",
    "writer.sheets[sheets[1]].set_column('B:E', 25)\n",
    "writer.save()"
   ]
  },
  {
   "cell_type": "code",
   "execution_count": 34,
   "id": "15a979f9",
   "metadata": {},
   "outputs": [],
   "source": [
    "# Combining ranks and ensuring that the comparison per study in all the ranks contains the same number of proteins\n",
    "combined_ranks = ranks.dropna()"
   ]
  },
  {
   "cell_type": "code",
   "execution_count": 35,
   "id": "b8848ebc",
   "metadata": {},
   "outputs": [
    {
     "name": "stdout",
     "output_type": "stream",
     "text": [
      "Regressing mRNA-protein correlation using OV\n",
      "Regressing mRNA-protein correlation using Colon\n",
      "Regressing mRNA-protein correlation using CCLE\n",
      "Regressing mRNA-protein correlation using Aggregated Rank\n"
     ]
    },
    {
     "name": "stderr",
     "output_type": "stream",
     "text": [
      "C:\\Users\\swath\\Anaconda3\\envs\\omics_reproducibility\\lib\\site-packages\\statsmodels\\tsa\\tsatools.py:142: FutureWarning: In a future version of pandas all arguments of concat except for the argument 'objs' will be keyword-only\n",
      "  x = pd.concat(x[::order], 1)\n"
     ]
    }
   ],
   "source": [
    "rsquared_ov = {}\n",
    "print(\"Regressing mRNA-protein correlation using OV\")\n",
    "for study in all_studies: \n",
    "    rsquared_ov[study.name] = round(ols_fit(x=combined_ranks[ranks.columns[0]], \n",
    "                                            y = study).rsquared_adj*100, 2)\n",
    "    \n",
    "rsquared_colon = {}\n",
    "print(\"Regressing mRNA-protein correlation using Colon\")\n",
    "for study in all_studies: \n",
    "    rsquared_colon[study.name] = round(ols_fit(x=combined_ranks[ranks.columns[1]], \n",
    "                                               y = study).rsquared_adj*100, 2)\n",
    "    \n",
    "rsquared_ccle = {}\n",
    "print(\"Regressing mRNA-protein correlation using CCLE\")\n",
    "for study in all_studies: \n",
    "    rsquared_ccle[study.name] =round(ols_fit(x=combined_ranks[ranks.columns[2]], \n",
    "                                             y = study).rsquared_adj *100, 2)\n",
    "    \n",
    "    \n",
    "rsquared_aggregated_rank = {}\n",
    "print(\"Regressing mRNA-protein correlation using Aggregated Rank\")\n",
    "for study in all_studies: \n",
    "    rsquared_aggregated_rank[study.name] = round(ols_fit(x=combined_ranks[ranks.columns[3]], \n",
    "                                               y = study).rsquared_adj*100, 2)"
   ]
  },
  {
   "cell_type": "code",
   "execution_count": 36,
   "id": "7152ce67",
   "metadata": {},
   "outputs": [
    {
     "data": {
      "text/html": [
       "<div>\n",
       "<style scoped>\n",
       "    .dataframe tbody tr th:only-of-type {\n",
       "        vertical-align: middle;\n",
       "    }\n",
       "\n",
       "    .dataframe tbody tr th {\n",
       "        vertical-align: top;\n",
       "    }\n",
       "\n",
       "    .dataframe thead th {\n",
       "        text-align: right;\n",
       "    }\n",
       "</style>\n",
       "<table border=\"1\" class=\"dataframe\">\n",
       "  <thead>\n",
       "    <tr style=\"text-align: right;\">\n",
       "      <th>Factor</th>\n",
       "      <th>Data</th>\n",
       "      <th>Aggregated Protein\\nReproducibility Rank</th>\n",
       "      <th>CCLE Protein\\nReproducibility Rank</th>\n",
       "      <th>Colon Protein\\nReproducibility Rank</th>\n",
       "      <th>Ovarian Protein\\nReproducibility Rank</th>\n",
       "    </tr>\n",
       "  </thead>\n",
       "  <tbody>\n",
       "    <tr>\n",
       "      <th>0</th>\n",
       "      <td>$\\mathbf{BrCa (2016)}$\\n(N=2285)</td>\n",
       "      <td>14.16</td>\n",
       "      <td>8.10</td>\n",
       "      <td>7.47</td>\n",
       "      <td>7.05</td>\n",
       "    </tr>\n",
       "    <tr>\n",
       "      <th>1</th>\n",
       "      <td>$\\mathbf{BrCa (2020)}$\\n(N=2489)</td>\n",
       "      <td>21.65</td>\n",
       "      <td>12.60</td>\n",
       "      <td>13.26</td>\n",
       "      <td>9.35</td>\n",
       "    </tr>\n",
       "    <tr>\n",
       "      <th>2</th>\n",
       "      <td>$\\mathbf{CRC (2014)}$\\n(N=2299)</td>\n",
       "      <td>24.14</td>\n",
       "      <td>8.85</td>\n",
       "      <td>21.02</td>\n",
       "      <td>11.22</td>\n",
       "    </tr>\n",
       "    <tr>\n",
       "      <th>3</th>\n",
       "      <td>$\\mathbf{EC}$\\n(N=2615)</td>\n",
       "      <td>26.50</td>\n",
       "      <td>13.96</td>\n",
       "      <td>16.64</td>\n",
       "      <td>12.76</td>\n",
       "    </tr>\n",
       "    <tr>\n",
       "      <th>4</th>\n",
       "      <td>$\\mathbf{GBM}$\\n(N=2600)</td>\n",
       "      <td>19.67</td>\n",
       "      <td>12.17</td>\n",
       "      <td>9.82</td>\n",
       "      <td>10.24</td>\n",
       "    </tr>\n",
       "    <tr>\n",
       "      <th>5</th>\n",
       "      <td>$\\mathbf{GTEx}$\\n(N=2602)</td>\n",
       "      <td>20.26</td>\n",
       "      <td>13.37</td>\n",
       "      <td>9.31</td>\n",
       "      <td>10.38</td>\n",
       "    </tr>\n",
       "    <tr>\n",
       "      <th>6</th>\n",
       "      <td>$\\mathbf{HNSCC}$\\n(N=2613)</td>\n",
       "      <td>20.32</td>\n",
       "      <td>13.33</td>\n",
       "      <td>10.99</td>\n",
       "      <td>8.98</td>\n",
       "    </tr>\n",
       "    <tr>\n",
       "      <th>7</th>\n",
       "      <td>$\\mathbf{LUAD}$\\n(N=2424)</td>\n",
       "      <td>19.44</td>\n",
       "      <td>11.71</td>\n",
       "      <td>10.55</td>\n",
       "      <td>9.10</td>\n",
       "    </tr>\n",
       "    <tr>\n",
       "      <th>8</th>\n",
       "      <td>$\\mathbf{NCI60}$\\n(N=2024)</td>\n",
       "      <td>14.04</td>\n",
       "      <td>12.02</td>\n",
       "      <td>3.34</td>\n",
       "      <td>9.09</td>\n",
       "    </tr>\n",
       "    <tr>\n",
       "      <th>9</th>\n",
       "      <td>$\\mathbf{ccRCC}$\\n(N=2512)</td>\n",
       "      <td>15.61</td>\n",
       "      <td>11.22</td>\n",
       "      <td>6.95</td>\n",
       "      <td>7.47</td>\n",
       "    </tr>\n",
       "  </tbody>\n",
       "</table>\n",
       "</div>"
      ],
      "text/plain": [
       "Factor                              Data  \\\n",
       "0       $\\mathbf{BrCa (2016)}$\\n(N=2285)   \n",
       "1       $\\mathbf{BrCa (2020)}$\\n(N=2489)   \n",
       "2        $\\mathbf{CRC (2014)}$\\n(N=2299)   \n",
       "3                $\\mathbf{EC}$\\n(N=2615)   \n",
       "4               $\\mathbf{GBM}$\\n(N=2600)   \n",
       "5              $\\mathbf{GTEx}$\\n(N=2602)   \n",
       "6             $\\mathbf{HNSCC}$\\n(N=2613)   \n",
       "7              $\\mathbf{LUAD}$\\n(N=2424)   \n",
       "8             $\\mathbf{NCI60}$\\n(N=2024)   \n",
       "9             $\\mathbf{ccRCC}$\\n(N=2512)   \n",
       "\n",
       "Factor  Aggregated Protein\\nReproducibility Rank  \\\n",
       "0                                          14.16   \n",
       "1                                          21.65   \n",
       "2                                          24.14   \n",
       "3                                          26.50   \n",
       "4                                          19.67   \n",
       "5                                          20.26   \n",
       "6                                          20.32   \n",
       "7                                          19.44   \n",
       "8                                          14.04   \n",
       "9                                          15.61   \n",
       "\n",
       "Factor  CCLE Protein\\nReproducibility Rank  \\\n",
       "0                                     8.10   \n",
       "1                                    12.60   \n",
       "2                                     8.85   \n",
       "3                                    13.96   \n",
       "4                                    12.17   \n",
       "5                                    13.37   \n",
       "6                                    13.33   \n",
       "7                                    11.71   \n",
       "8                                    12.02   \n",
       "9                                    11.22   \n",
       "\n",
       "Factor  Colon Protein\\nReproducibility Rank  \\\n",
       "0                                      7.47   \n",
       "1                                     13.26   \n",
       "2                                     21.02   \n",
       "3                                     16.64   \n",
       "4                                      9.82   \n",
       "5                                      9.31   \n",
       "6                                     10.99   \n",
       "7                                     10.55   \n",
       "8                                      3.34   \n",
       "9                                      6.95   \n",
       "\n",
       "Factor  Ovarian Protein\\nReproducibility Rank  \n",
       "0                                        7.05  \n",
       "1                                        9.35  \n",
       "2                                       11.22  \n",
       "3                                       12.76  \n",
       "4                                       10.24  \n",
       "5                                       10.38  \n",
       "6                                        8.98  \n",
       "7                                        9.10  \n",
       "8                                        9.09  \n",
       "9                                        7.47  "
      ]
     },
     "metadata": {},
     "output_type": "display_data"
    }
   ],
   "source": [
    "proteins_count = {study.name: len(combined_ranks[combined_ranks.index.isin(study.index)]) for study in all_studies}\n",
    "rsquared_ranks = cu.dataframe_from_dict(['Ovarian Protein\\nReproducibility Rank', 'CCLE Protein\\nReproducibility Rank', \n",
    "                                         'Colon Protein\\nReproducibility Rank', \n",
    "                                         'Aggregated Protein\\nReproducibility Rank', 'Proteins count'], \n",
    "                                         rsquared_ov, rsquared_ccle, rsquared_colon, rsquared_aggregated_rank,\n",
    "                                         proteins_count, repeat_factor=len(rsquared_ov))"
   ]
  },
  {
   "cell_type": "code",
   "execution_count": 37,
   "id": "c125c56f",
   "metadata": {},
   "outputs": [],
   "source": [
    "xlab=\"R-squared (%)\"\n",
    "palette = [gu.get_color(x) for x in ['orange', 'yellow', 'sky-blue', 'green']]\n",
    "args=gu.additional_plot_parameters(xlab=xlab, ylab=None, yaxis_grid=False, xaxis_grid=True,  \n",
    "                                   palette= palette, #['#E69F00', '#009E73'], \n",
    "                                   anchor_legend_at=(1.5, 1))"
   ]
  },
  {
   "cell_type": "code",
   "execution_count": 38,
   "id": "1c163da3",
   "metadata": {},
   "outputs": [
    {
     "data": {
      "image/png": "[encoded data removed]",
      "text/plain": [
       "<Figure size 360x360 with 1 Axes>"
      ]
     },
     "metadata": {
      "needs_background": "light"
     },
     "output_type": "display_data"
    }
   ],
   "source": [
    "get_order = lambda df: df.groupby(by=['Data']).sum().sort_values('R-squared').index.values\n",
    "hue_order = ['Ovarian Protein\\nReproducibility Rank', 'CCLE Protein\\nReproducibility Rank', \n",
    "             'Colon Protein\\nReproducibility Rank', 'Aggregated Protein\\nReproducibility Rank']\n",
    "with plt.rc_context({'axes.linewidth': 0.8, 'axes.spines.left': True}):\n",
    "    figure, ax = plt.subplots(1, 1, figsize=(5, 5))\n",
    "#     customized_plots.draw_dotplot(ax=ax[0], x='R-squared', y='Data', \n",
    "#                                   data=rsquared_complex_rank,\n",
    "#                                   hue='Factor', order=get_order(rsquared_complex_rank), args=args) \n",
    "    args.palette =  ['#009E73' if color == '#999999' else color for color in palette]\n",
    "    customized_plots.draw_dotplot(ax=ax, x='R-squared', y='Data', data=rsquared_ranks, hue='Factor',\n",
    "                                  order=get_order(rsquared_ranks), args=args, hue_order=hue_order)\n",
    "\n",
    "#     figure.savefig('../figures/S3.svg', bbox_inches='tight', dpi=300)"
   ]
  }
 ],
 "metadata": {
  "kernelspec": {
   "display_name": "Python 3 (ipykernel)",
   "language": "python",
   "name": "python3"
  },
  "language_info": {
   "codemirror_mode": {
    "name": "ipython",
    "version": 3
   },
   "file_extension": ".py",
   "mimetype": "text/x-python",
   "name": "python",
   "nbconvert_exporter": "python",
   "pygments_lexer": "ipython3",
   "version": "3.8.10"
  }
 },
 "nbformat": 4,
 "nbformat_minor": 5
}

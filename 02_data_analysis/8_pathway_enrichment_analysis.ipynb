{
 "cells": [
  {
   "cell_type": "markdown",
   "id": "65ecae67",
   "metadata": {},
   "source": [
    "## Pathway enrichment "
   ]
  },
  {
   "cell_type": "markdown",
   "id": "3e977cf6",
   "metadata": {},
   "source": [
    "**Input:** \n",
    "<ul>\n",
    "    <li> KEGG pathways and associated genes </li>\n",
    "    <li> Ovarian and CCLE mRNA-protein correlation (Table S1)</li>\n",
    "    <li> Proteomic and transcriptomic reproducibility (Table S2) </li>\n",
    "</ul>          \n",
    "\n",
    "**Output:** \n",
    "<ul>\n",
    "    <li> Table S3 </li>\n",
    "    <li> Table S4 </li>\n",
    "</ul>          \n",
    "\n",
    "Here we perform Kolmogorov-Smirnov test, Wilcoxon rank sum tests, Mann-whittney U-test to identify the pathways that are enriched before and after accounting for experimental reproducibility for ovarian and CCLE mRNA-protein correlation! "
   ]
  },
  {
   "cell_type": "code",
   "execution_count": 1,
   "id": "749cb9ee",
   "metadata": {},
   "outputs": [],
   "source": [
    "import os, ast, math\n",
    "%matplotlib inline\n",
    "import numpy as np\n",
    "import pandas as pd \n",
    "import seaborn as sns\n",
    "import statsmodels.api as sm\n",
    "from matplotlib import pyplot as plt\n",
    "import matplotlib as mpl\n",
    "import graphing_utils \n",
    "from scipy.stats import ks_2samp, ranksums, mannwhitneyu\n",
    "from statsmodels.stats.multitest import multipletests, fdrcorrection"
   ]
  },
  {
   "cell_type": "code",
   "execution_count": 2,
   "id": "c132d15c",
   "metadata": {},
   "outputs": [],
   "source": [
    "get_local_data_path = lambda folders, fname: os.path.normpath('../local_data/'+'/'.join(folders) +'/'+ fname)\n",
    "get_figure_path = lambda fname: os.path.normpath('../figures/'+ fname)\n",
    "\n",
    "file_kegg_pathway_info = get_local_data_path(['processed'], 'kegg_pathways.csv')\n",
    "\n",
    "file_mRNA_protein_correlation = get_local_data_path(['results'], 'TableS1.xlsx')\n",
    "file_protein_reproducibility = get_local_data_path(['results'], 'TableS2.xlsx')\n",
    "file_pathway_enrichment_ccle = get_local_data_path(['results'], 'TableS3.xlsx')\n",
    "file_pathway_enrichment_ov = get_local_data_path(['results'], 'TableS4.xlsx')\n",
    "file_transcriptomic_reproducibility_cor = get_local_data_path(['processed', 'correlation_replicates'], \n",
    "                                                              'transcriptomic_reproducibility.xlsx')"
   ]
  },
  {
   "cell_type": "code",
   "execution_count": 3,
   "id": "60ac5d6a",
   "metadata": {},
   "outputs": [
    {
     "data": {
      "text/html": [
       "<div>\n",
       "<style scoped>\n",
       "    .dataframe tbody tr th:only-of-type {\n",
       "        vertical-align: middle;\n",
       "    }\n",
       "\n",
       "    .dataframe tbody tr th {\n",
       "        vertical-align: top;\n",
       "    }\n",
       "\n",
       "    .dataframe thead th {\n",
       "        text-align: right;\n",
       "    }\n",
       "</style>\n",
       "<table border=\"1\" class=\"dataframe\">\n",
       "  <thead>\n",
       "    <tr style=\"text-align: right;\">\n",
       "      <th></th>\n",
       "      <th>CRC (2014)</th>\n",
       "      <th>BrCa (2016)</th>\n",
       "      <th>Ovarian</th>\n",
       "      <th>Colon</th>\n",
       "      <th>ccRCC</th>\n",
       "      <th>EC</th>\n",
       "      <th>LUAD</th>\n",
       "      <th>BrCa (2020)</th>\n",
       "      <th>HNSCC</th>\n",
       "      <th>GBM</th>\n",
       "      <th>NCI60</th>\n",
       "      <th>CCLE</th>\n",
       "      <th>GTEx</th>\n",
       "    </tr>\n",
       "    <tr>\n",
       "      <th>Gene symbol</th>\n",
       "      <th></th>\n",
       "      <th></th>\n",
       "      <th></th>\n",
       "      <th></th>\n",
       "      <th></th>\n",
       "      <th></th>\n",
       "      <th></th>\n",
       "      <th></th>\n",
       "      <th></th>\n",
       "      <th></th>\n",
       "      <th></th>\n",
       "      <th></th>\n",
       "      <th></th>\n",
       "    </tr>\n",
       "  </thead>\n",
       "  <tbody>\n",
       "    <tr>\n",
       "      <th>A1BG</th>\n",
       "      <td>0.123133</td>\n",
       "      <td>-0.093805</td>\n",
       "      <td>-0.078889</td>\n",
       "      <td>NaN</td>\n",
       "      <td>0.035573</td>\n",
       "      <td>0.324974</td>\n",
       "      <td>-0.119663</td>\n",
       "      <td>0.077242</td>\n",
       "      <td>0.065872</td>\n",
       "      <td>-0.192863</td>\n",
       "      <td>NaN</td>\n",
       "      <td>NaN</td>\n",
       "      <td>0.154523</td>\n",
       "    </tr>\n",
       "    <tr>\n",
       "      <th>A1CF</th>\n",
       "      <td>NaN</td>\n",
       "      <td>NaN</td>\n",
       "      <td>NaN</td>\n",
       "      <td>0.673548</td>\n",
       "      <td>0.908613</td>\n",
       "      <td>NaN</td>\n",
       "      <td>NaN</td>\n",
       "      <td>NaN</td>\n",
       "      <td>NaN</td>\n",
       "      <td>NaN</td>\n",
       "      <td>NaN</td>\n",
       "      <td>NaN</td>\n",
       "      <td>0.188605</td>\n",
       "    </tr>\n",
       "  </tbody>\n",
       "</table>\n",
       "</div>"
      ],
      "text/plain": [
       "             CRC (2014)  BrCa (2016)   Ovarian     Colon     ccRCC        EC  \\\n",
       "Gene symbol                                                                    \n",
       "A1BG           0.123133    -0.093805 -0.078889       NaN  0.035573  0.324974   \n",
       "A1CF                NaN          NaN       NaN  0.673548  0.908613       NaN   \n",
       "\n",
       "                 LUAD  BrCa (2020)     HNSCC       GBM  NCI60  CCLE      GTEx  \n",
       "Gene symbol                                                                    \n",
       "A1BG        -0.119663     0.077242  0.065872 -0.192863    NaN   NaN  0.154523  \n",
       "A1CF              NaN          NaN       NaN       NaN    NaN   NaN  0.188605  "
      ]
     },
     "execution_count": 3,
     "metadata": {},
     "output_type": "execute_result"
    }
   ],
   "source": [
    "mRNA_protein_correlation = pd.read_excel(file_mRNA_protein_correlation, sheet_name='A. mRNA-protein correlation', \n",
    "                                         index_col=0)\n",
    "mRNA_protein_correlation[:2]"
   ]
  },
  {
   "cell_type": "code",
   "execution_count": 4,
   "id": "ecdf5ba2",
   "metadata": {},
   "outputs": [],
   "source": [
    "ovarian_mRNA_protein_rho = mRNA_protein_correlation['Ovarian'].dropna()\n",
    "ccle_mRNA_protein_rho = mRNA_protein_correlation['CCLE'].dropna()"
   ]
  },
  {
   "cell_type": "code",
   "execution_count": 5,
   "id": "6ce15579",
   "metadata": {},
   "outputs": [
    {
     "data": {
      "text/plain": [
       "A1BG    0.575671\n",
       "A2M     0.501120\n",
       "Name: Aggregated Reproducibility Rank, dtype: float64"
      ]
     },
     "execution_count": 5,
     "metadata": {},
     "output_type": "execute_result"
    }
   ],
   "source": [
    "aggregated_rank = pd.read_excel(file_protein_reproducibility, sheet_name='B. Protein reproducibility rank', \n",
    "                                index_col=0, usecols=['Unnamed: 0', 'Aggregated Reproducibility Rank'], \n",
    "                                squeeze=True).dropna()\n",
    "aggregated_rank[:2]"
   ]
  },
  {
   "cell_type": "code",
   "execution_count": 6,
   "id": "f29619f1",
   "metadata": {},
   "outputs": [
    {
     "data": {
      "text/plain": [
       "A1BG      0.758553\n",
       "A4GALT    0.866460\n",
       "Name: CCLE-Klijn, dtype: float64"
      ]
     },
     "execution_count": 6,
     "metadata": {},
     "output_type": "execute_result"
    }
   ],
   "source": [
    "correlation_transcriptomics = pd.read_excel(file_transcriptomic_reproducibility_cor, sheet_name='Reproducibility',\n",
    "                                            index_col=0, squeeze=True)\n",
    "correlation_transcriptomics[:2]"
   ]
  },
  {
   "cell_type": "code",
   "execution_count": 7,
   "id": "e5bf7189",
   "metadata": {},
   "outputs": [],
   "source": [
    "def get_matched_index(x1, x2):\n",
    "    common_proteins = x1.index[x1.index.isin(x2.index)]\n",
    "    print('# Common proteins: ', len(common_proteins))\n",
    "    return x1.reindex(common_proteins), x2.reindex(common_proteins)\n",
    "\n",
    "def ols_fit(x, y, match_subsets=True):\n",
    "    x_subset, y_subset = get_matched_index(x, y) \n",
    "    est = sm.OLS(y_subset, sm.add_constant(x_subset.astype(float))).fit()\n",
    "    return est"
   ]
  },
  {
   "cell_type": "code",
   "execution_count": 8,
   "id": "2189455b",
   "metadata": {},
   "outputs": [
    {
     "name": "stdout",
     "output_type": "stream",
     "text": [
      "Number of common proteins between CCLE transcriptomic and aggregated data:  4795\n"
     ]
    }
   ],
   "source": [
    "combined_df = pd.concat([aggregated_rank, correlation_transcriptomics], axis=1, join='inner')\n",
    "combined_df.columns=['Aggregated Ranks', 'Transcriptomic replicate correlation']\n",
    "print(\"Number of common proteins between CCLE transcriptomic and aggregated data: \", len(combined_df))"
   ]
  },
  {
   "cell_type": "code",
   "execution_count": 9,
   "id": "7f7c661b",
   "metadata": {},
   "outputs": [
    {
     "name": "stdout",
     "output_type": "stream",
     "text": [
      "Regressing mRNA-protein correlation using CCLE Transcriptomic and Aggregated subset\n",
      "# Common proteins:  4231\n",
      "# Common proteins:  4676\n"
     ]
    }
   ],
   "source": [
    "print(\"Regressing mRNA-protein correlation using CCLE Transcriptomic and Aggregated subset\")\n",
    "residuals_ov = ols_fit(x=combined_df, y = ovarian_mRNA_protein_rho).resid\n",
    "residuals_ccle = ols_fit(x=combined_df, y = ccle_mRNA_protein_rho).resid"
   ]
  },
  {
   "cell_type": "code",
   "execution_count": 10,
   "id": "84d5af59",
   "metadata": {},
   "outputs": [
    {
     "data": {
      "text/html": [
       "<div>\n",
       "<style scoped>\n",
       "    .dataframe tbody tr th:only-of-type {\n",
       "        vertical-align: middle;\n",
       "    }\n",
       "\n",
       "    .dataframe tbody tr th {\n",
       "        vertical-align: top;\n",
       "    }\n",
       "\n",
       "    .dataframe thead th {\n",
       "        text-align: right;\n",
       "    }\n",
       "</style>\n",
       "<table border=\"1\" class=\"dataframe\">\n",
       "  <thead>\n",
       "    <tr style=\"text-align: right;\">\n",
       "      <th></th>\n",
       "      <th>mRNA-protein-Rho</th>\n",
       "      <th>Residuals</th>\n",
       "    </tr>\n",
       "  </thead>\n",
       "  <tbody>\n",
       "    <tr>\n",
       "      <th>A1BG</th>\n",
       "      <td>-0.078889</td>\n",
       "      <td>-0.534954</td>\n",
       "    </tr>\n",
       "    <tr>\n",
       "      <th>AAAS</th>\n",
       "      <td>0.348565</td>\n",
       "      <td>-0.031504</td>\n",
       "    </tr>\n",
       "  </tbody>\n",
       "</table>\n",
       "</div>"
      ],
      "text/plain": [
       "      mRNA-protein-Rho  Residuals\n",
       "A1BG         -0.078889  -0.534954\n",
       "AAAS          0.348565  -0.031504"
      ]
     },
     "execution_count": 10,
     "metadata": {},
     "output_type": "execute_result"
    }
   ],
   "source": [
    "ov_combined_df = pd.concat([ovarian_mRNA_protein_rho.rename('mRNA-protein-Rho'), \n",
    "                            residuals_ov.rename('Residuals')], axis=1, join='inner')\n",
    "ov_combined_df[:2]"
   ]
  },
  {
   "cell_type": "code",
   "execution_count": 11,
   "id": "d1eb0845",
   "metadata": {},
   "outputs": [
    {
     "data": {
      "text/html": [
       "<div>\n",
       "<style scoped>\n",
       "    .dataframe tbody tr th:only-of-type {\n",
       "        vertical-align: middle;\n",
       "    }\n",
       "\n",
       "    .dataframe tbody tr th {\n",
       "        vertical-align: top;\n",
       "    }\n",
       "\n",
       "    .dataframe thead th {\n",
       "        text-align: right;\n",
       "    }\n",
       "</style>\n",
       "<table border=\"1\" class=\"dataframe\">\n",
       "  <thead>\n",
       "    <tr style=\"text-align: right;\">\n",
       "      <th></th>\n",
       "      <th>mRNA-protein-Rho</th>\n",
       "      <th>Residuals</th>\n",
       "    </tr>\n",
       "  </thead>\n",
       "  <tbody>\n",
       "    <tr>\n",
       "      <th>AAAS</th>\n",
       "      <td>0.054040</td>\n",
       "      <td>-0.368393</td>\n",
       "    </tr>\n",
       "    <tr>\n",
       "      <th>AACS</th>\n",
       "      <td>0.446383</td>\n",
       "      <td>-0.119626</td>\n",
       "    </tr>\n",
       "  </tbody>\n",
       "</table>\n",
       "</div>"
      ],
      "text/plain": [
       "      mRNA-protein-Rho  Residuals\n",
       "AAAS          0.054040  -0.368393\n",
       "AACS          0.446383  -0.119626"
      ]
     },
     "execution_count": 11,
     "metadata": {},
     "output_type": "execute_result"
    }
   ],
   "source": [
    "ccle_combined_df = pd.concat([ccle_mRNA_protein_rho.rename('mRNA-protein-Rho'), \n",
    "                            residuals_ccle.rename('Residuals')], axis=1, join='inner')\n",
    "ccle_combined_df[:2]"
   ]
  },
  {
   "cell_type": "code",
   "execution_count": 12,
   "id": "50d38328",
   "metadata": {},
   "outputs": [
    {
     "name": "stdout",
     "output_type": "stream",
     "text": [
      "(335, 2)\n"
     ]
    },
    {
     "data": {
      "text/html": [
       "<div>\n",
       "<style scoped>\n",
       "    .dataframe tbody tr th:only-of-type {\n",
       "        vertical-align: middle;\n",
       "    }\n",
       "\n",
       "    .dataframe tbody tr th {\n",
       "        vertical-align: top;\n",
       "    }\n",
       "\n",
       "    .dataframe thead th {\n",
       "        text-align: right;\n",
       "    }\n",
       "</style>\n",
       "<table border=\"1\" class=\"dataframe\">\n",
       "  <thead>\n",
       "    <tr style=\"text-align: right;\">\n",
       "      <th></th>\n",
       "      <th>Name</th>\n",
       "      <th>Genes</th>\n",
       "    </tr>\n",
       "    <tr>\n",
       "      <th>Code</th>\n",
       "      <th></th>\n",
       "      <th></th>\n",
       "    </tr>\n",
       "  </thead>\n",
       "  <tbody>\n",
       "    <tr>\n",
       "      <th>hsa00010</th>\n",
       "      <td>Glycolysis / Gluconeogenesis</td>\n",
       "      <td>[HK3, HK1, HK2, HKDC1, GCK, GPI, PFKM, PFKP, P...</td>\n",
       "    </tr>\n",
       "    <tr>\n",
       "      <th>hsa00020</th>\n",
       "      <td>Citrate cycle (TCA cycle)</td>\n",
       "      <td>[CS, ACLY, ACO2, ACO1, IDH1, IDH2, IDH3B, IDH3...</td>\n",
       "    </tr>\n",
       "  </tbody>\n",
       "</table>\n",
       "</div>"
      ],
      "text/plain": [
       "                                  Name  \\\n",
       "Code                                     \n",
       "hsa00010  Glycolysis / Gluconeogenesis   \n",
       "hsa00020     Citrate cycle (TCA cycle)   \n",
       "\n",
       "                                                      Genes  \n",
       "Code                                                         \n",
       "hsa00010  [HK3, HK1, HK2, HKDC1, GCK, GPI, PFKM, PFKP, P...  \n",
       "hsa00020  [CS, ACLY, ACO2, ACO1, IDH1, IDH2, IDH3B, IDH3...  "
      ]
     },
     "execution_count": 12,
     "metadata": {},
     "output_type": "execute_result"
    }
   ],
   "source": [
    "pathways = pd.read_csv(file_kegg_pathway_info, index_col=0)\n",
    "print(pathways.shape)\n",
    "pathways.Genes = pathways.Genes.apply(lambda s: list(ast.literal_eval(s)))\n",
    "pathways[:2]"
   ]
  },
  {
   "cell_type": "code",
   "execution_count": 13,
   "id": "dded7e7a",
   "metadata": {},
   "outputs": [],
   "source": [
    "previously_enriched_genesets = ['Arginine and proline metabolism', 'Butanoate metabolism', 'Fatty acid metabolism', \n",
    "                                'Ribosome', 'Oxidative phosphorylation', 'Spliceosome', 'PPAR signaling pathway',\n",
    "                                'Complement and coagulation cascades', 'Purine metabolism', 'Pyrimidine metabolism', \n",
    "                                'Alanine, aspartate and glutamate metabolism', 'Glycine, serine and threonine metabolism', \n",
    "                                'Cysteine and methionine metabolism', 'Valine, leucine and isoleucine degradation',\n",
    "                                'Valine, leucine and isoleucine biosynthesis', 'Lysine biosynthesis', 'Lysine degradation',\n",
    "                                'Arginine biosynthesis', 'Histidine metabolism', 'Ubiquitin mediated proteolysis',\n",
    "                                'Tyrosine metabolism', 'Phenylalanine metabolism', 'Tryptophan metabolism', \n",
    "                                'Glycolysis' ,' Phenylalanine, tyrosine and tryptophan biosynthesis', 'RNA polymerase', \n",
    "                                'Galactose metabolism', 'Glycosylphosphatidylinositol (GPI)-anchor biosynthesis',\n",
    "                                'Arachidonic acid metabolism', 'Glutathione metabolism', 'Glycerolipid metabolism',\n",
    "                                'Biosynthesis of unsaturated fatty acids', 'mRNA surveillance pathway',\n",
    "                                'Toll-like receptor signaling pathway', 'DNA Replication', 'Focal adhesion', \n",
    "                                'ECM-receptor interaction', 'Proteasome', 'Cell adhesion molecules']"
   ]
  },
  {
   "cell_type": "code",
   "execution_count": 14,
   "id": "462ffaa0",
   "metadata": {},
   "outputs": [],
   "source": [
    "kegg_categories_map = {'Metabolism': ['Oxidative phosphorylation', 'Purine metabolism', 'Glutathione metabolism', \n",
    "                                      'Arachidonic acid metabolism', 'Glycerolipid metabolism', \n",
    "                                      'Arginine and proline metabolism', 'Butanoate metabolism', 'Fatty acid metabolism',\n",
    "                                      'Biosynthesis of unsaturated fatty acids','Purine metabolism', \n",
    "                                      'Pyrimidine metabolism', 'Alanine, aspartate and glutamate metabolism', \n",
    "                                      'Glycine, serine and threonine metabolism', 'Cysteine and methionine metabolism', \n",
    "                                      'Valine, leucine and isoleucine degradation', 'Lysine degradation',\n",
    "                                      'Valine, leucine and isoleucine biosynthesis', 'Lysine biosynthesis', \n",
    "                                      'Arginine biosynthesis', 'Histidine metabolism', 'Ubiquitin mediated proteolysis',\n",
    "                                      'Tyrosine metabolism', 'Phenylalanine metabolism', 'Tryptophan metabolism', \n",
    "                                      'Glycolysis' ,' Phenylalanine, tyrosine and tryptophan biosynthesis',\n",
    "                                      'Galactose metabolism'], \n",
    "                       'Environmental Information Processing': ['ECM-receptor interaction', \n",
    "                                                                  'Cell adhesion molecules'], \n",
    "                       'Genetic Information Processing': ['Spliceosome', 'Ribosome', 'RNA transport', 'RNA polymerase',\n",
    "                                                           'DNA replication', 'Ribosome biogenesis in eukaryotes', \n",
    "                                                           'Homologous recombination',\n",
    "                                                           'mRNA surveillance pathway', 'Proteasome']}\n",
    "\n",
    "def add_category(dataframe, column):\n",
    "    d = dict((k,v) for v, x in kegg_categories_map.items() for k in x)\n",
    "    dataframe.insert(len(dataframe.columns), 'KEGG Category', dataframe.index.map(d))\n",
    "    dataframe = dataframe.dropna(subset = ['KEGG Category'])\n",
    "\n",
    "    dataframe = dataframe.assign(**{'KEGG Category':pd.Categorical(dataframe[\"KEGG Category\"], \n",
    "                                                categories=['Environmental Information Processing', 'Metabolism', \n",
    "                                                            'Genetic Information Processing'])})\n",
    "    dataframe = dataframe.sort_values(by=['KEGG Category','Median mRNA-protein correlation', column], \n",
    "                                      ascending=[True, True, True])\n",
    "    return dataframe"
   ]
  },
  {
   "cell_type": "code",
   "execution_count": 15,
   "id": "0f7103b4",
   "metadata": {},
   "outputs": [],
   "source": [
    "def plot_pvalues(pvalues, method): \n",
    "    f, ax = plt.subplots(1, 1, figsize=(2,1.7), sharey=False)\n",
    "    sns.histplot(x=pvalues, ax=ax, bins=25); ax.set_xlabel(method + ' p-value')\n",
    "    plt.tight_layout()        "
   ]
  },
  {
   "cell_type": "code",
   "execution_count": 16,
   "id": "f7ed8916",
   "metadata": {},
   "outputs": [],
   "source": [
    "pvalue_str = 'pvalue' ; padjust_str = 'padjust' ; FDR_str = 'FDR' ; after_str = ' (after)' ; before_str = ' (before)'\n",
    "    \n",
    "def perform_enrichment_test(set_of_genes, method='MannWhitney', residual=False):\n",
    "    pvalues = []; median_scores_higher = []\n",
    "    for index, row in pathways.iterrows():\n",
    "        genes_in_pathway = np.intersect1d(row[1], set_of_genes.index)\n",
    "        genes_not_in_pathway = list(set(set_of_genes.index) - set(genes_in_pathway))\n",
    "        scores_in_pathways = set_of_genes.reindex(genes_in_pathway)\n",
    "        scores_not_in_pathways = set_of_genes.reindex(genes_not_in_pathway)\n",
    "        median_scores_higher.append('Higher' if scores_in_pathways.median() > scores_not_in_pathways.median() else 'Lower')\n",
    "        if(len(scores_in_pathways) > 3):\n",
    "            switcher = {\n",
    "                'KS': ks_2samp(scores_in_pathways, scores_not_in_pathways, alternative='two-sided')[1],\n",
    "                'Wilcoxon': ranksums(scores_in_pathways, scores_not_in_pathways)[1],\n",
    "                'MannWhitneyU': mannwhitneyu(scores_in_pathways, scores_not_in_pathways, method='asymptotic')[1]}\n",
    "            pvalues.append(switcher.get(method)) \n",
    "        else:\n",
    "            pvalues.append(np.nan)\n",
    "    \n",
    "    \n",
    "    if(residual):\n",
    "        pvalue, padjust, FDR = pvalue_str + after_str, padjust_str + after_str, FDR_str + after_str\n",
    "        dataframe = pd.DataFrame({'Pathway':pathways['Name'], pvalue:pvalues}).dropna().set_index('Pathway')\n",
    "        \n",
    "    else:\n",
    "        pvalue, padjust, FDR = pvalue_str + before_str, padjust_str + before_str, FDR_str + before_str\n",
    "        dataframe = pd.DataFrame({'Pathway':pathways['Name'], pvalue:pvalues, \n",
    "                                  'Median mRNA-protein correlation': median_scores_higher}).dropna().set_index('Pathway')\n",
    "        \n",
    "    dataframe.insert(len(dataframe.columns), padjust, multipletests(dataframe[pvalue], method='bonferroni')[1])\n",
    "    dataframe.insert(len(dataframe.columns), FDR, fdrcorrection(dataframe[pvalue])[1])\n",
    "            \n",
    "    return dataframe"
   ]
  },
  {
   "cell_type": "code",
   "execution_count": 17,
   "id": "4d58cabf",
   "metadata": {},
   "outputs": [],
   "source": [
    "palette=['#E69F00', '#0072B2'] ; hue_order = ['Higher', 'Lower']\n",
    "\n",
    "def plot_enrichment_bar_graph(dataframe, axes, x1, x2, title):\n",
    "    sns.barplot(x=x1, y=dataframe.index, ax=axes[0], hue='Median mRNA-protein correlation', \n",
    "                data=dataframe, dodge=False, palette=palette, hue_order=hue_order)\n",
    "    sns.barplot(x=x2, y=dataframe.index, ax=axes[1], hue='Median mRNA-protein correlation', \n",
    "                data=dataframe, dodge=False, palette=palette, hue_order=hue_order)\n",
    "    # configure first axes \n",
    "    axes[0].invert_xaxis()\n",
    "    axes[0].yaxis.tick_right()\n",
    "    axes[0].spines['right'].set_visible(True)\n",
    "    axes[0].spines['left'].set_visible(False)  \n",
    "    axes[0].set_yticklabels([])    \n",
    "    axes[0].legend().remove()\n",
    "    axes[0].set_title(title, weight='bold', y=1.05, size=11, loc='left')\n",
    "    axes[0].set_ylabel(None); \n",
    "    \n",
    "    axes[1].set_ylabel(None); \n",
    "    axes[1].set_xlim(0, axes[0].get_xlim()[0])\n",
    "    axes[1].legend(title='Median mRNA-protein correlation' , title_fontsize=11,\n",
    "                   fontsize=11, bbox_to_anchor=(1, 0.915))\n",
    "    \n",
    "    axes[0].set_xlabel(x1.replace('log10', '$log_{10}$').replace('(', '\\n('), fontsize=12, labelpad = 12)\n",
    "    axes[1].set_xlabel(x2.replace('log10', '$log_{10}$').replace('(', '\\n('), fontsize=12, labelpad = 12) \n",
    "    \n",
    "    line_placement_cooridnate = math.log10(0.05)*-1 #D55E00\n",
    "    axes[0].axvline(line_placement_cooridnate, color='#999', linestyle='-', linewidth=0.75, ymax=1)\n",
    "    axes[1].axvline(line_placement_cooridnate, color='#999', linestyle='-', linewidth=0.75, ymax=1)\n",
    "\n",
    "    axes[1].annotate('Environmental\\nInformation Processing', xy=(0.15, 0.965), xytext=(0.27, 0.9382),\n",
    "                     xycoords='axes fraction', fontsize=11, ha='left', va='bottom',\n",
    "                     bbox=dict(boxstyle='square', fc='white', ec='white'), zorder=10,\n",
    "                     arrowprops=dict(arrowstyle='-[, widthB=0.75, lengthB=0.5, angleB=0', lw=1))\n",
    "    axes[1].annotate('Metabolism', xy=(0.6, 0.55), xytext=(0.72, 0.5375),\n",
    "                     xycoords='axes fraction', fontsize=11, ha='left', va='bottom',\n",
    "                     bbox=dict(boxstyle='square', fc='white', ec='white'),\n",
    "                     arrowprops=dict(arrowstyle='-[, widthB=13.5, lengthB=0.5, angleB=0', lw=1))\n",
    "    axes[1].annotate('Genetic\\nInformation\\nProcessing', xy=(1, 0.09), xytext=(1.12, 0.0485),\n",
    "                     xycoords='axes fraction', fontsize=11, ha='left', va='bottom',\n",
    "                     bbox=dict(boxstyle='square', fc='white', ec='white'),\n",
    "                     arrowprops=dict(arrowstyle='-[, widthB=3, lengthB=0.5, angleB=0', lw=1))\n",
    "    \n",
    "    for yloc, enrichment in zip(range(0, len(dataframe.index)), dataframe.index):\n",
    "        axes[0].annotate(enrichment, (0.395, yloc), xycoords=('figure fraction', 'data'),\n",
    "                         ha='center', va='center', size=12)\n",
    "    plt.subplots_adjust(wspace=1.8)\n",
    "    plt.show()"
   ]
  },
  {
   "cell_type": "code",
   "execution_count": 18,
   "id": "5ef97cf2",
   "metadata": {},
   "outputs": [],
   "source": [
    "ccle_mwu_results = perform_enrichment_test(ccle_combined_df['mRNA-protein-Rho'], method='MannWhitneyU')\n",
    "ccle_resid_results = perform_enrichment_test(ccle_combined_df['Residuals'], method='MannWhitneyU', residual=True)"
   ]
  },
  {
   "cell_type": "code",
   "execution_count": 19,
   "id": "e56fb8ca",
   "metadata": {},
   "outputs": [],
   "source": [
    "sheets = ['A. mRNA-protein KEGG pathways', 'B. Residuals KEGG pathways']\n",
    "\n",
    "writer = pd.ExcelWriter(file_pathway_enrichment_ccle)\n",
    "ccle_mwu_results.to_excel(writer, sheets[0])\n",
    "ccle_resid_results.to_excel(writer, sheets[1])\n",
    "\n",
    "for sheet in sheets:\n",
    "    writer.sheets[sheet].set_column('B:E', 15)\n",
    "    writer.sheets[sheet].set_column('A:A', 30)\n",
    "    writer.sheets[sheet].set_column('C:C', 25)\n",
    "\n",
    "writer.save()"
   ]
  },
  {
   "cell_type": "code",
   "execution_count": 20,
   "id": "ab4fc7d0",
   "metadata": {},
   "outputs": [
    {
     "name": "stdout",
     "output_type": "stream",
     "text": [
      "Dimensions:  (33, 4)\n"
     ]
    },
    {
     "data": {
      "text/html": [
       "<div>\n",
       "<style scoped>\n",
       "    .dataframe tbody tr th:only-of-type {\n",
       "        vertical-align: middle;\n",
       "    }\n",
       "\n",
       "    .dataframe tbody tr th {\n",
       "        vertical-align: top;\n",
       "    }\n",
       "\n",
       "    .dataframe thead th {\n",
       "        text-align: right;\n",
       "    }\n",
       "</style>\n",
       "<table border=\"1\" class=\"dataframe\">\n",
       "  <thead>\n",
       "    <tr style=\"text-align: right;\">\n",
       "      <th></th>\n",
       "      <th>pvalue (before)</th>\n",
       "      <th>Median mRNA-protein correlation</th>\n",
       "      <th>padjust (before)</th>\n",
       "      <th>FDR (before)</th>\n",
       "    </tr>\n",
       "    <tr>\n",
       "      <th>Pathway</th>\n",
       "      <th></th>\n",
       "      <th></th>\n",
       "      <th></th>\n",
       "      <th></th>\n",
       "    </tr>\n",
       "  </thead>\n",
       "  <tbody>\n",
       "    <tr>\n",
       "      <th>Galactose metabolism</th>\n",
       "      <td>6.906690e-04</td>\n",
       "      <td>Higher</td>\n",
       "      <td>2.141074e-01</td>\n",
       "      <td>3.756270e-03</td>\n",
       "    </tr>\n",
       "    <tr>\n",
       "      <th>Oxidative phosphorylation</th>\n",
       "      <td>2.942354e-21</td>\n",
       "      <td>Lower</td>\n",
       "      <td>9.121298e-19</td>\n",
       "      <td>1.520216e-19</td>\n",
       "    </tr>\n",
       "  </tbody>\n",
       "</table>\n",
       "</div>"
      ],
      "text/plain": [
       "                           pvalue (before) Median mRNA-protein correlation  \\\n",
       "Pathway                                                                      \n",
       "Galactose metabolism          6.906690e-04                          Higher   \n",
       "Oxidative phosphorylation     2.942354e-21                           Lower   \n",
       "\n",
       "                           padjust (before)  FDR (before)  \n",
       "Pathway                                                    \n",
       "Galactose metabolism           2.141074e-01  3.756270e-03  \n",
       "Oxidative phosphorylation      9.121298e-19  1.520216e-19  "
      ]
     },
     "execution_count": 20,
     "metadata": {},
     "output_type": "execute_result"
    }
   ],
   "source": [
    "ccle_mwu_results = ccle_mwu_results[ccle_mwu_results.index.isin(previously_enriched_genesets)].dropna()\n",
    "print('Dimensions: ', ccle_mwu_results.shape)\n",
    "ccle_mwu_results[:2]"
   ]
  },
  {
   "cell_type": "code",
   "execution_count": 21,
   "id": "45fe0314",
   "metadata": {},
   "outputs": [
    {
     "name": "stdout",
     "output_type": "stream",
     "text": [
      "Dimensions:  (33, 3)\n"
     ]
    },
    {
     "data": {
      "text/html": [
       "<div>\n",
       "<style scoped>\n",
       "    .dataframe tbody tr th:only-of-type {\n",
       "        vertical-align: middle;\n",
       "    }\n",
       "\n",
       "    .dataframe tbody tr th {\n",
       "        vertical-align: top;\n",
       "    }\n",
       "\n",
       "    .dataframe thead th {\n",
       "        text-align: right;\n",
       "    }\n",
       "</style>\n",
       "<table border=\"1\" class=\"dataframe\">\n",
       "  <thead>\n",
       "    <tr style=\"text-align: right;\">\n",
       "      <th></th>\n",
       "      <th>pvalue (after)</th>\n",
       "      <th>padjust (after)</th>\n",
       "      <th>FDR (after)</th>\n",
       "    </tr>\n",
       "    <tr>\n",
       "      <th>Pathway</th>\n",
       "      <th></th>\n",
       "      <th></th>\n",
       "      <th></th>\n",
       "    </tr>\n",
       "  </thead>\n",
       "  <tbody>\n",
       "    <tr>\n",
       "      <th>Galactose metabolism</th>\n",
       "      <td>2.009515e-01</td>\n",
       "      <td>1.000000e+00</td>\n",
       "      <td>5.320378e-01</td>\n",
       "    </tr>\n",
       "    <tr>\n",
       "      <th>Oxidative phosphorylation</th>\n",
       "      <td>2.888229e-26</td>\n",
       "      <td>8.953511e-24</td>\n",
       "      <td>4.476756e-24</td>\n",
       "    </tr>\n",
       "  </tbody>\n",
       "</table>\n",
       "</div>"
      ],
      "text/plain": [
       "                           pvalue (after)  padjust (after)   FDR (after)\n",
       "Pathway                                                                 \n",
       "Galactose metabolism         2.009515e-01     1.000000e+00  5.320378e-01\n",
       "Oxidative phosphorylation    2.888229e-26     8.953511e-24  4.476756e-24"
      ]
     },
     "execution_count": 21,
     "metadata": {},
     "output_type": "execute_result"
    }
   ],
   "source": [
    "\n",
    "ccle_resid_results = ccle_resid_results[ccle_resid_results.index.isin(previously_enriched_genesets)].dropna()\n",
    "print('Dimensions: ', ccle_resid_results.shape)\n",
    "ccle_resid_results[:2]"
   ]
  },
  {
   "cell_type": "code",
   "execution_count": 22,
   "id": "07f0449a",
   "metadata": {},
   "outputs": [
    {
     "data": {
      "text/html": [
       "<div>\n",
       "<style scoped>\n",
       "    .dataframe tbody tr th:only-of-type {\n",
       "        vertical-align: middle;\n",
       "    }\n",
       "\n",
       "    .dataframe tbody tr th {\n",
       "        vertical-align: top;\n",
       "    }\n",
       "\n",
       "    .dataframe thead th {\n",
       "        text-align: right;\n",
       "    }\n",
       "</style>\n",
       "<table border=\"1\" class=\"dataframe\">\n",
       "  <thead>\n",
       "    <tr style=\"text-align: right;\">\n",
       "      <th></th>\n",
       "      <th>FDR (before)</th>\n",
       "      <th>-log10 FDR (before)</th>\n",
       "      <th>Median mRNA-protein correlation</th>\n",
       "    </tr>\n",
       "    <tr>\n",
       "      <th>Pathway</th>\n",
       "      <th></th>\n",
       "      <th></th>\n",
       "      <th></th>\n",
       "    </tr>\n",
       "  </thead>\n",
       "  <tbody>\n",
       "    <tr>\n",
       "      <th>Galactose metabolism</th>\n",
       "      <td>3.756270e-03</td>\n",
       "      <td>2.425243</td>\n",
       "      <td>Higher</td>\n",
       "    </tr>\n",
       "    <tr>\n",
       "      <th>Oxidative phosphorylation</th>\n",
       "      <td>1.520216e-19</td>\n",
       "      <td>18.818095</td>\n",
       "      <td>Lower</td>\n",
       "    </tr>\n",
       "  </tbody>\n",
       "</table>\n",
       "</div>"
      ],
      "text/plain": [
       "                           FDR (before)  -log10 FDR (before)  \\\n",
       "Pathway                                                        \n",
       "Galactose metabolism       3.756270e-03             2.425243   \n",
       "Oxidative phosphorylation  1.520216e-19            18.818095   \n",
       "\n",
       "                          Median mRNA-protein correlation  \n",
       "Pathway                                                    \n",
       "Galactose metabolism                               Higher  \n",
       "Oxidative phosphorylation                           Lower  "
      ]
     },
     "execution_count": 22,
     "metadata": {},
     "output_type": "execute_result"
    }
   ],
   "source": [
    "ccle_FDR_enriched = ccle_mwu_results[['FDR (before)', 'Median mRNA-protein correlation']]\n",
    "ccle_FDR_enriched.insert(1, '-log10 FDR (before)', ccle_FDR_enriched['FDR (before)'].apply(math.log10) * -1)\n",
    "ccle_FDR_enriched[:2]"
   ]
  },
  {
   "cell_type": "code",
   "execution_count": 23,
   "id": "dafa6e7d",
   "metadata": {},
   "outputs": [
    {
     "data": {
      "text/html": [
       "<div>\n",
       "<style scoped>\n",
       "    .dataframe tbody tr th:only-of-type {\n",
       "        vertical-align: middle;\n",
       "    }\n",
       "\n",
       "    .dataframe tbody tr th {\n",
       "        vertical-align: top;\n",
       "    }\n",
       "\n",
       "    .dataframe thead th {\n",
       "        text-align: right;\n",
       "    }\n",
       "</style>\n",
       "<table border=\"1\" class=\"dataframe\">\n",
       "  <thead>\n",
       "    <tr style=\"text-align: right;\">\n",
       "      <th></th>\n",
       "      <th>FDR (after)</th>\n",
       "      <th>-log10 FDR (after)</th>\n",
       "    </tr>\n",
       "    <tr>\n",
       "      <th>Pathway</th>\n",
       "      <th></th>\n",
       "      <th></th>\n",
       "    </tr>\n",
       "  </thead>\n",
       "  <tbody>\n",
       "    <tr>\n",
       "      <th>Galactose metabolism</th>\n",
       "      <td>5.320378e-01</td>\n",
       "      <td>0.274057</td>\n",
       "    </tr>\n",
       "    <tr>\n",
       "      <th>Oxidative phosphorylation</th>\n",
       "      <td>4.476756e-24</td>\n",
       "      <td>23.349037</td>\n",
       "    </tr>\n",
       "  </tbody>\n",
       "</table>\n",
       "</div>"
      ],
      "text/plain": [
       "                            FDR (after)  -log10 FDR (after)\n",
       "Pathway                                                    \n",
       "Galactose metabolism       5.320378e-01            0.274057\n",
       "Oxidative phosphorylation  4.476756e-24           23.349037"
      ]
     },
     "execution_count": 23,
     "metadata": {},
     "output_type": "execute_result"
    }
   ],
   "source": [
    "ccle_resid_FDR_enriched = ccle_resid_results[['FDR (after)']]\n",
    "ccle_resid_FDR_enriched.insert(1, '-log10 FDR (after)', ccle_resid_FDR_enriched['FDR (after)'].apply(math.log10) * -1)\n",
    "ccle_resid_FDR_enriched[:2]"
   ]
  },
  {
   "cell_type": "code",
   "execution_count": 24,
   "id": "00416eaa",
   "metadata": {},
   "outputs": [
    {
     "name": "stdout",
     "output_type": "stream",
     "text": [
      "Dimensions:  (28, 6)\n"
     ]
    },
    {
     "data": {
      "text/html": [
       "<div>\n",
       "<style scoped>\n",
       "    .dataframe tbody tr th:only-of-type {\n",
       "        vertical-align: middle;\n",
       "    }\n",
       "\n",
       "    .dataframe tbody tr th {\n",
       "        vertical-align: top;\n",
       "    }\n",
       "\n",
       "    .dataframe thead th {\n",
       "        text-align: right;\n",
       "    }\n",
       "</style>\n",
       "<table border=\"1\" class=\"dataframe\">\n",
       "  <thead>\n",
       "    <tr style=\"text-align: right;\">\n",
       "      <th></th>\n",
       "      <th>FDR (before)</th>\n",
       "      <th>-log10 FDR (before)</th>\n",
       "      <th>Median mRNA-protein correlation</th>\n",
       "      <th>FDR (after)</th>\n",
       "      <th>-log10 FDR (after)</th>\n",
       "      <th>KEGG Category</th>\n",
       "    </tr>\n",
       "    <tr>\n",
       "      <th>Pathway</th>\n",
       "      <th></th>\n",
       "      <th></th>\n",
       "      <th></th>\n",
       "      <th></th>\n",
       "      <th></th>\n",
       "      <th></th>\n",
       "    </tr>\n",
       "  </thead>\n",
       "  <tbody>\n",
       "    <tr>\n",
       "      <th>ECM-receptor interaction</th>\n",
       "      <td>1.366870e-10</td>\n",
       "      <td>9.864273</td>\n",
       "      <td>Higher</td>\n",
       "      <td>0.713865</td>\n",
       "      <td>0.146384</td>\n",
       "      <td>Environmental Information Processing</td>\n",
       "    </tr>\n",
       "    <tr>\n",
       "      <th>Cell adhesion molecules</th>\n",
       "      <td>5.773204e-10</td>\n",
       "      <td>9.238583</td>\n",
       "      <td>Higher</td>\n",
       "      <td>0.188456</td>\n",
       "      <td>0.724789</td>\n",
       "      <td>Environmental Information Processing</td>\n",
       "    </tr>\n",
       "  </tbody>\n",
       "</table>\n",
       "</div>"
      ],
      "text/plain": [
       "                          FDR (before)  -log10 FDR (before)  \\\n",
       "Pathway                                                       \n",
       "ECM-receptor interaction  1.366870e-10             9.864273   \n",
       "Cell adhesion molecules   5.773204e-10             9.238583   \n",
       "\n",
       "                         Median mRNA-protein correlation  FDR (after)  \\\n",
       "Pathway                                                                 \n",
       "ECM-receptor interaction                          Higher     0.713865   \n",
       "Cell adhesion molecules                           Higher     0.188456   \n",
       "\n",
       "                          -log10 FDR (after)  \\\n",
       "Pathway                                        \n",
       "ECM-receptor interaction            0.146384   \n",
       "Cell adhesion molecules             0.724789   \n",
       "\n",
       "                                                 KEGG Category  \n",
       "Pathway                                                         \n",
       "ECM-receptor interaction  Environmental Information Processing  \n",
       "Cell adhesion molecules   Environmental Information Processing  "
      ]
     },
     "execution_count": 24,
     "metadata": {},
     "output_type": "execute_result"
    }
   ],
   "source": [
    "combined_ccle_FDR = pd.concat([ccle_FDR_enriched, ccle_resid_FDR_enriched], axis=1)\n",
    "combined_ccle_FDR_subset = add_category(combined_ccle_FDR, column='-log10 FDR (after)')\n",
    "print(\"Dimensions: \", combined_ccle_FDR_subset.shape)\n",
    "combined_ccle_FDR_subset[:2]"
   ]
  },
  {
   "cell_type": "code",
   "execution_count": 25,
   "id": "8260d487",
   "metadata": {},
   "outputs": [
    {
     "data": {
      "image/png": "[encoded data removed]",
      "text/plain": [
       "<Figure size 1000x750 with 2 Axes>"
      ]
     },
     "metadata": {
      "needs_background": "light"
     },
     "output_type": "display_data"
    }
   ],
   "source": [
    "with plt.rc_context({'axes.spines.right': False, 'axes.spines.top': False,'axes.spines.left': True, \n",
    "                     'axes.linewidth': 0.8, 'xtick.bottom': True, 'xtick.labelsize':10}):\n",
    "    figure, axes = plt.subplots(ncols=2, sharey=True, figsize=(10, 7.5))\n",
    "    plot_enrichment_bar_graph(combined_ccle_FDR_subset, axes, '-log10 FDR (before)', '-log10 FDR (after)', \n",
    "                              title='CCLE')\n",
    "#     figure.savefig(get_figure_path('Figure7.svg'), dpi=300, bbox_inches='tight')"
   ]
  },
  {
   "cell_type": "code",
   "execution_count": 26,
   "id": "aa7a57ed",
   "metadata": {},
   "outputs": [],
   "source": [
    "ov_mwu_results = perform_enrichment_test(ov_combined_df['mRNA-protein-Rho'], method='MannWhitneyU')\n",
    "ov_resid_results = perform_enrichment_test(ov_combined_df['Residuals'], method='MannWhitneyU', residual=True)"
   ]
  },
  {
   "cell_type": "code",
   "execution_count": 27,
   "id": "0b1452fa",
   "metadata": {},
   "outputs": [],
   "source": [
    "sheets = ['A. mRNA-protein KEGG pathways', 'B. Residuals KEGG pathways']\n",
    "\n",
    "writer = pd.ExcelWriter(file_pathway_enrichment_ov)\n",
    "ccle_mwu_results.to_excel(writer, sheets[0])\n",
    "ccle_resid_results.to_excel(writer, sheets[1])\n",
    "\n",
    "for sheet in sheets:\n",
    "    writer.sheets[sheet].set_column('A:E', 15)\n",
    "    writer.sheets[sheet].set_column('C:C', 20)\n",
    "\n",
    "writer.save()"
   ]
  },
  {
   "cell_type": "code",
   "execution_count": 28,
   "id": "abf16361",
   "metadata": {},
   "outputs": [
    {
     "name": "stdout",
     "output_type": "stream",
     "text": [
      "Dimensions:  (33, 4)\n"
     ]
    },
    {
     "data": {
      "text/html": [
       "<div>\n",
       "<style scoped>\n",
       "    .dataframe tbody tr th:only-of-type {\n",
       "        vertical-align: middle;\n",
       "    }\n",
       "\n",
       "    .dataframe tbody tr th {\n",
       "        vertical-align: top;\n",
       "    }\n",
       "\n",
       "    .dataframe thead th {\n",
       "        text-align: right;\n",
       "    }\n",
       "</style>\n",
       "<table border=\"1\" class=\"dataframe\">\n",
       "  <thead>\n",
       "    <tr style=\"text-align: right;\">\n",
       "      <th></th>\n",
       "      <th>pvalue (before)</th>\n",
       "      <th>Median mRNA-protein correlation</th>\n",
       "      <th>padjust (before)</th>\n",
       "      <th>FDR (before)</th>\n",
       "    </tr>\n",
       "    <tr>\n",
       "      <th>Pathway</th>\n",
       "      <th></th>\n",
       "      <th></th>\n",
       "      <th></th>\n",
       "      <th></th>\n",
       "    </tr>\n",
       "  </thead>\n",
       "  <tbody>\n",
       "    <tr>\n",
       "      <th>Galactose metabolism</th>\n",
       "      <td>3.108659e-02</td>\n",
       "      <td>Higher</td>\n",
       "      <td>1.000000e+00</td>\n",
       "      <td>9.978679e-02</td>\n",
       "    </tr>\n",
       "    <tr>\n",
       "      <th>Oxidative phosphorylation</th>\n",
       "      <td>8.911393e-14</td>\n",
       "      <td>Lower</td>\n",
       "      <td>2.789266e-11</td>\n",
       "      <td>4.648777e-12</td>\n",
       "    </tr>\n",
       "  </tbody>\n",
       "</table>\n",
       "</div>"
      ],
      "text/plain": [
       "                           pvalue (before) Median mRNA-protein correlation  \\\n",
       "Pathway                                                                      \n",
       "Galactose metabolism          3.108659e-02                          Higher   \n",
       "Oxidative phosphorylation     8.911393e-14                           Lower   \n",
       "\n",
       "                           padjust (before)  FDR (before)  \n",
       "Pathway                                                    \n",
       "Galactose metabolism           1.000000e+00  9.978679e-02  \n",
       "Oxidative phosphorylation      2.789266e-11  4.648777e-12  "
      ]
     },
     "execution_count": 28,
     "metadata": {},
     "output_type": "execute_result"
    }
   ],
   "source": [
    "ov_mwu_results = ov_mwu_results[ov_mwu_results.index.isin(previously_enriched_genesets)].dropna()\n",
    "print('Dimensions: ', ov_mwu_results.shape)\n",
    "ov_mwu_results[:2]"
   ]
  },
  {
   "cell_type": "code",
   "execution_count": 29,
   "id": "63dffa0f",
   "metadata": {},
   "outputs": [
    {
     "data": {
      "text/html": [
       "<div>\n",
       "<style scoped>\n",
       "    .dataframe tbody tr th:only-of-type {\n",
       "        vertical-align: middle;\n",
       "    }\n",
       "\n",
       "    .dataframe tbody tr th {\n",
       "        vertical-align: top;\n",
       "    }\n",
       "\n",
       "    .dataframe thead th {\n",
       "        text-align: right;\n",
       "    }\n",
       "</style>\n",
       "<table border=\"1\" class=\"dataframe\">\n",
       "  <thead>\n",
       "    <tr style=\"text-align: right;\">\n",
       "      <th></th>\n",
       "      <th>FDR (before)</th>\n",
       "      <th>-log10 FDR (before)</th>\n",
       "      <th>Median mRNA-protein correlation</th>\n",
       "    </tr>\n",
       "    <tr>\n",
       "      <th>Pathway</th>\n",
       "      <th></th>\n",
       "      <th></th>\n",
       "      <th></th>\n",
       "    </tr>\n",
       "  </thead>\n",
       "  <tbody>\n",
       "    <tr>\n",
       "      <th>Galactose metabolism</th>\n",
       "      <td>9.978679e-02</td>\n",
       "      <td>1.000927</td>\n",
       "      <td>Higher</td>\n",
       "    </tr>\n",
       "    <tr>\n",
       "      <th>Oxidative phosphorylation</th>\n",
       "      <td>4.648777e-12</td>\n",
       "      <td>11.332661</td>\n",
       "      <td>Lower</td>\n",
       "    </tr>\n",
       "  </tbody>\n",
       "</table>\n",
       "</div>"
      ],
      "text/plain": [
       "                           FDR (before)  -log10 FDR (before)  \\\n",
       "Pathway                                                        \n",
       "Galactose metabolism       9.978679e-02             1.000927   \n",
       "Oxidative phosphorylation  4.648777e-12            11.332661   \n",
       "\n",
       "                          Median mRNA-protein correlation  \n",
       "Pathway                                                    \n",
       "Galactose metabolism                               Higher  \n",
       "Oxidative phosphorylation                           Lower  "
      ]
     },
     "execution_count": 29,
     "metadata": {},
     "output_type": "execute_result"
    }
   ],
   "source": [
    "ov_FDR_enriched = ov_mwu_results[['FDR (before)', 'Median mRNA-protein correlation']]\n",
    "ov_FDR_enriched.insert(1, '-log10 FDR (before)', ov_FDR_enriched['FDR (before)'].apply(math.log10) * -1)\n",
    "ov_FDR_enriched[:2]"
   ]
  },
  {
   "cell_type": "code",
   "execution_count": 30,
   "id": "714ad134",
   "metadata": {},
   "outputs": [
    {
     "name": "stdout",
     "output_type": "stream",
     "text": [
      "Dimensions:  (33, 3)\n"
     ]
    },
    {
     "data": {
      "text/html": [
       "<div>\n",
       "<style scoped>\n",
       "    .dataframe tbody tr th:only-of-type {\n",
       "        vertical-align: middle;\n",
       "    }\n",
       "\n",
       "    .dataframe tbody tr th {\n",
       "        vertical-align: top;\n",
       "    }\n",
       "\n",
       "    .dataframe thead th {\n",
       "        text-align: right;\n",
       "    }\n",
       "</style>\n",
       "<table border=\"1\" class=\"dataframe\">\n",
       "  <thead>\n",
       "    <tr style=\"text-align: right;\">\n",
       "      <th></th>\n",
       "      <th>pvalue (after)</th>\n",
       "      <th>padjust (after)</th>\n",
       "      <th>FDR (after)</th>\n",
       "    </tr>\n",
       "    <tr>\n",
       "      <th>Pathway</th>\n",
       "      <th></th>\n",
       "      <th></th>\n",
       "      <th></th>\n",
       "    </tr>\n",
       "  </thead>\n",
       "  <tbody>\n",
       "    <tr>\n",
       "      <th>Galactose metabolism</th>\n",
       "      <td>5.222030e-01</td>\n",
       "      <td>1.000000e+00</td>\n",
       "      <td>6.644291e-01</td>\n",
       "    </tr>\n",
       "    <tr>\n",
       "      <th>Oxidative phosphorylation</th>\n",
       "      <td>1.211311e-16</td>\n",
       "      <td>3.791403e-14</td>\n",
       "      <td>1.263801e-14</td>\n",
       "    </tr>\n",
       "  </tbody>\n",
       "</table>\n",
       "</div>"
      ],
      "text/plain": [
       "                           pvalue (after)  padjust (after)   FDR (after)\n",
       "Pathway                                                                 \n",
       "Galactose metabolism         5.222030e-01     1.000000e+00  6.644291e-01\n",
       "Oxidative phosphorylation    1.211311e-16     3.791403e-14  1.263801e-14"
      ]
     },
     "execution_count": 30,
     "metadata": {},
     "output_type": "execute_result"
    }
   ],
   "source": [
    "\n",
    "ov_resid_results = ov_resid_results[ov_resid_results.index.isin(previously_enriched_genesets)].dropna()\n",
    "print('Dimensions: ', ov_resid_results.shape)\n",
    "ov_resid_results[:2]"
   ]
  },
  {
   "cell_type": "code",
   "execution_count": 31,
   "id": "3e74b08b",
   "metadata": {},
   "outputs": [
    {
     "data": {
      "text/html": [
       "<div>\n",
       "<style scoped>\n",
       "    .dataframe tbody tr th:only-of-type {\n",
       "        vertical-align: middle;\n",
       "    }\n",
       "\n",
       "    .dataframe tbody tr th {\n",
       "        vertical-align: top;\n",
       "    }\n",
       "\n",
       "    .dataframe thead th {\n",
       "        text-align: right;\n",
       "    }\n",
       "</style>\n",
       "<table border=\"1\" class=\"dataframe\">\n",
       "  <thead>\n",
       "    <tr style=\"text-align: right;\">\n",
       "      <th></th>\n",
       "      <th>FDR (after)</th>\n",
       "      <th>-log10 FDR (after)</th>\n",
       "    </tr>\n",
       "    <tr>\n",
       "      <th>Pathway</th>\n",
       "      <th></th>\n",
       "      <th></th>\n",
       "    </tr>\n",
       "  </thead>\n",
       "  <tbody>\n",
       "    <tr>\n",
       "      <th>Galactose metabolism</th>\n",
       "      <td>6.644291e-01</td>\n",
       "      <td>0.177551</td>\n",
       "    </tr>\n",
       "    <tr>\n",
       "      <th>Oxidative phosphorylation</th>\n",
       "      <td>1.263801e-14</td>\n",
       "      <td>13.898321</td>\n",
       "    </tr>\n",
       "  </tbody>\n",
       "</table>\n",
       "</div>"
      ],
      "text/plain": [
       "                            FDR (after)  -log10 FDR (after)\n",
       "Pathway                                                    \n",
       "Galactose metabolism       6.644291e-01            0.177551\n",
       "Oxidative phosphorylation  1.263801e-14           13.898321"
      ]
     },
     "execution_count": 31,
     "metadata": {},
     "output_type": "execute_result"
    }
   ],
   "source": [
    "ov_resid_FDR_enriched = ov_resid_results[['FDR (after)']]\n",
    "ov_resid_FDR_enriched.insert(1, '-log10 FDR (after)', ov_resid_FDR_enriched['FDR (after)'].apply(math.log10) * -1)\n",
    "ov_resid_FDR_enriched[:2]"
   ]
  },
  {
   "cell_type": "code",
   "execution_count": 32,
   "id": "1cff507b",
   "metadata": {},
   "outputs": [
    {
     "name": "stdout",
     "output_type": "stream",
     "text": [
      "Dimensions:  (28, 6)\n"
     ]
    },
    {
     "data": {
      "text/html": [
       "<div>\n",
       "<style scoped>\n",
       "    .dataframe tbody tr th:only-of-type {\n",
       "        vertical-align: middle;\n",
       "    }\n",
       "\n",
       "    .dataframe tbody tr th {\n",
       "        vertical-align: top;\n",
       "    }\n",
       "\n",
       "    .dataframe thead th {\n",
       "        text-align: right;\n",
       "    }\n",
       "</style>\n",
       "<table border=\"1\" class=\"dataframe\">\n",
       "  <thead>\n",
       "    <tr style=\"text-align: right;\">\n",
       "      <th></th>\n",
       "      <th>FDR (before)</th>\n",
       "      <th>-log10 FDR (before)</th>\n",
       "      <th>Median mRNA-protein correlation</th>\n",
       "      <th>FDR (after)</th>\n",
       "      <th>-log10 FDR (after)</th>\n",
       "      <th>KEGG Category</th>\n",
       "    </tr>\n",
       "    <tr>\n",
       "      <th>Pathway</th>\n",
       "      <th></th>\n",
       "      <th></th>\n",
       "      <th></th>\n",
       "      <th></th>\n",
       "      <th></th>\n",
       "      <th></th>\n",
       "    </tr>\n",
       "  </thead>\n",
       "  <tbody>\n",
       "    <tr>\n",
       "      <th>ECM-receptor interaction</th>\n",
       "      <td>0.130696</td>\n",
       "      <td>0.883739</td>\n",
       "      <td>Higher</td>\n",
       "      <td>0.089627</td>\n",
       "      <td>1.047562</td>\n",
       "      <td>Environmental Information Processing</td>\n",
       "    </tr>\n",
       "    <tr>\n",
       "      <th>Cell adhesion molecules</th>\n",
       "      <td>0.000013</td>\n",
       "      <td>4.872916</td>\n",
       "      <td>Higher</td>\n",
       "      <td>0.056536</td>\n",
       "      <td>1.247673</td>\n",
       "      <td>Environmental Information Processing</td>\n",
       "    </tr>\n",
       "  </tbody>\n",
       "</table>\n",
       "</div>"
      ],
      "text/plain": [
       "                          FDR (before)  -log10 FDR (before)  \\\n",
       "Pathway                                                       \n",
       "ECM-receptor interaction      0.130696             0.883739   \n",
       "Cell adhesion molecules       0.000013             4.872916   \n",
       "\n",
       "                         Median mRNA-protein correlation  FDR (after)  \\\n",
       "Pathway                                                                 \n",
       "ECM-receptor interaction                          Higher     0.089627   \n",
       "Cell adhesion molecules                           Higher     0.056536   \n",
       "\n",
       "                          -log10 FDR (after)  \\\n",
       "Pathway                                        \n",
       "ECM-receptor interaction            1.047562   \n",
       "Cell adhesion molecules             1.247673   \n",
       "\n",
       "                                                 KEGG Category  \n",
       "Pathway                                                         \n",
       "ECM-receptor interaction  Environmental Information Processing  \n",
       "Cell adhesion molecules   Environmental Information Processing  "
      ]
     },
     "execution_count": 32,
     "metadata": {},
     "output_type": "execute_result"
    }
   ],
   "source": [
    "combined_ov_FDR = pd.concat([ov_FDR_enriched, ov_resid_FDR_enriched], axis=1)\n",
    "combined_ov_FDR_subset = add_category(combined_ov_FDR, column='-log10 FDR (after)')\n",
    "print(\"Dimensions: \", combined_ov_FDR_subset.shape)\n",
    "combined_ov_FDR_subset[:2]"
   ]
  },
  {
   "cell_type": "code",
   "execution_count": 33,
   "id": "e006f0b4",
   "metadata": {},
   "outputs": [
    {
     "data": {
      "image/png": "[encoded data removed]",
      "text/plain": [
       "<Figure size 1000x750 with 2 Axes>"
      ]
     },
     "metadata": {
      "needs_background": "light"
     },
     "output_type": "display_data"
    }
   ],
   "source": [
    "with plt.rc_context({'axes.spines.right': False, 'axes.spines.top': False,'axes.spines.left': True, \n",
    "                     'axes.linewidth': 0.8, 'xtick.bottom': True, 'xtick.labelsize':10}):\n",
    "    figure, axes = plt.subplots(ncols=2, sharey=True, figsize=(10, 7.5))\n",
    "    plot_enrichment_bar_graph(combined_ov_FDR_subset, axes, '-log10 FDR (before)', '-log10 FDR (after)', \n",
    "                              title='Ovarian')\n",
    "\n",
    "#     figure.savefig(get_figure_path('S6.svg'), dpi=300, bbox_inches='tight')"
   ]
  }
 ],
 "metadata": {
  "kernelspec": {
   "display_name": "Python 3 (ipykernel)",
   "language": "python",
   "name": "python3"
  },
  "language_info": {
   "codemirror_mode": {
    "name": "ipython",
    "version": 3
   },
   "file_extension": ".py",
   "mimetype": "text/x-python",
   "name": "python",
   "nbconvert_exporter": "python",
   "pygments_lexer": "ipython3",
   "version": "3.8.10"
  }
 },
 "nbformat": 4,
 "nbformat_minor": 5
}

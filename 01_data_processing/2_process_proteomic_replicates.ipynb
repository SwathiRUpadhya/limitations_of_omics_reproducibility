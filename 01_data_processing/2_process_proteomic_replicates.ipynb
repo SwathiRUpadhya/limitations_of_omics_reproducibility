{
 "cells": [
  {
   "cell_type": "markdown",
   "metadata": {},
   "source": [
    "## Compute protein-protein correlation for studies with replicate proteomic profiles"
   ]
  },
  {
   "cell_type": "markdown",
   "metadata": {},
   "source": [
    "**Input:** Replicate proteomics profiles of the studies listed below.\n",
    "1. <a href=https://linkinghub.elsevier.com/retrieve/pii/S0092-8674(16)30673-0>Ovarian Tumour Samples (JHU, PNNL)</a>\n",
    "2. <a href=https://tinyurl.com/3m8239bk>Colon Tumour Samples (TMT, LF)</a>\n",
    "3. <a href=https://tinyurl.com/54af2rvy>Cancer cell lines  encyclopedia (R1, R2, R3)</a>\n",
    "\n",
    "**Output:** Gene-wise correlation between protein abundances in replicate profiles"
   ]
  },
  {
   "cell_type": "markdown",
   "metadata": {},
   "source": [
    "<div class=\"alert alert-block alert-info\">\n",
    "<b>Note:</b> \n",
    "The standardised pipeline is applied before computing the protein-protein correlation for each study.\n",
    "</div>"
   ]
  },
  {
   "cell_type": "markdown",
   "metadata": {},
   "source": [
    "#### Import Packages"
   ]
  },
  {
   "cell_type": "code",
   "execution_count": 1,
   "metadata": {},
   "outputs": [],
   "source": [
    "import os \n",
    "import numpy as np\n",
    "import pandas as pd \n",
    "from matplotlib_venn import venn2\n",
    "from matplotlib import pyplot as plt\n",
    "\n",
    "import standardised_pipeline_utils"
   ]
  },
  {
   "cell_type": "code",
   "execution_count": 2,
   "metadata": {},
   "outputs": [],
   "source": [
    "get_data_path = lambda folders, fname: os.path.normpath(os.environ['DATA_PATH']+'/'+'/'.join(folders) +'/'+ fname)\n",
    "get_local_data_path = lambda folders, fname: os.path.normpath('../local_data/'+'/'.join(folders) +'/'+ fname)"
   ]
  },
  {
   "cell_type": "code",
   "execution_count": 3,
   "metadata": {},
   "outputs": [],
   "source": [
    "# Input files \n",
    "file_ovca_proteomics = get_data_path(['tumour_studies','ovca', 'zhang_2016'], 'Table_S2.xlsx')\n",
    "file_colon_proteomics_tmt = get_data_path(['tumour_studies','colon','vasaikar_2019'],'Proteome_TMT.cct')\n",
    "file_colon_proteomics_lf = get_data_path(['tumour_studies','colon','vasaikar_2019'], 'Proteome_LF.cct')\n",
    "file_ccle_proteomic_replicates = get_data_path(['nusinow_2020'], 'Table_S3.xlsx')\n",
    "\n",
    "# Output files\n",
    "file_proteomic_replicates = get_local_data_path(['processed', 'correlation_replicates'], \n",
    "                                                'proteomic_reproducibility.csv')\n",
    "file_selected_proteomic_replicates = get_local_data_path(['processed', 'correlation_replicates'], \n",
    "                                                         'selected_proteomic_reproducibility.xlsx')"
   ]
  },
  {
   "cell_type": "markdown",
   "metadata": {},
   "source": [
    "### Ovarian Proteomic Replicates"
   ]
  },
  {
   "cell_type": "code",
   "execution_count": 4,
   "metadata": {},
   "outputs": [
    {
     "name": "stdout",
     "output_type": "stream",
     "text": [
      "Dimensions:  (9600, 207)\n"
     ]
    },
    {
     "data": {
      "text/html": [
       "<div>\n",
       "<style scoped>\n",
       "    .dataframe tbody tr th:only-of-type {\n",
       "        vertical-align: middle;\n",
       "    }\n",
       "\n",
       "    .dataframe tbody tr th {\n",
       "        vertical-align: top;\n",
       "    }\n",
       "\n",
       "    .dataframe thead th {\n",
       "        text-align: right;\n",
       "    }\n",
       "</style>\n",
       "<table border=\"1\" class=\"dataframe\">\n",
       "  <thead>\n",
       "    <tr style=\"text-align: right;\">\n",
       "      <th></th>\n",
       "      <th>refseq_peptide</th>\n",
       "      <th>PNNL-TCGA-09-1664</th>\n",
       "      <th>PNNL-TCGA-13-1484</th>\n",
       "      <th>PNNL-TCGA-13-1488</th>\n",
       "      <th>PNNL-TCGA-13-1489</th>\n",
       "      <th>PNNL-TCGA-13-1494</th>\n",
       "      <th>PNNL-TCGA-13-1495</th>\n",
       "      <th>PNNL-TCGA-13-1499</th>\n",
       "      <th>PNNL-TCGA-13-2071</th>\n",
       "      <th>PNNL-TCGA-23-1123</th>\n",
       "      <th>...</th>\n",
       "      <th>JHU-TCGA-61-1911</th>\n",
       "      <th>JHU-TCGA-61-1914</th>\n",
       "      <th>JHU-TCGA-61-1915</th>\n",
       "      <th>JHU-TCGA-61-1918</th>\n",
       "      <th>JHU-TCGA-61-1995</th>\n",
       "      <th>JHU-TCGA-61-2008</th>\n",
       "      <th>JHU-TCGA-61-2087</th>\n",
       "      <th>JHU-TCGA-61-2088</th>\n",
       "      <th>JHU-TCGA-61-2094</th>\n",
       "      <th>JHU-TCGA-61-2613</th>\n",
       "    </tr>\n",
       "    <tr>\n",
       "      <th>hgnc_symbol</th>\n",
       "      <th></th>\n",
       "      <th></th>\n",
       "      <th></th>\n",
       "      <th></th>\n",
       "      <th></th>\n",
       "      <th></th>\n",
       "      <th></th>\n",
       "      <th></th>\n",
       "      <th></th>\n",
       "      <th></th>\n",
       "      <th></th>\n",
       "      <th></th>\n",
       "      <th></th>\n",
       "      <th></th>\n",
       "      <th></th>\n",
       "      <th></th>\n",
       "      <th></th>\n",
       "      <th></th>\n",
       "      <th></th>\n",
       "      <th></th>\n",
       "      <th></th>\n",
       "    </tr>\n",
       "  </thead>\n",
       "  <tbody>\n",
       "    <tr>\n",
       "      <th>A2M</th>\n",
       "      <td>NP_000005</td>\n",
       "      <td>-0.0581</td>\n",
       "      <td>-0.688</td>\n",
       "      <td>0.5180</td>\n",
       "      <td>-0.432</td>\n",
       "      <td>0.333</td>\n",
       "      <td>0.109</td>\n",
       "      <td>-1.230</td>\n",
       "      <td>0.172</td>\n",
       "      <td>-1.270</td>\n",
       "      <td>...</td>\n",
       "      <td>0.265750</td>\n",
       "      <td>-0.688250</td>\n",
       "      <td>-0.071250</td>\n",
       "      <td>-0.767250</td>\n",
       "      <td>-0.821250</td>\n",
       "      <td>-0.360550</td>\n",
       "      <td>-1.022250</td>\n",
       "      <td>-1.172250</td>\n",
       "      <td>-0.132250</td>\n",
       "      <td>1.165750</td>\n",
       "    </tr>\n",
       "    <tr>\n",
       "      <th>ACADM</th>\n",
       "      <td>NP_000007</td>\n",
       "      <td>-0.1040</td>\n",
       "      <td>0.404</td>\n",
       "      <td>0.0714</td>\n",
       "      <td>0.272</td>\n",
       "      <td>-0.369</td>\n",
       "      <td>0.175</td>\n",
       "      <td>-0.295</td>\n",
       "      <td>-0.425</td>\n",
       "      <td>0.854</td>\n",
       "      <td>...</td>\n",
       "      <td>0.073225</td>\n",
       "      <td>-0.326775</td>\n",
       "      <td>-1.069775</td>\n",
       "      <td>-0.383775</td>\n",
       "      <td>0.105225</td>\n",
       "      <td>0.365225</td>\n",
       "      <td>-0.277775</td>\n",
       "      <td>0.401225</td>\n",
       "      <td>0.056225</td>\n",
       "      <td>-0.372775</td>\n",
       "    </tr>\n",
       "  </tbody>\n",
       "</table>\n",
       "<p>2 rows × 207 columns</p>\n",
       "</div>"
      ],
      "text/plain": [
       "            refseq_peptide  PNNL-TCGA-09-1664  PNNL-TCGA-13-1484  \\\n",
       "hgnc_symbol                                                        \n",
       "A2M              NP_000005            -0.0581             -0.688   \n",
       "ACADM            NP_000007            -0.1040              0.404   \n",
       "\n",
       "             PNNL-TCGA-13-1488  PNNL-TCGA-13-1489  PNNL-TCGA-13-1494  \\\n",
       "hgnc_symbol                                                            \n",
       "A2M                     0.5180             -0.432              0.333   \n",
       "ACADM                   0.0714              0.272             -0.369   \n",
       "\n",
       "             PNNL-TCGA-13-1495  PNNL-TCGA-13-1499  PNNL-TCGA-13-2071  \\\n",
       "hgnc_symbol                                                            \n",
       "A2M                      0.109             -1.230              0.172   \n",
       "ACADM                    0.175             -0.295             -0.425   \n",
       "\n",
       "             PNNL-TCGA-23-1123  ...  JHU-TCGA-61-1911  JHU-TCGA-61-1914  \\\n",
       "hgnc_symbol                     ...                                       \n",
       "A2M                     -1.270  ...          0.265750         -0.688250   \n",
       "ACADM                    0.854  ...          0.073225         -0.326775   \n",
       "\n",
       "             JHU-TCGA-61-1915  JHU-TCGA-61-1918  JHU-TCGA-61-1995  \\\n",
       "hgnc_symbol                                                         \n",
       "A2M                 -0.071250         -0.767250         -0.821250   \n",
       "ACADM               -1.069775         -0.383775          0.105225   \n",
       "\n",
       "             JHU-TCGA-61-2008  JHU-TCGA-61-2087  JHU-TCGA-61-2088  \\\n",
       "hgnc_symbol                                                         \n",
       "A2M                 -0.360550         -1.022250         -1.172250   \n",
       "ACADM                0.365225         -0.277775          0.401225   \n",
       "\n",
       "             JHU-TCGA-61-2094  JHU-TCGA-61-2613  \n",
       "hgnc_symbol                                      \n",
       "A2M                 -0.132250          1.165750  \n",
       "ACADM                0.056225         -0.372775  \n",
       "\n",
       "[2 rows x 207 columns]"
      ]
     },
     "execution_count": 4,
     "metadata": {},
     "output_type": "execute_result"
    }
   ],
   "source": [
    "ovca_proteomics = pd.read_excel(io=file_ovca_proteomics, sheet_name=\"FullOvarianProteomeData\", \n",
    "                                engine='openpyxl', converters={'hgnc_symbol': str}, index_col='hgnc_symbol')\n",
    "print('Dimensions: ', ovca_proteomics.shape)\n",
    "ovca_proteomics[:2]"
   ]
  },
  {
   "cell_type": "markdown",
   "metadata": {},
   "source": [
    "#### Site A: PNNL "
   ]
  },
  {
   "cell_type": "code",
   "execution_count": 5,
   "metadata": {},
   "outputs": [
    {
     "name": "stdout",
     "output_type": "stream",
     "text": [
      "Dimensions:  (9600, 84)\n"
     ]
    },
    {
     "data": {
      "text/html": [
       "<div>\n",
       "<style scoped>\n",
       "    .dataframe tbody tr th:only-of-type {\n",
       "        vertical-align: middle;\n",
       "    }\n",
       "\n",
       "    .dataframe tbody tr th {\n",
       "        vertical-align: top;\n",
       "    }\n",
       "\n",
       "    .dataframe thead th {\n",
       "        text-align: right;\n",
       "    }\n",
       "</style>\n",
       "<table border=\"1\" class=\"dataframe\">\n",
       "  <thead>\n",
       "    <tr style=\"text-align: right;\">\n",
       "      <th></th>\n",
       "      <th>TCGA-09-1664</th>\n",
       "      <th>TCGA-13-1484</th>\n",
       "      <th>TCGA-13-1488</th>\n",
       "      <th>TCGA-13-1489</th>\n",
       "      <th>TCGA-13-1494</th>\n",
       "      <th>TCGA-13-1495</th>\n",
       "      <th>TCGA-13-1499</th>\n",
       "      <th>TCGA-13-2071</th>\n",
       "      <th>TCGA-23-1123</th>\n",
       "      <th>TCGA-23-1124</th>\n",
       "      <th>...</th>\n",
       "      <th>TCGA-61-1900</th>\n",
       "      <th>TCGA-61-1907</th>\n",
       "      <th>TCGA-61-1911</th>\n",
       "      <th>TCGA-61-1914</th>\n",
       "      <th>TCGA-61-1919</th>\n",
       "      <th>TCGA-61-1995</th>\n",
       "      <th>TCGA-61-2008</th>\n",
       "      <th>TCGA-61-2095</th>\n",
       "      <th>TCGA-61-2096</th>\n",
       "      <th>TCGA-61-2612</th>\n",
       "    </tr>\n",
       "    <tr>\n",
       "      <th>hgnc_symbol</th>\n",
       "      <th></th>\n",
       "      <th></th>\n",
       "      <th></th>\n",
       "      <th></th>\n",
       "      <th></th>\n",
       "      <th></th>\n",
       "      <th></th>\n",
       "      <th></th>\n",
       "      <th></th>\n",
       "      <th></th>\n",
       "      <th></th>\n",
       "      <th></th>\n",
       "      <th></th>\n",
       "      <th></th>\n",
       "      <th></th>\n",
       "      <th></th>\n",
       "      <th></th>\n",
       "      <th></th>\n",
       "      <th></th>\n",
       "      <th></th>\n",
       "      <th></th>\n",
       "    </tr>\n",
       "  </thead>\n",
       "  <tbody>\n",
       "    <tr>\n",
       "      <th>A2M</th>\n",
       "      <td>-0.0581</td>\n",
       "      <td>-0.688</td>\n",
       "      <td>0.5180</td>\n",
       "      <td>-0.432</td>\n",
       "      <td>0.333</td>\n",
       "      <td>0.109</td>\n",
       "      <td>-1.230</td>\n",
       "      <td>0.172</td>\n",
       "      <td>-1.270</td>\n",
       "      <td>-0.0129</td>\n",
       "      <td>...</td>\n",
       "      <td>0.225</td>\n",
       "      <td>0.342</td>\n",
       "      <td>0.371</td>\n",
       "      <td>-0.396</td>\n",
       "      <td>-0.0036</td>\n",
       "      <td>-0.591</td>\n",
       "      <td>-0.739</td>\n",
       "      <td>0.91</td>\n",
       "      <td>0.3530</td>\n",
       "      <td>0.350</td>\n",
       "    </tr>\n",
       "    <tr>\n",
       "      <th>ACADM</th>\n",
       "      <td>-0.1040</td>\n",
       "      <td>0.404</td>\n",
       "      <td>0.0714</td>\n",
       "      <td>0.272</td>\n",
       "      <td>-0.369</td>\n",
       "      <td>0.175</td>\n",
       "      <td>-0.295</td>\n",
       "      <td>-0.425</td>\n",
       "      <td>0.854</td>\n",
       "      <td>0.9590</td>\n",
       "      <td>...</td>\n",
       "      <td>-0.404</td>\n",
       "      <td>-0.611</td>\n",
       "      <td>0.309</td>\n",
       "      <td>-0.694</td>\n",
       "      <td>-0.1720</td>\n",
       "      <td>0.180</td>\n",
       "      <td>0.409</td>\n",
       "      <td>0.09</td>\n",
       "      <td>-0.0682</td>\n",
       "      <td>-0.775</td>\n",
       "    </tr>\n",
       "  </tbody>\n",
       "</table>\n",
       "<p>2 rows × 84 columns</p>\n",
       "</div>"
      ],
      "text/plain": [
       "             TCGA-09-1664  TCGA-13-1484  TCGA-13-1488  TCGA-13-1489  \\\n",
       "hgnc_symbol                                                           \n",
       "A2M               -0.0581        -0.688        0.5180        -0.432   \n",
       "ACADM             -0.1040         0.404        0.0714         0.272   \n",
       "\n",
       "             TCGA-13-1494  TCGA-13-1495  TCGA-13-1499  TCGA-13-2071  \\\n",
       "hgnc_symbol                                                           \n",
       "A2M                 0.333         0.109        -1.230         0.172   \n",
       "ACADM              -0.369         0.175        -0.295        -0.425   \n",
       "\n",
       "             TCGA-23-1123  TCGA-23-1124  ...  TCGA-61-1900  TCGA-61-1907  \\\n",
       "hgnc_symbol                              ...                               \n",
       "A2M                -1.270       -0.0129  ...         0.225         0.342   \n",
       "ACADM               0.854        0.9590  ...        -0.404        -0.611   \n",
       "\n",
       "             TCGA-61-1911  TCGA-61-1914  TCGA-61-1919  TCGA-61-1995  \\\n",
       "hgnc_symbol                                                           \n",
       "A2M                 0.371        -0.396       -0.0036        -0.591   \n",
       "ACADM               0.309        -0.694       -0.1720         0.180   \n",
       "\n",
       "             TCGA-61-2008  TCGA-61-2095  TCGA-61-2096  TCGA-61-2612  \n",
       "hgnc_symbol                                                          \n",
       "A2M                -0.739          0.91        0.3530         0.350  \n",
       "ACADM               0.409          0.09       -0.0682        -0.775  \n",
       "\n",
       "[2 rows x 84 columns]"
      ]
     },
     "execution_count": 5,
     "metadata": {},
     "output_type": "execute_result"
    }
   ],
   "source": [
    "ov_proteomics_pnnl = ovca_proteomics.loc[:, ovca_proteomics.columns.str.startswith('PNNL')]\n",
    "ov_proteomics_pnnl = ov_proteomics_pnnl.rename(columns = lambda x : str(x)[5:])\n",
    "print(\"Dimensions: \", ov_proteomics_pnnl.shape)\n",
    "ov_proteomics_pnnl[:2]"
   ]
  },
  {
   "cell_type": "markdown",
   "metadata": {},
   "source": [
    "#### Site B: JHU"
   ]
  },
  {
   "cell_type": "code",
   "execution_count": 6,
   "metadata": {
    "scrolled": true
   },
   "outputs": [
    {
     "name": "stdout",
     "output_type": "stream",
     "text": [
      "Dimensions:  (9600, 122)\n"
     ]
    },
    {
     "data": {
      "text/html": [
       "<div>\n",
       "<style scoped>\n",
       "    .dataframe tbody tr th:only-of-type {\n",
       "        vertical-align: middle;\n",
       "    }\n",
       "\n",
       "    .dataframe tbody tr th {\n",
       "        vertical-align: top;\n",
       "    }\n",
       "\n",
       "    .dataframe thead th {\n",
       "        text-align: right;\n",
       "    }\n",
       "</style>\n",
       "<table border=\"1\" class=\"dataframe\">\n",
       "  <thead>\n",
       "    <tr style=\"text-align: right;\">\n",
       "      <th></th>\n",
       "      <th>TCGA-09-1664</th>\n",
       "      <th>TCGA-09-2056</th>\n",
       "      <th>TCGA-13-1404</th>\n",
       "      <th>TCGA-13-1409</th>\n",
       "      <th>TCGA-13-1410</th>\n",
       "      <th>TCGA-13-1482</th>\n",
       "      <th>TCGA-13-1483</th>\n",
       "      <th>TCGA-13-1485</th>\n",
       "      <th>TCGA-13-1487</th>\n",
       "      <th>TCGA-13-1488</th>\n",
       "      <th>...</th>\n",
       "      <th>TCGA-61-1911</th>\n",
       "      <th>TCGA-61-1914</th>\n",
       "      <th>TCGA-61-1915</th>\n",
       "      <th>TCGA-61-1918</th>\n",
       "      <th>TCGA-61-1995</th>\n",
       "      <th>TCGA-61-2008</th>\n",
       "      <th>TCGA-61-2087</th>\n",
       "      <th>TCGA-61-2088</th>\n",
       "      <th>TCGA-61-2094</th>\n",
       "      <th>TCGA-61-2613</th>\n",
       "    </tr>\n",
       "    <tr>\n",
       "      <th>hgnc_symbol</th>\n",
       "      <th></th>\n",
       "      <th></th>\n",
       "      <th></th>\n",
       "      <th></th>\n",
       "      <th></th>\n",
       "      <th></th>\n",
       "      <th></th>\n",
       "      <th></th>\n",
       "      <th></th>\n",
       "      <th></th>\n",
       "      <th></th>\n",
       "      <th></th>\n",
       "      <th></th>\n",
       "      <th></th>\n",
       "      <th></th>\n",
       "      <th></th>\n",
       "      <th></th>\n",
       "      <th></th>\n",
       "      <th></th>\n",
       "      <th></th>\n",
       "      <th></th>\n",
       "    </tr>\n",
       "  </thead>\n",
       "  <tbody>\n",
       "    <tr>\n",
       "      <th>A2M</th>\n",
       "      <td>-0.218250</td>\n",
       "      <td>0.006750</td>\n",
       "      <td>-0.865250</td>\n",
       "      <td>-0.981250</td>\n",
       "      <td>-0.004250</td>\n",
       "      <td>-0.468650</td>\n",
       "      <td>-1.126250</td>\n",
       "      <td>-0.584250</td>\n",
       "      <td>-1.383250</td>\n",
       "      <td>-0.089250</td>\n",
       "      <td>...</td>\n",
       "      <td>0.265750</td>\n",
       "      <td>-0.688250</td>\n",
       "      <td>-0.071250</td>\n",
       "      <td>-0.767250</td>\n",
       "      <td>-0.821250</td>\n",
       "      <td>-0.360550</td>\n",
       "      <td>-1.022250</td>\n",
       "      <td>-1.172250</td>\n",
       "      <td>-0.132250</td>\n",
       "      <td>1.165750</td>\n",
       "    </tr>\n",
       "    <tr>\n",
       "      <th>ACADM</th>\n",
       "      <td>-0.112025</td>\n",
       "      <td>0.306225</td>\n",
       "      <td>0.280225</td>\n",
       "      <td>-0.231775</td>\n",
       "      <td>-0.095525</td>\n",
       "      <td>-0.252775</td>\n",
       "      <td>-0.548775</td>\n",
       "      <td>-0.032575</td>\n",
       "      <td>-0.280775</td>\n",
       "      <td>0.064225</td>\n",
       "      <td>...</td>\n",
       "      <td>0.073225</td>\n",
       "      <td>-0.326775</td>\n",
       "      <td>-1.069775</td>\n",
       "      <td>-0.383775</td>\n",
       "      <td>0.105225</td>\n",
       "      <td>0.365225</td>\n",
       "      <td>-0.277775</td>\n",
       "      <td>0.401225</td>\n",
       "      <td>0.056225</td>\n",
       "      <td>-0.372775</td>\n",
       "    </tr>\n",
       "  </tbody>\n",
       "</table>\n",
       "<p>2 rows × 122 columns</p>\n",
       "</div>"
      ],
      "text/plain": [
       "             TCGA-09-1664  TCGA-09-2056  TCGA-13-1404  TCGA-13-1409  \\\n",
       "hgnc_symbol                                                           \n",
       "A2M             -0.218250      0.006750     -0.865250     -0.981250   \n",
       "ACADM           -0.112025      0.306225      0.280225     -0.231775   \n",
       "\n",
       "             TCGA-13-1410  TCGA-13-1482  TCGA-13-1483  TCGA-13-1485  \\\n",
       "hgnc_symbol                                                           \n",
       "A2M             -0.004250     -0.468650     -1.126250     -0.584250   \n",
       "ACADM           -0.095525     -0.252775     -0.548775     -0.032575   \n",
       "\n",
       "             TCGA-13-1487  TCGA-13-1488  ...  TCGA-61-1911  TCGA-61-1914  \\\n",
       "hgnc_symbol                              ...                               \n",
       "A2M             -1.383250     -0.089250  ...      0.265750     -0.688250   \n",
       "ACADM           -0.280775      0.064225  ...      0.073225     -0.326775   \n",
       "\n",
       "             TCGA-61-1915  TCGA-61-1918  TCGA-61-1995  TCGA-61-2008  \\\n",
       "hgnc_symbol                                                           \n",
       "A2M             -0.071250     -0.767250     -0.821250     -0.360550   \n",
       "ACADM           -1.069775     -0.383775      0.105225      0.365225   \n",
       "\n",
       "             TCGA-61-2087  TCGA-61-2088  TCGA-61-2094  TCGA-61-2613  \n",
       "hgnc_symbol                                                          \n",
       "A2M             -1.022250     -1.172250     -0.132250      1.165750  \n",
       "ACADM           -0.277775      0.401225      0.056225     -0.372775  \n",
       "\n",
       "[2 rows x 122 columns]"
      ]
     },
     "execution_count": 6,
     "metadata": {},
     "output_type": "execute_result"
    }
   ],
   "source": [
    "ov_proteomics_jhu = ovca_proteomics.loc[:, ovca_proteomics.columns.str.startswith('JHU')]\n",
    "ov_proteomics_jhu = ov_proteomics_jhu.rename(columns = lambda x : str(x)[4:])\n",
    "print(\"Dimensions: \", ov_proteomics_jhu.shape)\n",
    "ov_proteomics_jhu[:2]"
   ]
  },
  {
   "cell_type": "code",
   "execution_count": 7,
   "metadata": {},
   "outputs": [],
   "source": [
    "# Run the data by the standardised pipeline to obtain processed values for protein measurements \n",
    "common_samples = standardised_pipeline_utils.get_common_samples(ov_proteomics_jhu, ov_proteomics_pnnl)\n",
    "ov_proteomics_jhu_processed = ov_proteomics_jhu[common_samples]\n",
    "ov_proteomics_pnnl_processed = ov_proteomics_pnnl[common_samples]"
   ]
  },
  {
   "cell_type": "code",
   "execution_count": 8,
   "metadata": {},
   "outputs": [
    {
     "name": "stdout",
     "output_type": "stream",
     "text": [
      "Dimensions:  (5947, 32)\n",
      "Dimensions:  (7129, 32)\n"
     ]
    }
   ],
   "source": [
    "ov_proteomics_pnnl_processed = standardised_pipeline_utils.process(ov_proteomics_pnnl_processed)\n",
    "ov_proteomics_jhu_processed = standardised_pipeline_utils.process(ov_proteomics_jhu_processed)"
   ]
  },
  {
   "cell_type": "code",
   "execution_count": 9,
   "metadata": {},
   "outputs": [],
   "source": [
    "def plot_venn(set1, set2, ax, title, labels):\n",
    "    plot = venn2([set1, set2], ax=ax, set_colors=['#ddaa33', '#004488'], set_labels=labels)\n",
    "    for text in plot.set_labels:\n",
    "        text.set_fontsize(14)\n",
    "    for text in plot.subset_labels:\n",
    "        text.set_fontsize(14)\n",
    "    ax.set_title(title)\n",
    "    plt.show()\n",
    "    \n",
    "sample_title = '# of Samples'\n",
    "proteins_title = '# of Proteins'"
   ]
  },
  {
   "cell_type": "code",
   "execution_count": 10,
   "metadata": {},
   "outputs": [
    {
     "data": {
      "image/png": "[encoded data removed]",
      "text/plain": [
       "<Figure size 640x480 with 2 Axes>"
      ]
     },
     "metadata": {},
     "output_type": "display_data"
    }
   ],
   "source": [
    "labels=['JHU', 'PNNL']\n",
    "figure, axes = plt.subplots(1,2)\n",
    "plot_venn(set(ov_proteomics_jhu.columns), set(ov_proteomics_pnnl.columns), axes[0], sample_title, labels)\n",
    "plot_venn(set(ov_proteomics_jhu_processed.index), set(ov_proteomics_pnnl_processed.index), axes[1], proteins_title, labels)"
   ]
  },
  {
   "cell_type": "code",
   "execution_count": 11,
   "metadata": {},
   "outputs": [
    {
     "name": "stdout",
     "output_type": "stream",
     "text": [
      "Median Spearman Correlation:  0.5742\n"
     ]
    }
   ],
   "source": [
    "# compute correlation for replicate proteomic profiles and eliminate gene symbols read as dates\n",
    "correlation_ov_replicates = standardised_pipeline_utils.correlate_genewise( \\\n",
    "                                                                         ov_proteomics_pnnl_processed, \n",
    "                                                                         ov_proteomics_jhu_processed, \n",
    "                                                                           'Ovarian (JHU-PNNL)')"
   ]
  },
  {
   "cell_type": "markdown",
   "metadata": {},
   "source": [
    "### Colon Proteomic Replicates"
   ]
  },
  {
   "cell_type": "markdown",
   "metadata": {},
   "source": [
    "#### MS technique : TMT"
   ]
  },
  {
   "cell_type": "code",
   "execution_count": 12,
   "metadata": {},
   "outputs": [
    {
     "name": "stdout",
     "output_type": "stream",
     "text": [
      "Dimensions:  (6422, 96)\n"
     ]
    },
    {
     "data": {
      "text/html": [
       "<div>\n",
       "<style scoped>\n",
       "    .dataframe tbody tr th:only-of-type {\n",
       "        vertical-align: middle;\n",
       "    }\n",
       "\n",
       "    .dataframe tbody tr th {\n",
       "        vertical-align: top;\n",
       "    }\n",
       "\n",
       "    .dataframe thead th {\n",
       "        text-align: right;\n",
       "    }\n",
       "</style>\n",
       "<table border=\"1\" class=\"dataframe\">\n",
       "  <thead>\n",
       "    <tr style=\"text-align: right;\">\n",
       "      <th></th>\n",
       "      <th>01CO005</th>\n",
       "      <th>01CO006</th>\n",
       "      <th>01CO008</th>\n",
       "      <th>01CO013</th>\n",
       "      <th>01CO014</th>\n",
       "      <th>01CO015</th>\n",
       "      <th>01CO019</th>\n",
       "      <th>01CO022</th>\n",
       "      <th>05CO002</th>\n",
       "      <th>05CO003</th>\n",
       "      <th>...</th>\n",
       "      <th>20CO001</th>\n",
       "      <th>20CO003</th>\n",
       "      <th>20CO004</th>\n",
       "      <th>20CO006</th>\n",
       "      <th>20CO007</th>\n",
       "      <th>21CO006</th>\n",
       "      <th>21CO007</th>\n",
       "      <th>22CO004</th>\n",
       "      <th>22CO006</th>\n",
       "      <th>27CO004</th>\n",
       "    </tr>\n",
       "    <tr>\n",
       "      <th>attrib_name</th>\n",
       "      <th></th>\n",
       "      <th></th>\n",
       "      <th></th>\n",
       "      <th></th>\n",
       "      <th></th>\n",
       "      <th></th>\n",
       "      <th></th>\n",
       "      <th></th>\n",
       "      <th></th>\n",
       "      <th></th>\n",
       "      <th></th>\n",
       "      <th></th>\n",
       "      <th></th>\n",
       "      <th></th>\n",
       "      <th></th>\n",
       "      <th></th>\n",
       "      <th></th>\n",
       "      <th></th>\n",
       "      <th></th>\n",
       "      <th></th>\n",
       "      <th></th>\n",
       "    </tr>\n",
       "  </thead>\n",
       "  <tbody>\n",
       "    <tr>\n",
       "      <th>A1BG</th>\n",
       "      <td>-1.672</td>\n",
       "      <td>-2.1500</td>\n",
       "      <td>-1.786</td>\n",
       "      <td>-2.115</td>\n",
       "      <td>-1.793</td>\n",
       "      <td>-2.526</td>\n",
       "      <td>-1.441</td>\n",
       "      <td>1.047</td>\n",
       "      <td>-1.878</td>\n",
       "      <td>-0.294</td>\n",
       "      <td>...</td>\n",
       "      <td>0.297</td>\n",
       "      <td>0.005</td>\n",
       "      <td>-3.390</td>\n",
       "      <td>-1.6480</td>\n",
       "      <td>-1.72</td>\n",
       "      <td>0.038</td>\n",
       "      <td>-1.952</td>\n",
       "      <td>-1.3342</td>\n",
       "      <td>-0.069</td>\n",
       "      <td>-2.6020</td>\n",
       "    </tr>\n",
       "    <tr>\n",
       "      <th>A1CF</th>\n",
       "      <td>-0.340</td>\n",
       "      <td>-0.3476</td>\n",
       "      <td>-0.124</td>\n",
       "      <td>-0.197</td>\n",
       "      <td>-0.730</td>\n",
       "      <td>NaN</td>\n",
       "      <td>-0.103</td>\n",
       "      <td>-1.126</td>\n",
       "      <td>0.507</td>\n",
       "      <td>-1.657</td>\n",
       "      <td>...</td>\n",
       "      <td>-0.097</td>\n",
       "      <td>-1.693</td>\n",
       "      <td>0.985</td>\n",
       "      <td>0.9395</td>\n",
       "      <td>NaN</td>\n",
       "      <td>-0.877</td>\n",
       "      <td>0.777</td>\n",
       "      <td>0.1120</td>\n",
       "      <td>-0.519</td>\n",
       "      <td>0.1017</td>\n",
       "    </tr>\n",
       "  </tbody>\n",
       "</table>\n",
       "<p>2 rows × 96 columns</p>\n",
       "</div>"
      ],
      "text/plain": [
       "             01CO005  01CO006  01CO008  01CO013  01CO014  01CO015  01CO019  \\\n",
       "attrib_name                                                                  \n",
       "A1BG          -1.672  -2.1500   -1.786   -2.115   -1.793   -2.526   -1.441   \n",
       "A1CF          -0.340  -0.3476   -0.124   -0.197   -0.730      NaN   -0.103   \n",
       "\n",
       "             01CO022  05CO002  05CO003  ...  20CO001  20CO003  20CO004  \\\n",
       "attrib_name                             ...                              \n",
       "A1BG           1.047   -1.878   -0.294  ...    0.297    0.005   -3.390   \n",
       "A1CF          -1.126    0.507   -1.657  ...   -0.097   -1.693    0.985   \n",
       "\n",
       "             20CO006  20CO007  21CO006  21CO007  22CO004  22CO006  27CO004  \n",
       "attrib_name                                                                 \n",
       "A1BG         -1.6480    -1.72    0.038   -1.952  -1.3342   -0.069  -2.6020  \n",
       "A1CF          0.9395      NaN   -0.877    0.777   0.1120   -0.519   0.1017  \n",
       "\n",
       "[2 rows x 96 columns]"
      ]
     },
     "execution_count": 12,
     "metadata": {},
     "output_type": "execute_result"
    }
   ],
   "source": [
    "colon_proteomics_tmt = pd.read_csv(file_colon_proteomics_tmt, sep='\\t', index_col='attrib_name')\n",
    "print(\"Dimensions: \", colon_proteomics_tmt.shape)\n",
    "colon_proteomics_tmt[:2]"
   ]
  },
  {
   "cell_type": "markdown",
   "metadata": {},
   "source": [
    "#### MS technique : LF"
   ]
  },
  {
   "cell_type": "code",
   "execution_count": 13,
   "metadata": {},
   "outputs": [
    {
     "name": "stdout",
     "output_type": "stream",
     "text": [
      "Dimensions:  (3388, 100)\n"
     ]
    },
    {
     "data": {
      "text/html": [
       "<div>\n",
       "<style scoped>\n",
       "    .dataframe tbody tr th:only-of-type {\n",
       "        vertical-align: middle;\n",
       "    }\n",
       "\n",
       "    .dataframe tbody tr th {\n",
       "        vertical-align: top;\n",
       "    }\n",
       "\n",
       "    .dataframe thead th {\n",
       "        text-align: right;\n",
       "    }\n",
       "</style>\n",
       "<table border=\"1\" class=\"dataframe\">\n",
       "  <thead>\n",
       "    <tr style=\"text-align: right;\">\n",
       "      <th></th>\n",
       "      <th>01CO006</th>\n",
       "      <th>01CO008</th>\n",
       "      <th>05CO004</th>\n",
       "      <th>05CO006</th>\n",
       "      <th>05CO007</th>\n",
       "      <th>05CO011</th>\n",
       "      <th>05CO015</th>\n",
       "      <th>05CO020</th>\n",
       "      <th>05CO028</th>\n",
       "      <th>05CO029</th>\n",
       "      <th>...</th>\n",
       "      <th>11CO061</th>\n",
       "      <th>11CO044</th>\n",
       "      <th>05CO045</th>\n",
       "      <th>11CO021</th>\n",
       "      <th>11CO047</th>\n",
       "      <th>11CO022</th>\n",
       "      <th>09CO014</th>\n",
       "      <th>09CO015</th>\n",
       "      <th>09CO018</th>\n",
       "      <th>09CO019</th>\n",
       "    </tr>\n",
       "    <tr>\n",
       "      <th>attrib_name</th>\n",
       "      <th></th>\n",
       "      <th></th>\n",
       "      <th></th>\n",
       "      <th></th>\n",
       "      <th></th>\n",
       "      <th></th>\n",
       "      <th></th>\n",
       "      <th></th>\n",
       "      <th></th>\n",
       "      <th></th>\n",
       "      <th></th>\n",
       "      <th></th>\n",
       "      <th></th>\n",
       "      <th></th>\n",
       "      <th></th>\n",
       "      <th></th>\n",
       "      <th></th>\n",
       "      <th></th>\n",
       "      <th></th>\n",
       "      <th></th>\n",
       "      <th></th>\n",
       "    </tr>\n",
       "  </thead>\n",
       "  <tbody>\n",
       "    <tr>\n",
       "      <th>PLEC</th>\n",
       "      <td>7.4886</td>\n",
       "      <td>8.4007</td>\n",
       "      <td>7.8071</td>\n",
       "      <td>7.4886</td>\n",
       "      <td>8.4007</td>\n",
       "      <td>8.1871</td>\n",
       "      <td>7.5941</td>\n",
       "      <td>7.9645</td>\n",
       "      <td>8.4007</td>\n",
       "      <td>8.1871</td>\n",
       "      <td>...</td>\n",
       "      <td>7.5941</td>\n",
       "      <td>7.9645</td>\n",
       "      <td>8.1871</td>\n",
       "      <td>8.1871</td>\n",
       "      <td>7.9645</td>\n",
       "      <td>7.9645</td>\n",
       "      <td>7.5941</td>\n",
       "      <td>8.1871</td>\n",
       "      <td>7.8071</td>\n",
       "      <td>8.0801</td>\n",
       "    </tr>\n",
       "    <tr>\n",
       "      <th>MYH9</th>\n",
       "      <td>7.8071</td>\n",
       "      <td>7.9645</td>\n",
       "      <td>8.1871</td>\n",
       "      <td>7.1891</td>\n",
       "      <td>7.1891</td>\n",
       "      <td>7.8071</td>\n",
       "      <td>7.4886</td>\n",
       "      <td>7.8071</td>\n",
       "      <td>7.5941</td>\n",
       "      <td>7.7023</td>\n",
       "      <td>...</td>\n",
       "      <td>7.4886</td>\n",
       "      <td>7.8071</td>\n",
       "      <td>7.5941</td>\n",
       "      <td>7.5941</td>\n",
       "      <td>7.8071</td>\n",
       "      <td>7.7023</td>\n",
       "      <td>7.4034</td>\n",
       "      <td>7.9645</td>\n",
       "      <td>7.9645</td>\n",
       "      <td>7.8071</td>\n",
       "    </tr>\n",
       "  </tbody>\n",
       "</table>\n",
       "<p>2 rows × 100 columns</p>\n",
       "</div>"
      ],
      "text/plain": [
       "             01CO006  01CO008  05CO004  05CO006  05CO007  05CO011  05CO015  \\\n",
       "attrib_name                                                                  \n",
       "PLEC          7.4886   8.4007   7.8071   7.4886   8.4007   8.1871   7.5941   \n",
       "MYH9          7.8071   7.9645   8.1871   7.1891   7.1891   7.8071   7.4886   \n",
       "\n",
       "             05CO020  05CO028  05CO029  ...  11CO061  11CO044  05CO045  \\\n",
       "attrib_name                             ...                              \n",
       "PLEC          7.9645   8.4007   8.1871  ...   7.5941   7.9645   8.1871   \n",
       "MYH9          7.8071   7.5941   7.7023  ...   7.4886   7.8071   7.5941   \n",
       "\n",
       "             11CO021  11CO047  11CO022  09CO014  09CO015  09CO018  09CO019  \n",
       "attrib_name                                                                 \n",
       "PLEC          8.1871   7.9645   7.9645   7.5941   8.1871   7.8071   8.0801  \n",
       "MYH9          7.5941   7.8071   7.7023   7.4034   7.9645   7.9645   7.8071  \n",
       "\n",
       "[2 rows x 100 columns]"
      ]
     },
     "execution_count": 13,
     "metadata": {},
     "output_type": "execute_result"
    }
   ],
   "source": [
    "colon_proteomics_lf = pd.read_csv(file_colon_proteomics_lf, sep='\\t', index_col='attrib_name')\n",
    "print(\"Dimensions: \", colon_proteomics_lf.shape)\n",
    "colon_proteomics_lf[:2]"
   ]
  },
  {
   "cell_type": "code",
   "execution_count": 14,
   "metadata": {},
   "outputs": [],
   "source": [
    "# Run the data by the standardised pipeline to obtain processed values for protein measurements \n",
    "common_samples = standardised_pipeline_utils.get_common_samples(colon_proteomics_tmt, colon_proteomics_lf)\n",
    "colon_proteomics_tmt_processed = colon_proteomics_tmt[common_samples]\n",
    "colon_proteomics_lf_processed = colon_proteomics_lf[common_samples]"
   ]
  },
  {
   "cell_type": "code",
   "execution_count": 15,
   "metadata": {},
   "outputs": [
    {
     "name": "stdout",
     "output_type": "stream",
     "text": [
      "Dimensions:  (5152, 92)\n",
      "Dimensions:  (3015, 92)\n"
     ]
    }
   ],
   "source": [
    "colon_proteomics_tmt_processed = standardised_pipeline_utils.process(colon_proteomics_tmt_processed)\n",
    "colon_proteomics_lf_processed = standardised_pipeline_utils.process(colon_proteomics_lf_processed)"
   ]
  },
  {
   "cell_type": "code",
   "execution_count": 16,
   "metadata": {},
   "outputs": [
    {
     "data": {
      "image/png": "[encoded data removed]",
      "text/plain": [
       "<Figure size 640x480 with 2 Axes>"
      ]
     },
     "metadata": {},
     "output_type": "display_data"
    }
   ],
   "source": [
    "labels=['MS-TMT', 'MS-LF']\n",
    "figure, axes = plt.subplots(1,2)\n",
    "plot_venn(set(colon_proteomics_tmt_processed.columns), set(colon_proteomics_lf_processed.columns), \n",
    "          axes[0], sample_title, labels)\n",
    "plot_venn(set(colon_proteomics_tmt_processed.index), set(colon_proteomics_lf_processed.index), \n",
    "          axes[1], proteins_title, labels)"
   ]
  },
  {
   "cell_type": "code",
   "execution_count": 17,
   "metadata": {},
   "outputs": [
    {
     "name": "stdout",
     "output_type": "stream",
     "text": [
      "Median Spearman Correlation:  0.2793\n"
     ]
    }
   ],
   "source": [
    "correlation_colon_replicates = standardised_pipeline_utils.correlate_genewise(colon_proteomics_tmt_processed, \n",
    "                                                                               colon_proteomics_lf_processed, \n",
    "                                                                               'Colon (TMT-LF)')"
   ]
  },
  {
   "cell_type": "markdown",
   "metadata": {},
   "source": [
    "### CCLE Proteomic Replicates"
   ]
  },
  {
   "cell_type": "code",
   "execution_count": 18,
   "metadata": {},
   "outputs": [
    {
     "name": "stdout",
     "output_type": "stream",
     "text": [
      "Dimensions:  (10137, 65)\n"
     ]
    },
    {
     "data": {
      "text/html": [
       "<div>\n",
       "<style scoped>\n",
       "    .dataframe tbody tr th:only-of-type {\n",
       "        vertical-align: middle;\n",
       "    }\n",
       "\n",
       "    .dataframe tbody tr th {\n",
       "        vertical-align: top;\n",
       "    }\n",
       "\n",
       "    .dataframe thead th {\n",
       "        text-align: right;\n",
       "    }\n",
       "</style>\n",
       "<table border=\"1\" class=\"dataframe\">\n",
       "  <thead>\n",
       "    <tr style=\"text-align: right;\">\n",
       "      <th></th>\n",
       "      <th>Protein_Id</th>\n",
       "      <th>Description</th>\n",
       "      <th>Group_ID</th>\n",
       "      <th>Uniprot</th>\n",
       "      <th>Uniprot_Acc</th>\n",
       "      <th>TenPx01-R3_Peptides</th>\n",
       "      <th>TenPx02-R3_Peptides</th>\n",
       "      <th>TenPx02-R2_Peptides</th>\n",
       "      <th>TenPx01-R2_Peptides</th>\n",
       "      <th>TenPx02-R1_Peptides</th>\n",
       "      <th>...</th>\n",
       "      <th>JMSU1_URINARY_TRACT_TenPx02-R1</th>\n",
       "      <th>MDAMB468_BREAST_TenPx01-R1</th>\n",
       "      <th>SH4_SKIN_TenPx01-R1</th>\n",
       "      <th>AU565_BREAST_TenPx01-R1</th>\n",
       "      <th>KMRC1_KIDNEY_TenPx01-R1</th>\n",
       "      <th>CAL51_BREAST_TenPx01-R1</th>\n",
       "      <th>RPMI7951_SKIN_TenPx01-R1</th>\n",
       "      <th>RERFLCMS_LUNG_TenPx01-R1</th>\n",
       "      <th>IGR37_SKIN_TenPx01-R1</th>\n",
       "      <th>VMRCRCW_KIDNEY_TenPx01-R1</th>\n",
       "    </tr>\n",
       "    <tr>\n",
       "      <th>Gene_Symbol</th>\n",
       "      <th></th>\n",
       "      <th></th>\n",
       "      <th></th>\n",
       "      <th></th>\n",
       "      <th></th>\n",
       "      <th></th>\n",
       "      <th></th>\n",
       "      <th></th>\n",
       "      <th></th>\n",
       "      <th></th>\n",
       "      <th></th>\n",
       "      <th></th>\n",
       "      <th></th>\n",
       "      <th></th>\n",
       "      <th></th>\n",
       "      <th></th>\n",
       "      <th></th>\n",
       "      <th></th>\n",
       "      <th></th>\n",
       "      <th></th>\n",
       "      <th></th>\n",
       "    </tr>\n",
       "  </thead>\n",
       "  <tbody>\n",
       "    <tr>\n",
       "      <th>SLC12A2</th>\n",
       "      <td>sp|P55011|S12A2_HUMAN</td>\n",
       "      <td>S12A2_HUMAN Solute carrier family 12 member 2</td>\n",
       "      <td>0</td>\n",
       "      <td>S12A2_HUMAN</td>\n",
       "      <td>P55011</td>\n",
       "      <td>18</td>\n",
       "      <td>14</td>\n",
       "      <td>21</td>\n",
       "      <td>19</td>\n",
       "      <td>15</td>\n",
       "      <td>...</td>\n",
       "      <td>-0.286182</td>\n",
       "      <td>2.083943</td>\n",
       "      <td>0.048861</td>\n",
       "      <td>-0.467403</td>\n",
       "      <td>-0.845954</td>\n",
       "      <td>0.760211</td>\n",
       "      <td>-0.865324</td>\n",
       "      <td>0.704605</td>\n",
       "      <td>-0.678402</td>\n",
       "      <td>-1.129256</td>\n",
       "    </tr>\n",
       "    <tr>\n",
       "      <th>KDM1A</th>\n",
       "      <td>sp|O60341|KDM1A_HUMAN</td>\n",
       "      <td>KDM1A_HUMAN Lysine-specific histone demethylas...</td>\n",
       "      <td>1</td>\n",
       "      <td>KDM1A_HUMAN</td>\n",
       "      <td>O60341</td>\n",
       "      <td>28</td>\n",
       "      <td>38</td>\n",
       "      <td>38</td>\n",
       "      <td>23</td>\n",
       "      <td>35</td>\n",
       "      <td>...</td>\n",
       "      <td>0.176277</td>\n",
       "      <td>0.357073</td>\n",
       "      <td>-0.276871</td>\n",
       "      <td>0.170093</td>\n",
       "      <td>-0.576312</td>\n",
       "      <td>0.372726</td>\n",
       "      <td>-0.331901</td>\n",
       "      <td>0.378379</td>\n",
       "      <td>0.058477</td>\n",
       "      <td>-0.314633</td>\n",
       "    </tr>\n",
       "  </tbody>\n",
       "</table>\n",
       "<p>2 rows × 65 columns</p>\n",
       "</div>"
      ],
      "text/plain": [
       "                        Protein_Id  \\\n",
       "Gene_Symbol                          \n",
       "SLC12A2      sp|P55011|S12A2_HUMAN   \n",
       "KDM1A        sp|O60341|KDM1A_HUMAN   \n",
       "\n",
       "                                                   Description  Group_ID  \\\n",
       "Gene_Symbol                                                                \n",
       "SLC12A2          S12A2_HUMAN Solute carrier family 12 member 2         0   \n",
       "KDM1A        KDM1A_HUMAN Lysine-specific histone demethylas...         1   \n",
       "\n",
       "                 Uniprot Uniprot_Acc  TenPx01-R3_Peptides  \\\n",
       "Gene_Symbol                                                 \n",
       "SLC12A2      S12A2_HUMAN      P55011                   18   \n",
       "KDM1A        KDM1A_HUMAN      O60341                   28   \n",
       "\n",
       "             TenPx02-R3_Peptides  TenPx02-R2_Peptides  TenPx01-R2_Peptides  \\\n",
       "Gene_Symbol                                                                  \n",
       "SLC12A2                       14                   21                   19   \n",
       "KDM1A                         38                   38                   23   \n",
       "\n",
       "             TenPx02-R1_Peptides  ...  JMSU1_URINARY_TRACT_TenPx02-R1  \\\n",
       "Gene_Symbol                       ...                                   \n",
       "SLC12A2                       15  ...                       -0.286182   \n",
       "KDM1A                         35  ...                        0.176277   \n",
       "\n",
       "             MDAMB468_BREAST_TenPx01-R1  SH4_SKIN_TenPx01-R1  \\\n",
       "Gene_Symbol                                                    \n",
       "SLC12A2                        2.083943             0.048861   \n",
       "KDM1A                          0.357073            -0.276871   \n",
       "\n",
       "             AU565_BREAST_TenPx01-R1  KMRC1_KIDNEY_TenPx01-R1  \\\n",
       "Gene_Symbol                                                     \n",
       "SLC12A2                    -0.467403                -0.845954   \n",
       "KDM1A                       0.170093                -0.576312   \n",
       "\n",
       "             CAL51_BREAST_TenPx01-R1  RPMI7951_SKIN_TenPx01-R1  \\\n",
       "Gene_Symbol                                                      \n",
       "SLC12A2                     0.760211                 -0.865324   \n",
       "KDM1A                       0.372726                 -0.331901   \n",
       "\n",
       "             RERFLCMS_LUNG_TenPx01-R1  IGR37_SKIN_TenPx01-R1  \\\n",
       "Gene_Symbol                                                    \n",
       "SLC12A2                      0.704605              -0.678402   \n",
       "KDM1A                        0.378379               0.058477   \n",
       "\n",
       "             VMRCRCW_KIDNEY_TenPx01-R1  \n",
       "Gene_Symbol                             \n",
       "SLC12A2                      -1.129256  \n",
       "KDM1A                        -0.314633  \n",
       "\n",
       "[2 rows x 65 columns]"
      ]
     },
     "execution_count": 18,
     "metadata": {},
     "output_type": "execute_result"
    }
   ],
   "source": [
    "ccle_replicates = pd.read_excel(io=file_ccle_proteomic_replicates, sheet_name=\"Replicates Expression\", \n",
    "                                          index_col='Gene_Symbol')\n",
    "print(\"Dimensions: \", ccle_replicates.shape)\n",
    "ccle_replicates[:2]"
   ]
  },
  {
   "cell_type": "code",
   "execution_count": 19,
   "metadata": {},
   "outputs": [],
   "source": [
    "ccle_replicates = ccle_replicates.loc[:, ccle_replicates.columns.str.contains('_TenPx')]\n",
    "r1_measurements = ccle_replicates.loc[:, ccle_replicates.columns.str.contains('-R1')]\n",
    "r2_measurements = ccle_replicates.loc[:, ccle_replicates.columns.str.contains('-R2')]\n",
    "r3_measurements = ccle_replicates.loc[:, ccle_replicates.columns.str.contains('-R3')]"
   ]
  },
  {
   "cell_type": "code",
   "execution_count": 20,
   "metadata": {},
   "outputs": [],
   "source": [
    "r1_measurements = r1_measurements.rename(columns = lambda x : str(x).split('-')[0])\n",
    "r2_measurements = r2_measurements.rename(columns = lambda x : str(x).split('-')[0])\n",
    "r3_measurements = r3_measurements.rename(columns = lambda x : str(x).split('-')[0])"
   ]
  },
  {
   "cell_type": "code",
   "execution_count": 21,
   "metadata": {},
   "outputs": [
    {
     "name": "stdout",
     "output_type": "stream",
     "text": [
      "Dimensions:  (7721, 18)\n",
      "Dimensions:  (7686, 18)\n",
      "Dimensions:  (7411, 18)\n"
     ]
    }
   ],
   "source": [
    "r1_measurements_processed = standardised_pipeline_utils.process(r1_measurements)\n",
    "r2_measurements_processed = standardised_pipeline_utils.process(r2_measurements)\n",
    "r3_measurements_processed = standardised_pipeline_utils.process(r3_measurements)"
   ]
  },
  {
   "cell_type": "code",
   "execution_count": 22,
   "metadata": {},
   "outputs": [
    {
     "name": "stdout",
     "output_type": "stream",
     "text": [
      "R1-R2: \n",
      "Median Spearman Correlation:  0.7049\n",
      "R1-R3: \n",
      "Median Spearman Correlation:  0.7152\n",
      "R2-R3: \n",
      "Median Spearman Correlation:  0.8885\n"
     ]
    }
   ],
   "source": [
    "print('R1-R2: ')\n",
    "correlation_ccle_r1_r2 = standardised_pipeline_utils.correlate_genewise(r1_measurements_processed, \n",
    "                                                                        r2_measurements_processed, 'CCLE (R1-R2)')\n",
    "print('R1-R3: ')\n",
    "correlation_ccle_r1_r3 = standardised_pipeline_utils.correlate_genewise(r1_measurements_processed, \n",
    "                                                                        r3_measurements_processed, 'CCLE (R1-R3)')\n",
    "print('R2-R3: ')\n",
    "correlation_ccle_r2_r3 = standardised_pipeline_utils.correlate_genewise(r2_measurements_processed, \n",
    "                                                                        r3_measurements_processed, 'CCLE (R2-R3)')"
   ]
  },
  {
   "cell_type": "markdown",
   "metadata": {},
   "source": [
    "<div class=\"alert alert-block alert-warning\">\n",
    "<b>Note:</b> The R1-R3 proteomic replicates' median correlation is the median correlation for all the combinations of replicates considered for CCLE proteomics data. Hence, all our further analyses are based on R1-R3 replicates' correlation only when considering CCLE proteomic replicates.</div>"
   ]
  },
  {
   "cell_type": "code",
   "execution_count": 23,
   "metadata": {},
   "outputs": [
    {
     "data": {
      "image/png": "[encoded data removed]",
      "text/plain": [
       "<Figure size 640x480 with 2 Axes>"
      ]
     },
     "metadata": {},
     "output_type": "display_data"
    }
   ],
   "source": [
    "labels=['R1', 'R3']\n",
    "figure, axes = plt.subplots(1,2)\n",
    "plot_venn(set(r1_measurements_processed.columns), set(r3_measurements_processed.columns), \n",
    "          axes[0], sample_title, labels)\n",
    "plot_venn(set(r1_measurements_processed.index), set(r3_measurements_processed.index), \n",
    "          axes[1], proteins_title, labels)"
   ]
  },
  {
   "cell_type": "code",
   "execution_count": 24,
   "metadata": {},
   "outputs": [
    {
     "data": {
      "text/html": [
       "<div>\n",
       "<style scoped>\n",
       "    .dataframe tbody tr th:only-of-type {\n",
       "        vertical-align: middle;\n",
       "    }\n",
       "\n",
       "    .dataframe tbody tr th {\n",
       "        vertical-align: top;\n",
       "    }\n",
       "\n",
       "    .dataframe thead th {\n",
       "        text-align: right;\n",
       "    }\n",
       "</style>\n",
       "<table border=\"1\" class=\"dataframe\">\n",
       "  <thead>\n",
       "    <tr style=\"text-align: right;\">\n",
       "      <th></th>\n",
       "      <th>Ovarian (JHU-PNNL)</th>\n",
       "      <th>Colon (TMT-LF)</th>\n",
       "      <th>CCLE (R1-R3)</th>\n",
       "    </tr>\n",
       "  </thead>\n",
       "  <tbody>\n",
       "    <tr>\n",
       "      <th>A1BG</th>\n",
       "      <td>0.739736</td>\n",
       "      <td>0.256359</td>\n",
       "      <td>NaN</td>\n",
       "    </tr>\n",
       "    <tr>\n",
       "      <th>A2M</th>\n",
       "      <td>0.811584</td>\n",
       "      <td>0.227659</td>\n",
       "      <td>0.541796</td>\n",
       "    </tr>\n",
       "  </tbody>\n",
       "</table>\n",
       "</div>"
      ],
      "text/plain": [
       "      Ovarian (JHU-PNNL)  Colon (TMT-LF)  CCLE (R1-R3)\n",
       "A1BG            0.739736        0.256359           NaN\n",
       "A2M             0.811584        0.227659      0.541796"
      ]
     },
     "execution_count": 24,
     "metadata": {},
     "output_type": "execute_result"
    }
   ],
   "source": [
    "correlation_combined = pd.concat([correlation_ov_replicates, correlation_colon_replicates, correlation_ccle_r1_r3], axis=1)\n",
    "correlation_combined.to_csv(file_proteomic_replicates)\n",
    "correlation_combined[:2]"
   ]
  },
  {
   "cell_type": "markdown",
   "metadata": {},
   "source": [
    "### Identify proteins with high and low proteomic reproducibility across studies"
   ]
  },
  {
   "cell_type": "code",
   "execution_count": 25,
   "metadata": {},
   "outputs": [
    {
     "data": {
      "text/html": [
       "<div>\n",
       "<style scoped>\n",
       "    .dataframe tbody tr th:only-of-type {\n",
       "        vertical-align: middle;\n",
       "    }\n",
       "\n",
       "    .dataframe tbody tr th {\n",
       "        vertical-align: top;\n",
       "    }\n",
       "\n",
       "    .dataframe thead th {\n",
       "        text-align: right;\n",
       "    }\n",
       "</style>\n",
       "<table border=\"1\" class=\"dataframe\">\n",
       "  <thead>\n",
       "    <tr style=\"text-align: right;\">\n",
       "      <th></th>\n",
       "      <th>Ovarian (JHU-PNNL)</th>\n",
       "      <th>Colon (TMT-LF)</th>\n",
       "      <th>CCLE (R1-R3)</th>\n",
       "    </tr>\n",
       "  </thead>\n",
       "  <tbody>\n",
       "    <tr>\n",
       "      <th>A2M</th>\n",
       "      <td>0.811584</td>\n",
       "      <td>0.227659</td>\n",
       "      <td>0.541796</td>\n",
       "    </tr>\n",
       "    <tr>\n",
       "      <th>AAAS</th>\n",
       "      <td>0.626948</td>\n",
       "      <td>0.150363</td>\n",
       "      <td>0.704850</td>\n",
       "    </tr>\n",
       "  </tbody>\n",
       "</table>\n",
       "</div>"
      ],
      "text/plain": [
       "      Ovarian (JHU-PNNL)  Colon (TMT-LF)  CCLE (R1-R3)\n",
       "A2M             0.811584        0.227659      0.541796\n",
       "AAAS            0.626948        0.150363      0.704850"
      ]
     },
     "execution_count": 25,
     "metadata": {},
     "output_type": "execute_result"
    }
   ],
   "source": [
    "proteomic_replicate_correlations = correlation_combined.dropna()\n",
    "proteomic_replicate_correlations[:2]"
   ]
  },
  {
   "cell_type": "code",
   "execution_count": 26,
   "metadata": {},
   "outputs": [
    {
     "data": {
      "text/html": [
       "<div>\n",
       "<style scoped>\n",
       "    .dataframe tbody tr th:only-of-type {\n",
       "        vertical-align: middle;\n",
       "    }\n",
       "\n",
       "    .dataframe tbody tr th {\n",
       "        vertical-align: top;\n",
       "    }\n",
       "\n",
       "    .dataframe thead th {\n",
       "        text-align: right;\n",
       "    }\n",
       "</style>\n",
       "<table border=\"1\" class=\"dataframe\">\n",
       "  <thead>\n",
       "    <tr style=\"text-align: right;\">\n",
       "      <th></th>\n",
       "      <th>Ovarian (JHU-PNNL)</th>\n",
       "      <th>Colon (TMT-LF)</th>\n",
       "      <th>CCLE (R1-R3)</th>\n",
       "    </tr>\n",
       "  </thead>\n",
       "  <tbody>\n",
       "    <tr>\n",
       "      <th>ASS1</th>\n",
       "      <td>0.889663</td>\n",
       "      <td>0.751921</td>\n",
       "      <td>0.876161</td>\n",
       "    </tr>\n",
       "    <tr>\n",
       "      <th>GBP1</th>\n",
       "      <td>0.876833</td>\n",
       "      <td>0.727972</td>\n",
       "      <td>0.896801</td>\n",
       "    </tr>\n",
       "    <tr>\n",
       "      <th>ITGB4</th>\n",
       "      <td>0.843109</td>\n",
       "      <td>0.754737</td>\n",
       "      <td>0.946336</td>\n",
       "    </tr>\n",
       "    <tr>\n",
       "      <th>MCM3</th>\n",
       "      <td>0.807883</td>\n",
       "      <td>0.719578</td>\n",
       "      <td>0.708978</td>\n",
       "    </tr>\n",
       "    <tr>\n",
       "      <th>PRDX5</th>\n",
       "      <td>0.813783</td>\n",
       "      <td>0.712072</td>\n",
       "      <td>0.849329</td>\n",
       "    </tr>\n",
       "    <tr>\n",
       "      <th>WARS</th>\n",
       "      <td>0.859866</td>\n",
       "      <td>0.719839</td>\n",
       "      <td>0.857585</td>\n",
       "    </tr>\n",
       "  </tbody>\n",
       "</table>\n",
       "</div>"
      ],
      "text/plain": [
       "       Ovarian (JHU-PNNL)  Colon (TMT-LF)  CCLE (R1-R3)\n",
       "ASS1             0.889663        0.751921      0.876161\n",
       "GBP1             0.876833        0.727972      0.896801\n",
       "ITGB4            0.843109        0.754737      0.946336\n",
       "MCM3             0.807883        0.719578      0.708978\n",
       "PRDX5            0.813783        0.712072      0.849329\n",
       "WARS             0.859866        0.719839      0.857585"
      ]
     },
     "execution_count": 26,
     "metadata": {},
     "output_type": "execute_result"
    }
   ],
   "source": [
    "proteomic_replicate_correlations[(proteomic_replicate_correlations['Ovarian (JHU-PNNL)'] > 0.7) & \n",
    "                                 (proteomic_replicate_correlations['Colon (TMT-LF)'] > 0.7) &\n",
    "                                 (proteomic_replicate_correlations['CCLE (R1-R3)'] > 0.7)]"
   ]
  },
  {
   "cell_type": "code",
   "execution_count": 27,
   "metadata": {},
   "outputs": [
    {
     "data": {
      "text/html": [
       "<div>\n",
       "<style scoped>\n",
       "    .dataframe tbody tr th:only-of-type {\n",
       "        vertical-align: middle;\n",
       "    }\n",
       "\n",
       "    .dataframe tbody tr th {\n",
       "        vertical-align: top;\n",
       "    }\n",
       "\n",
       "    .dataframe thead th {\n",
       "        text-align: right;\n",
       "    }\n",
       "</style>\n",
       "<table border=\"1\" class=\"dataframe\">\n",
       "  <thead>\n",
       "    <tr style=\"text-align: right;\">\n",
       "      <th></th>\n",
       "      <th>Ovarian (JHU-PNNL)</th>\n",
       "      <th>Colon (TMT-LF)</th>\n",
       "      <th>CCLE (R1-R3)</th>\n",
       "    </tr>\n",
       "  </thead>\n",
       "  <tbody>\n",
       "    <tr>\n",
       "      <th>RPL24</th>\n",
       "      <td>0.095317</td>\n",
       "      <td>0.076987</td>\n",
       "      <td>0.143447</td>\n",
       "    </tr>\n",
       "    <tr>\n",
       "      <th>RPL35</th>\n",
       "      <td>-0.178886</td>\n",
       "      <td>-0.042658</td>\n",
       "      <td>0.093911</td>\n",
       "    </tr>\n",
       "    <tr>\n",
       "      <th>RPL36AL</th>\n",
       "      <td>0.119146</td>\n",
       "      <td>0.089873</td>\n",
       "      <td>-0.073271</td>\n",
       "    </tr>\n",
       "    <tr>\n",
       "      <th>RPS15A</th>\n",
       "      <td>0.160389</td>\n",
       "      <td>-0.017154</td>\n",
       "      <td>0.077399</td>\n",
       "    </tr>\n",
       "    <tr>\n",
       "      <th>RPS29</th>\n",
       "      <td>0.072214</td>\n",
       "      <td>-0.073834</td>\n",
       "      <td>0.180599</td>\n",
       "    </tr>\n",
       "    <tr>\n",
       "      <th>RPS9</th>\n",
       "      <td>0.187168</td>\n",
       "      <td>0.101687</td>\n",
       "      <td>-0.114551</td>\n",
       "    </tr>\n",
       "  </tbody>\n",
       "</table>\n",
       "</div>"
      ],
      "text/plain": [
       "         Ovarian (JHU-PNNL)  Colon (TMT-LF)  CCLE (R1-R3)\n",
       "RPL24              0.095317        0.076987      0.143447\n",
       "RPL35             -0.178886       -0.042658      0.093911\n",
       "RPL36AL            0.119146        0.089873     -0.073271\n",
       "RPS15A             0.160389       -0.017154      0.077399\n",
       "RPS29              0.072214       -0.073834      0.180599\n",
       "RPS9               0.187168        0.101687     -0.114551"
      ]
     },
     "execution_count": 27,
     "metadata": {},
     "output_type": "execute_result"
    }
   ],
   "source": [
    "proteomic_replicate_correlations[(proteomic_replicate_correlations['Ovarian (JHU-PNNL)'] < 0.2) & \n",
    "                                 (proteomic_replicate_correlations['Colon (TMT-LF)'] < 0.2) &\n",
    "                                 (proteomic_replicate_correlations['CCLE (R1-R3)'] < 0.2)]"
   ]
  },
  {
   "cell_type": "markdown",
   "metadata": {},
   "source": [
    "<div class=\"alert alert-block alert-warning\">\n",
    "<b>Note:</b> Choosing proteins GBP1 and RPS29 to indicate the variation in proteomic reproducibility.</div>"
   ]
  },
  {
   "cell_type": "code",
   "execution_count": 28,
   "metadata": {},
   "outputs": [],
   "source": [
    "ov_replicates_combined = pd.concat([ov_proteomics_pnnl_processed.loc[['GBP1', 'RPS29']], \n",
    "                                    ov_proteomics_jhu_processed.loc[['GBP1', 'RPS29']]], \n",
    "                                   axis=0, keys=['PNNL', 'JHU'])\n",
    "\n",
    "ccle_replicates_combined = pd.concat([r1_measurements_processed.loc[['GBP1', 'RPS29']], \n",
    "                                      r3_measurements_processed.loc[['GBP1', 'RPS29']]], \n",
    "                                     axis=0, keys=['R1', 'R3']) \n",
    "\n",
    "colon_replicates_combined = pd.concat([colon_proteomics_tmt_processed.loc[['GBP1', 'RPS29']],\n",
    "                                       colon_proteomics_lf_processed.loc[['GBP1', 'RPS29']]], \n",
    "                                      axis=0, keys=['TMT', 'LF'])                     "
   ]
  },
  {
   "cell_type": "code",
   "execution_count": 29,
   "metadata": {},
   "outputs": [],
   "source": [
    "writer = pd.ExcelWriter(file_selected_proteomic_replicates)\n",
    "ov_replicates_combined.to_excel(writer,'Ovarian replicates')\n",
    "ccle_replicates_combined.to_excel(writer, 'CCLE replicates')\n",
    "colon_replicates_combined.to_excel(writer, 'Colon replicates')\n",
    "writer.save()"
   ]
  }
 ],
 "metadata": {
  "kernelspec": {
   "display_name": "Python 3",
   "language": "python",
   "name": "python3"
  },
  "language_info": {
   "codemirror_mode": {
    "name": "ipython",
    "version": 3
   },
   "file_extension": ".py",
   "mimetype": "text/x-python",
   "name": "python",
   "nbconvert_exporter": "python",
   "pygments_lexer": "ipython3",
   "version": "3.7.10"
  }
 },
 "nbformat": 4,
 "nbformat_minor": 4
}
